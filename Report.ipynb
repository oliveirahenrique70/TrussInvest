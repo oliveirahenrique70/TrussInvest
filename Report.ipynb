{
 "cells": [
  {
   "cell_type": "markdown",
   "metadata": {
    "ExecuteTime": {
     "end_time": "2021-03-11T18:37:51.917443Z",
     "start_time": "2021-03-11T18:37:51.906472Z"
    }
   },
   "source": [
    "<center><h1> Truss Investment </h1></center>\n",
    "<center><h1> Trades Data Analysis Report</h1></center>\n",
    "  \n",
    "### April 2021 \n",
    "---"
   ]
  },
  {
   "cell_type": "code",
   "execution_count": 44,
   "metadata": {
    "ExecuteTime": {
     "end_time": "2021-04-30T14:22:37.979537Z",
     "start_time": "2021-04-30T14:22:37.962583Z"
    }
   },
   "outputs": [],
   "source": [
    "##### LIBRARIES AND FUNCTIONS#####\n",
    "\n",
    "# Load libraries\n",
    "import pandas as pd\n",
    "import ipywidgets as widgets\n",
    "from ipywidgets import Layout, interact, interactive\n",
    "from IPython.display import clear_output, display, HTML\n",
    "import datetime as dt\n",
    "from datetime import datetime, date\n",
    "import plotly.express as px\n",
    "import plotly.graph_objects as go\n",
    "from tkinter import messagebox  \n",
    "\n",
    "# Import functions\n",
    "from functions import *\n",
    "      \n",
    "# Display options \n",
    "pd.set_option('display.max_rows', 500) # all rows\n",
    "pd.options.mode.chained_assignment = None # spress warning\n",
    "pd.set_option('display.float_format', lambda x: '%.3f' % x)"
   ]
  },
  {
   "cell_type": "code",
   "execution_count": 45,
   "metadata": {
    "ExecuteTime": {
     "end_time": "2021-04-30T14:22:38.073286Z",
     "start_time": "2021-04-30T14:22:37.980534Z"
    }
   },
   "outputs": [],
   "source": [
    "##### READ DATASETS #####\n",
    "\n",
    "# Get trades dataset list\n",
    "dfs_list = Get_Trades()\n",
    "\n",
    "# Read receipt df\n",
    "BR_receipt = pd.read_csv('BR Receipt.csv')\n",
    "US_futures_receipt = pd.read_csv('US Futures Receipt.csv')\n",
    "all_trades = pd.read_csv('All Trades Receipt.csv')"
   ]
  },
  {
   "cell_type": "code",
   "execution_count": 46,
   "metadata": {
    "ExecuteTime": {
     "end_time": "2021-04-30T14:22:38.152491Z",
     "start_time": "2021-04-30T14:22:38.075281Z"
    }
   },
   "outputs": [],
   "source": [
    "##### DATE PICKER #####\n",
    "\n",
    "# Get start and end date\n",
    "today = date.today()\n",
    "begin_date = dt.datetime(2020, 7, 1).date()\n",
    "\n",
    "# Create begin date picker\n",
    "begin_period = widgets.DatePicker(description='Start:',\n",
    "                                 value = begin_date)\n",
    "\n",
    "# Create end date picker\n",
    "end_period = widgets.DatePicker(description='End:',\n",
    "                               value = today)"
   ]
  },
  {
   "cell_type": "code",
   "execution_count": 47,
   "metadata": {
    "ExecuteTime": {
     "end_time": "2021-04-30T14:22:38.261191Z",
     "start_time": "2021-04-30T14:22:38.154475Z"
    }
   },
   "outputs": [],
   "source": [
    "# Function to get data for BR_trades\n",
    "def Trade_Select(trade):\n",
    "    \n",
    "    for i in range(0, len(dfs_list)):\n",
    "        \n",
    "        if (dfs_list[i]['Ticker'][0] == trade):\n",
    "            \n",
    "            return(dfs_list[i])"
   ]
  },
  {
   "cell_type": "code",
   "execution_count": 48,
   "metadata": {
    "ExecuteTime": {
     "end_time": "2021-04-30T14:22:38.369384Z",
     "start_time": "2021-04-30T14:22:38.266174Z"
    }
   },
   "outputs": [],
   "source": [
    "##### BRAZIL TRADES DROPDOWN MENU #####\n",
    "\n",
    "# Create dropdown menu to selct trade\n",
    "BR_trade_dropdown = interactive(Trade_Select,\n",
    "                                trade = widgets.Combobox(\n",
    "                                    options= ['DOLG21',\n",
    "                                              'DOLQ20',\n",
    "                                              'DOLU20',\n",
    "                                              'INDG21',\n",
    "                                              'INDJ21',\n",
    "                                              'INDM21',\n",
    "                                              'ISPH21',\n",
    "                                              'ISPM21',\n",
    "                                              'ISPU20',\n",
    "                                              'ISPU21',\n",
    "                                              'ISPZ20',\n",
    "                                              'WDOF21',\n",
    "                                              'WDOG21',\n",
    "                                              'WDOJ21',\n",
    "                                              'WDOK21',\n",
    "                                              'WDOM21',\n",
    "                                              'WDOQ20',\n",
    "                                              'WDOU20',\n",
    "                                              'WING21',\n",
    "                                              'WINJ21',\n",
    "                                              'WINM21',\n",
    "                                              'WSPH21',\n",
    "                                              'WSPM21',\n",
    "                                              'WSPU20',\n",
    "                                              'WSPZ20'],\n",
    "                                    description=\"Trade:\")\n",
    "                               )"
   ]
  },
  {
   "cell_type": "code",
   "execution_count": 49,
   "metadata": {
    "ExecuteTime": {
     "end_time": "2021-04-30T14:22:38.495132Z",
     "start_time": "2021-04-30T14:22:38.370355Z"
    }
   },
   "outputs": [],
   "source": [
    "##### BRAZIL TRADES OPERATIONAL CHECKBOX #####\n",
    "\n",
    "# Create vector with operations\n",
    "data = [\"Buy Quant\", \"Buy Price\", \"Sell Quant\", \"Sell Price\", \"Px Close\"]\n",
    "\n",
    "# Create checkbox operations\n",
    "BR_checkboxes_operation = [widgets.Checkbox(value=True, indent=False, description=label) for label in data]\n",
    "\n",
    "# Create checkbox operations horizontal box\n",
    "BR_hbox_operation = widgets.HBox(children=BR_checkboxes_operation, layout=Layout(width='600px'))"
   ]
  },
  {
   "cell_type": "code",
   "execution_count": 50,
   "metadata": {
    "ExecuteTime": {
     "end_time": "2021-04-30T14:22:38.603251Z",
     "start_time": "2021-04-30T14:22:38.496130Z"
    }
   },
   "outputs": [],
   "source": [
    "##### BRAZIL TRADES FINANCIAL CHECKBOX #####\n",
    "\n",
    "# Create vector with financial\n",
    "data = [\"Hold Pos\", \"MtoM P&L\", \"Gross P&L\", \"Comm\", \"Exc Fee\", \"Net P&L\"]\n",
    "\n",
    "# Create checkbox financial\n",
    "BR_checkboxes_financial = [widgets.Checkbox(value=True, indent=False, description=label) for label in data]\n",
    "\n",
    "# Create checkbox financial horizontal box\n",
    "BR_hbox_financial = widgets.HBox(children=BR_checkboxes_financial, layout=Layout(width='700px'))"
   ]
  },
  {
   "cell_type": "code",
   "execution_count": 51,
   "metadata": {
    "ExecuteTime": {
     "end_time": "2021-04-30T14:22:38.712602Z",
     "start_time": "2021-04-30T14:22:38.605245Z"
    }
   },
   "outputs": [],
   "source": [
    "##### BRAZIL TRADES BUTTONS #####\n",
    "\n",
    "# Create button and output\n",
    "BR_trades_button = Button_Sumbmit()\n",
    "\n",
    "# Create button output\n",
    "BR_trades_output = widgets.Output()\n",
    "\n",
    "# Create button and output\n",
    "BR_trades_clean = Button_Clean()\n",
    "\n",
    "# Create button output\n",
    "BR_trades_output_clean = widgets.Output()\n",
    "\n",
    "# Unite buttons\n",
    "BR_trades_ui = widgets.HBox([BR_trades_button, BR_trades_clean])"
   ]
  },
  {
   "cell_type": "code",
   "execution_count": 52,
   "metadata": {
    "ExecuteTime": {
     "end_time": "2021-04-30T14:22:38.977847Z",
     "start_time": "2021-04-30T14:22:38.714608Z"
    }
   },
   "outputs": [],
   "source": [
    "##### BRAZIL TRADES BUTTONS FUNCTIONS #####\n",
    "\n",
    "# Create button clicked function\n",
    "def BR_Trades_Clicked(b):  \n",
    "    with BR_trades_output:\n",
    "        \n",
    "        # Clean output\n",
    "        clear_output()\n",
    "        \n",
    "        if (BR_trade_dropdown.result is None):\n",
    "            \n",
    "            # Display warning message box\n",
    "            Warning_Message()\n",
    "       \n",
    "        else:\n",
    "        \n",
    "            # Create selected_data list\n",
    "            selected_data = []\n",
    "        \n",
    "            # Fixede variables\n",
    "            fixed = ['Date', 'Ticker']\n",
    "        \n",
    "            # Add fixed variables\n",
    "            selected_data = selected_data + fixed\n",
    "                    \n",
    "            # Loop operation filter\n",
    "            for i in range(0, len(BR_checkboxes_operation)):\n",
    "                    if BR_checkboxes_operation[i].value == True:\n",
    "                        selected_data = selected_data + [BR_checkboxes_operation[i].description]\n",
    "        \n",
    "            # Loop financial filter\n",
    "            for j in range(0, len(BR_checkboxes_financial)):\n",
    "                    if BR_checkboxes_financial[j].value == True:\n",
    "                        selected_data = selected_data + [BR_checkboxes_financial[j].description]\n",
    "                    \n",
    "            # Create trade dataframe\n",
    "            df = BR_trade_dropdown.result\n",
    "            \n",
    "            # Round values\n",
    "            df = df.round({'Px Close':2, 'Sell Price':2, 'Buy Price': 2, 'Exc Fee':2, 'MtoM P&L':2, 'Gross P&L': 2, 'Net P&L': 2, 'Comm': 2})\n",
    "        \n",
    "            # Change columns type\n",
    "            df = df.astype({'Sell Quant': int, 'Buy Quant': int, 'Hold Pos': int})\n",
    "        \n",
    "            # Filter data\n",
    "            df = df[selected_data] \n",
    "               \n",
    "            # Transform into date type\n",
    "            df['Date'] = pd.to_datetime(df['Date'], format='%d/%m/%Y')\n",
    "        \n",
    "            # Apply filter\n",
    "            df = df[(df['Date'] >= pd.Timestamp(begin_period.value)) &  (df['Date'] <= pd.Timestamp(end_period.value))]   \n",
    "        \n",
    "            # Sort by date\n",
    "            df = df.sort_values(by = 'Date')\n",
    "        \n",
    "            # Refine date\n",
    "            df['Date'] = df['Date'].dt.strftime('%d/%m/%Y')\n",
    "\n",
    "            # Reset index\n",
    "            df = df.reset_index(drop = True)\n",
    "        \n",
    "            #Create red columns vector\n",
    "            red_col = ['MtoM P&L' , 'Gross P&L', 'Net P&L', 'Hold Pos']\n",
    "       \n",
    "            # Create auxiliar variable\n",
    "            aux = []\n",
    "        \n",
    "            # Loop to define red columns\n",
    "            for i in range(0,len(red_col)):\n",
    "                if(red_col[i] in df.columns):\n",
    "                    aux.append(red_col[i])\n",
    "                    \n",
    "            if aux == []:\n",
    "                \n",
    "                # Print result (without red columns)\n",
    "                display(df.style.set_precision(2))\n",
    "                \n",
    "            else:\n",
    "            \n",
    "                # Print result (with red columns)\n",
    "                display(df.style.applymap(color_negative_red, subset=pd.IndexSlice[:, aux]).set_precision(2))\n",
    "            \n",
    "# Create clean button function\n",
    "def BR_Trades_Clean_Clicked(b):  \n",
    "    with BR_trades_output_clean:\n",
    "        \n",
    "        # Clean output\n",
    "        BR_trades_output.clear_output()"
   ]
  },
  {
   "cell_type": "code",
   "execution_count": 53,
   "metadata": {
    "ExecuteTime": {
     "end_time": "2021-04-30T14:22:39.086977Z",
     "start_time": "2021-04-30T14:22:38.980576Z"
    }
   },
   "outputs": [],
   "source": [
    "##### BRAZIL TRADES TABLE ON BUTTON CLIKED #####\n",
    "\n",
    "# On button click\n",
    "BR_trades_button.on_click(BR_Trades_Clicked)\n",
    "BR_trades_clean.on_click(BR_Trades_Clean_Clicked)"
   ]
  },
  {
   "cell_type": "code",
   "execution_count": 54,
   "metadata": {
    "ExecuteTime": {
     "end_time": "2021-04-30T14:22:39.196880Z",
     "start_time": "2021-04-30T14:22:39.088923Z"
    }
   },
   "outputs": [],
   "source": [
    "###### BRAZIL TRADES VISUALIZATION BUTTONS #####\n",
    "\n",
    "# Create button and output\n",
    "BR_trades_viz_button = Button_Sumbmit()\n",
    "\n",
    "# Create button output\n",
    "BR_trades_viz_output = widgets.Output()\n",
    "\n",
    "# Create button and output\n",
    "BR_trades_viz_clean = Button_Clean()\n",
    "\n",
    "# Create button output\n",
    "BR_trades_viz_output_clean = widgets.Output()\n",
    "\n",
    "# Unite buttons\n",
    "BR_trades_viz_ui = widgets.HBox([BR_trades_viz_button, BR_trades_viz_clean])"
   ]
  },
  {
   "cell_type": "code",
   "execution_count": 55,
   "metadata": {
    "ExecuteTime": {
     "end_time": "2021-04-30T14:22:39.289570Z",
     "start_time": "2021-04-30T14:22:39.197877Z"
    }
   },
   "outputs": [],
   "source": [
    "##### BRAZIL TRADES VISUALIZATION BUTTONS FUNCTIONS #####\n",
    "\n",
    "# Create button clicked function\n",
    "def BR_Trades_Viz_Clicked(b):  \n",
    "    with BR_trades_viz_output:\n",
    "        \n",
    "        # Clean output\n",
    "        clear_output()\n",
    " \n",
    "        # Create trade dataframe\n",
    "        df = BR_trade_dropdown.result\n",
    "        \n",
    "        # Transform into date type\n",
    "        df['Date'] = pd.to_datetime(df['Date'], format='%d/%m/%Y')\n",
    "        \n",
    "        # Apply filter\n",
    "        df = df[(df['Date'] >= pd.Timestamp(begin_period.value)) &  (df['Date'] <= pd.Timestamp(end_period.value))]   \n",
    "        \n",
    "        # Transform df format\n",
    "        df_plot = pd.melt(df[['Buy Quant', 'Sell Quant']])\n",
    "\n",
    "        # Concat Date\n",
    "        df_plot['Date'] = pd.concat([df['Date'], df['Date']]).reset_index(drop = True)\n",
    "        \n",
    "        # Concat Px Close Diff\n",
    "        df_plot['Px Close Diff'] = pd.concat([abs(df['Px Close'].diff()), abs(df['Px Close'].diff())]).reset_index(drop = True)\n",
    "        \n",
    "        # Plot graph\n",
    "        fig = px.bar(df_plot, x= \"Date\", y= \"value\", color= \"variable\", title= 'The plot shows trade ') \n",
    "\n",
    "        # Update fig layout\n",
    "        fig.update_layout(barmode= 'group')\n",
    "        fig.update_yaxes(title='')\n",
    "        \n",
    "        # Add close price difference\n",
    "        fig.add_trace(go.Scatter(mode= \"lines\", x= df_plot[\"Date\"], y= df_plot[\"Px Close Diff\"], name= \"Close Variance\"))\n",
    "        \n",
    "        # Plot graph\n",
    "        fig.show()\n",
    "        \n",
    "# Create clean button function\n",
    "def BR_Trades_Viz_Clean_Clicked(b):  \n",
    "    with BR_trades_viz_output_clean:\n",
    "        \n",
    "        # Clean output\n",
    "        BR_trades_viz_output.clear_output()"
   ]
  },
  {
   "cell_type": "code",
   "execution_count": 56,
   "metadata": {
    "ExecuteTime": {
     "end_time": "2021-04-30T14:22:39.414650Z",
     "start_time": "2021-04-30T14:22:39.291598Z"
    }
   },
   "outputs": [],
   "source": [
    "##### BRAZIL TRADES VISUALIZATION ON BUTTON CLIKED #####\n",
    "\n",
    "# On button click\n",
    "BR_trades_viz_button.on_click(BR_Trades_Viz_Clicked)\n",
    "BR_trades_viz_clean.on_click(BR_Trades_Viz_Clean_Clicked)"
   ]
  },
  {
   "cell_type": "code",
   "execution_count": 57,
   "metadata": {
    "ExecuteTime": {
     "end_time": "2021-04-30T14:22:39.554799Z",
     "start_time": "2021-04-30T14:22:39.416645Z"
    }
   },
   "outputs": [],
   "source": [
    "##### BRAZIL RECEIPT CHECKBOX #####\n",
    "\n",
    "# Create vector with checkbox data\n",
    "data = ['Receipt Value', 'FX Description', 'FX Value', 'FX Rate', 'Comm', 'Exc Fee', 'Reg Fee']\n",
    "\n",
    "# Create checkbox receipt\n",
    "BR_receipt_checkboxes = [widgets.Checkbox(value=True, indent=False, description=label) for label in data]\n",
    "\n",
    "# Create checkbox financial horizontal box\n",
    "BR_receipt_hbox = widgets.HBox(children=BR_receipt_checkboxes, layout=Layout(width='900px'))"
   ]
  },
  {
   "cell_type": "code",
   "execution_count": 58,
   "metadata": {
    "ExecuteTime": {
     "end_time": "2021-04-30T14:22:39.648338Z",
     "start_time": "2021-04-30T14:22:39.555797Z"
    }
   },
   "outputs": [],
   "source": [
    "##### BRAZIL RECEIPT CUMSUM CHECKBOX #####\n",
    "\n",
    "# Create vector with cumsum\n",
    "data = ['Receipt Value Cum Sum', 'FX Value Cum Sum', 'Total Cum Sum', 'Settlement Cum Sum']\n",
    "\n",
    "# Create checkbox cumsum\n",
    "BR_receipt_checkboxes_cumsum = [widgets.Checkbox(value=True, indent=False, description=label) for label in data]\n",
    "\n",
    "# Create checkbox cumsum horizontal box\n",
    "BR_receipt_hbox_cumsum = widgets.HBox(children=BR_receipt_checkboxes_cumsum, layout=Layout(width='700px'))"
   ]
  },
  {
   "cell_type": "code",
   "execution_count": 59,
   "metadata": {
    "ExecuteTime": {
     "end_time": "2021-04-30T14:22:39.742392Z",
     "start_time": "2021-04-30T14:22:39.649339Z"
    }
   },
   "outputs": [],
   "source": [
    "##### BRAZIL RECEIPT BUTTONS #####\n",
    "\n",
    "# Create button and output\n",
    "BR_receipt_button = Button_Sumbmit()\n",
    "\n",
    "# Create button output\n",
    "BR_receipt_output = widgets.Output()\n",
    "\n",
    "# Create button and output\n",
    "BR_receipt_clean = Button_Clean()\n",
    "\n",
    "# Create button output\n",
    "BR_receipt_output_clean = widgets.Output()\n",
    "\n",
    "# Unite buttons\n",
    "BR_receipt_ui = widgets.HBox([BR_receipt_button, BR_receipt_clean])"
   ]
  },
  {
   "cell_type": "code",
   "execution_count": 60,
   "metadata": {
    "ExecuteTime": {
     "end_time": "2021-04-30T14:22:39.820874Z",
     "start_time": "2021-04-30T14:22:39.743392Z"
    }
   },
   "outputs": [],
   "source": [
    "##### BRAZIL RECEIPT BUTTONS FUNCTIONS #####\n",
    "\n",
    "# Create button clicked function\n",
    "def BR_Receipt_Clicked(b):\n",
    "    with BR_receipt_output:\n",
    "        \n",
    "        # Clean output\n",
    "        clear_output()\n",
    "        \n",
    "        # Create receipt dataframe\n",
    "        df = BR_receipt\n",
    "        \n",
    "        # Create selected_data list\n",
    "        selected_data = []\n",
    "        \n",
    "        # Add fixed variables\n",
    "        selected_data = selected_data + ['Date']\n",
    "                    \n",
    "        # Loop operation filter\n",
    "        for i in range(0, len(BR_receipt_checkboxes)):\n",
    "                if BR_receipt_checkboxes[i].value == True:\n",
    "                    selected_data = selected_data + [BR_receipt_checkboxes[i].description]\n",
    "                    \n",
    "        # Loop operation filter\n",
    "        for j in range(0, len(BR_receipt_checkboxes_cumsum)):\n",
    "                if BR_receipt_checkboxes_cumsum[j].value == True:\n",
    "                    selected_data = selected_data + [BR_receipt_checkboxes_cumsum[j].description]\n",
    "                    \n",
    "        # Filter selected data\n",
    "        df = df[selected_data]\n",
    "  \n",
    "        # Transform into date type\n",
    "        df['Date'] = pd.to_datetime(df['Date'], format='%d/%m/%Y')\n",
    "        \n",
    "        # Apply filter\n",
    "        df = df[(df['Date'] >=  pd.Timestamp(begin_period.value)) & (df['Date'] <= pd.Timestamp(end_period.value))] \n",
    "        \n",
    "        # Sort by date\n",
    "        df = df.sort_values(by = 'Date')\n",
    "        \n",
    "        # Refine date\n",
    "        df['Date'] = df['Date'].dt.strftime('%d/%m/%Y')\n",
    "        \n",
    "        # Reset index\n",
    "        df = df.reset_index(drop =True)\n",
    "        \n",
    "        # Red column vector\n",
    "        red_col = ['Receipt Value', 'FX Value', 'Receipt Value Cum Sum', 'FX Value Cum Sum', 'Settlement Cum Sum']\n",
    "        \n",
    "        # Create auxiliar variable\n",
    "        aux = []\n",
    "        \n",
    "        # Loop to define red columns\n",
    "        for i in range(0,len(red_col)):\n",
    "            if(red_col[i] in df.columns):\n",
    "                aux.append(red_col[i])\n",
    "        if aux == []:\n",
    "            \n",
    "            # Print result (without red columns)\n",
    "            display(df.style.set_precision(2))\n",
    "            \n",
    "        else:\n",
    "            \n",
    "            # Print result (with red columns)\n",
    "            display(df.style.applymap(color_negative_red, subset=pd.IndexSlice[:, aux]).set_precision(2))\n",
    "        \n",
    "# Create button clicked function\n",
    "def BR_Receipt_Clean_Clicked(b):\n",
    "    with BR_receipt_output_clean:\n",
    "        \n",
    "        # Clear output_receipt\n",
    "        BR_receipt_output.clear_output()"
   ]
  },
  {
   "cell_type": "code",
   "execution_count": 61,
   "metadata": {
    "ExecuteTime": {
     "end_time": "2021-04-30T14:22:39.898359Z",
     "start_time": "2021-04-30T14:22:39.821876Z"
    }
   },
   "outputs": [],
   "source": [
    "##### BRAZIL RECEIPT ON BUTTON CLIKED #####\n",
    "\n",
    "# On button click\n",
    "BR_receipt_button.on_click(BR_Receipt_Clicked)\n",
    "BR_receipt_clean.on_click(BR_Receipt_Clean_Clicked)"
   ]
  },
  {
   "cell_type": "code",
   "execution_count": 62,
   "metadata": {
    "ExecuteTime": {
     "end_time": "2021-04-30T14:22:39.975454Z",
     "start_time": "2021-04-30T14:22:39.900357Z"
    }
   },
   "outputs": [],
   "source": [
    "##### US TRADES DROPDOWN MENU #####\n",
    "\n",
    "# Create dropdown menu to selct trade\n",
    "US_trade_dropdown = interactive(Trade_Select,\n",
    "                                trade = widgets.Combobox(\n",
    "                                    options= ['6L F21',\n",
    "                                             '6L G21',\n",
    "                                             '6L H21',\n",
    "                                             '6L J21',\n",
    "                                             '6L K21',\n",
    "                                             '6L Q20',\n",
    "                                             '6L U20',\n",
    "                                             '6L V20',\n",
    "                                             '6L X20',\n",
    "                                             '6L Z20',\n",
    "                                             'ES H21',\n",
    "                                             'ES M21',\n",
    "                                             'ES U20',\n",
    "                                             'ES Z20',\n",
    "                                             'MES H21',\n",
    "                                             'MES M21',\n",
    "                                             'MES U20',\n",
    "                                             'MES Z20',\n",
    "                                             'MS',\n",
    "                                             'PBR'],\n",
    "                                    description=\"Trade:\"))"
   ]
  },
  {
   "cell_type": "code",
   "execution_count": 63,
   "metadata": {
    "ExecuteTime": {
     "end_time": "2021-04-30T14:22:40.083734Z",
     "start_time": "2021-04-30T14:22:39.977449Z"
    }
   },
   "outputs": [],
   "source": [
    "##### US TRADES OPERATIONAL CHECKBOX #####\n",
    "\n",
    "# Create vector with operations\n",
    "data = [\"Buy Quant\", \"Buy Price\", \"Sell Quant\", \"Sell Price\", \"Px Close\"]\n",
    "\n",
    "# Create checkbox operations\n",
    "US_checkboxes_operation = [widgets.Checkbox(value=True, indent=False, description=label) for label in data]\n",
    "\n",
    "# Create checkbox operations horizontal box\n",
    "US_hbox_operation = widgets.HBox(children=US_checkboxes_operation, layout=Layout(width='600px'))"
   ]
  },
  {
   "cell_type": "code",
   "execution_count": 64,
   "metadata": {
    "ExecuteTime": {
     "end_time": "2021-04-30T14:22:40.209779Z",
     "start_time": "2021-04-30T14:22:40.084707Z"
    }
   },
   "outputs": [],
   "source": [
    "##### US TRADES FINANCIAL CHECKBOX #####\n",
    "\n",
    "# Create vector with financial\n",
    "data = [\"Hold Pos\", \"MtoM P&L\", \"Gross P&L\", \"Comm\", \"Exc Fee\", \"Net P&L\"]\n",
    "\n",
    "# Create checkbox financial\n",
    "US_checkboxes_financial = [widgets.Checkbox(value=True, indent=False, description=label) for label in data]\n",
    "\n",
    "# Create checkbox financial horizontal box\n",
    "US_hbox_financial = widgets.HBox(children=US_checkboxes_financial, layout=Layout(width='700px'))"
   ]
  },
  {
   "cell_type": "code",
   "execution_count": 65,
   "metadata": {
    "ExecuteTime": {
     "end_time": "2021-04-30T14:22:40.302653Z",
     "start_time": "2021-04-30T14:22:40.210777Z"
    }
   },
   "outputs": [],
   "source": [
    "##### US TRADES BUTTONS #####\n",
    "\n",
    "# Create button and output\n",
    "US_trades_button = Button_Sumbmit()\n",
    "\n",
    "# Create button output\n",
    "US_trades_output = widgets.Output()\n",
    "\n",
    "# Create button and output\n",
    "US_trades_clean = Button_Clean()\n",
    "\n",
    "# Create button output\n",
    "US_trades_output_clean = widgets.Output()\n",
    "\n",
    "# Unite buttons\n",
    "US_trades_ui = widgets.HBox([US_trades_button, US_trades_clean])"
   ]
  },
  {
   "cell_type": "code",
   "execution_count": 66,
   "metadata": {
    "ExecuteTime": {
     "end_time": "2021-04-30T14:22:40.411686Z",
     "start_time": "2021-04-30T14:22:40.306642Z"
    }
   },
   "outputs": [],
   "source": [
    "##### US TRADES BUTTONS FUNCTIONS #####\n",
    "\n",
    "# Create button clicked function\n",
    "def US_Trades_Clicked(b):\n",
    "    with US_trades_output:\n",
    "        \n",
    "        # Clean output\n",
    "        clear_output()\n",
    "\n",
    "        if (US_trade_dropdown.result is None):\n",
    "            \n",
    "            # Display warning message box\n",
    "            Warning_Message()\n",
    "        \n",
    "        else:\n",
    "            # Create selected_data list\n",
    "            selected_data = []\n",
    "\n",
    "            # Fixede variables\n",
    "            fixed = ['Date', 'Ticker']\n",
    "\n",
    "            # Add fixed variables\n",
    "            selected_data = selected_data + fixed\n",
    "\n",
    "            # Loop operation filter\n",
    "            for i in range(0, len(US_checkboxes_operation)):\n",
    "                    if US_checkboxes_operation[i].value == True:\n",
    "                        selected_data = selected_data + [US_checkboxes_operation[i].description]\n",
    "\n",
    "            # Loop financial filter\n",
    "            for j in range(0, len(US_checkboxes_financial)):\n",
    "                    if US_checkboxes_financial[j].value == True:\n",
    "                        selected_data = selected_data + [US_checkboxes_financial[j].description]\n",
    "\n",
    "            # Create trade dataframe\n",
    "            df = US_trade_dropdown.result\n",
    "\n",
    "            # Round values\n",
    "            df = df.round({'Px Close':2, 'Sell Price':2, 'Buy Price': 2, 'Exc Fee':2, 'MtoM P&L':2, 'Gross P&L': 2, 'Net P&L': 2, 'Comm': 2})\n",
    "\n",
    "            # Change columns type\n",
    "            df = df.astype({'Sell Quant': int, 'Buy Quant': int, 'Hold Pos': int})\n",
    "\n",
    "            # Filter data\n",
    "            df = df[selected_data] \n",
    "\n",
    "            # Transform into date type\n",
    "            df['Date'] = pd.to_datetime(df['Date'], format='%d/%m/%Y')\n",
    "\n",
    "            # Apply filter\n",
    "            df = df[(df['Date'] >=  pd.Timestamp(begin_period.value)) & (df['Date'] <= pd.Timestamp(end_period.value))] \n",
    "\n",
    "            # Sort by date\n",
    "            df = df.sort_values(by = 'Date')\n",
    "\n",
    "            # Refine date\n",
    "            df['Date'] = df['Date'].dt.strftime('%d/%m/%Y')\n",
    "\n",
    "            # Reset index\n",
    "            df = df.reset_index(drop =True)\n",
    "\n",
    "            #Create red columns vector\n",
    "            red_col = ['MtoM P&L' , 'Gross P&L', 'Net P&L', 'Hold Pos']\n",
    "\n",
    "            # Create auxiliar variable\n",
    "            aux = []\n",
    "\n",
    "            # Loop to define red columns\n",
    "            for i in range(0,len(red_col)):\n",
    "                if(red_col[i] in df.columns):\n",
    "                    aux.append(red_col[i])\n",
    "            if aux == []:\n",
    "\n",
    "                # Print result (without red columns)\n",
    "                display(df.style.set_precision(2))\n",
    "\n",
    "            else:\n",
    "\n",
    "                # Print result (with red columns)\n",
    "                display(df.style.applymap(color_negative_red, subset=pd.IndexSlice[:, aux]).set_precision(2))\n",
    "        \n",
    "# Create button clicked function\n",
    "def US_Trades_Clean_Clicked(b):\n",
    "    with US_trades_output_clean:\n",
    "        \n",
    "        # Clear output_receipt\n",
    "        US_trades_output.clear_output()"
   ]
  },
  {
   "cell_type": "code",
   "execution_count": 67,
   "metadata": {
    "ExecuteTime": {
     "end_time": "2021-04-30T14:22:40.505415Z",
     "start_time": "2021-04-30T14:22:40.415679Z"
    }
   },
   "outputs": [],
   "source": [
    "##### US TRADES ON BUTTON CLIKED #####\n",
    "\n",
    "# On button click\n",
    "US_trades_button.on_click(US_Trades_Clicked)\n",
    "US_trades_clean.on_click(US_Trades_Clean_Clicked)"
   ]
  },
  {
   "cell_type": "code",
   "execution_count": 68,
   "metadata": {
    "ExecuteTime": {
     "end_time": "2021-04-30T14:22:40.597395Z",
     "start_time": "2021-04-30T14:22:40.507413Z"
    }
   },
   "outputs": [],
   "source": [
    "###### US TRADES VISUALIZATION BUTTONS #####\n",
    "\n",
    "# Create button and output\n",
    "US_trades_viz_button = Button_Sumbmit()\n",
    "\n",
    "# Create button output\n",
    "US_trades_viz_output = widgets.Output()\n",
    "\n",
    "# Create button and output\n",
    "US_trades_viz_clean = Button_Clean()\n",
    "\n",
    "# Create button output\n",
    "US_trades_viz_output_clean = widgets.Output()\n",
    "\n",
    "# Unite buttons\n",
    "US_trades_viz_ui = widgets.HBox([US_trades_viz_button, US_trades_viz_clean])"
   ]
  },
  {
   "cell_type": "code",
   "execution_count": 69,
   "metadata": {
    "ExecuteTime": {
     "end_time": "2021-04-30T14:22:40.707258Z",
     "start_time": "2021-04-30T14:22:40.598394Z"
    }
   },
   "outputs": [],
   "source": [
    "##### US TRADES VISUALIZATION BUTTONS FUNCTIONS #####\n",
    "\n",
    "# Create button clicked function\n",
    "def US_Trades_Viz_Clicked(b):  \n",
    "    with US_trades_viz_output:\n",
    "        \n",
    "        # Clean output\n",
    "        clear_output()\n",
    " \n",
    "        # Create trade dataframe\n",
    "        df = US_trade_dropdown.result\n",
    "        \n",
    "        # Transform into date type\n",
    "        df['Date'] = pd.to_datetime(df['Date'], format='%d/%m/%Y')\n",
    "        \n",
    "        # Apply filter\n",
    "        df = df[(df['Date'] >= pd.Timestamp(begin_period.value)) &  (df['Date'] <= pd.Timestamp(end_period.value))]   \n",
    "        \n",
    "        # Transform df format\n",
    "        df_plot = pd.melt(df[['Buy Quant', 'Sell Quant']])\n",
    "\n",
    "        # Concat Date\n",
    "        df_plot['Date'] = pd.concat([df['Date'], df['Date']]).reset_index(drop = True)\n",
    "        \n",
    "        # Concat Px Close Diff\n",
    "        df_plot['Px Close Diff'] = pd.concat([abs(df['Px Close'].diff()), abs(df['Px Close'].diff())]).reset_index(drop = True)\n",
    "        \n",
    "        # Plot graph\n",
    "        fig = px.bar(df_plot, x= \"Date\", y= \"value\", color= \"variable\", title= 'The plot shows trade ') #+ df['Ticker'][0])\n",
    "\n",
    "        # Update fig layout\n",
    "        fig.update_layout(barmode= 'group')\n",
    "        fig.update_yaxes(title='')\n",
    "        \n",
    "        # Add close price difference\n",
    "        fig.add_trace(go.Scatter(mode= \"lines\", x= df_plot[\"Date\"], y= df_plot[\"Px Close Diff\"], name= \"Close Variance\"))\n",
    "        \n",
    "        # Plot graph\n",
    "        fig.show()\n",
    "        \n",
    "# Create clean button function\n",
    "def US_Trades_Viz_Clean_Clicked(b):  \n",
    "    with US_trades_viz_output_clean:\n",
    "        \n",
    "        # Clean output\n",
    "        US_trades_viz_output.clear_output()"
   ]
  },
  {
   "cell_type": "code",
   "execution_count": 70,
   "metadata": {
    "ExecuteTime": {
     "end_time": "2021-04-30T14:22:40.817267Z",
     "start_time": "2021-04-30T14:22:40.709255Z"
    }
   },
   "outputs": [],
   "source": [
    "##### US TRADES VISUALIZATION ON BUTTON CLIKED #####\n",
    "\n",
    "# On button click\n",
    "US_trades_viz_button.on_click(US_Trades_Viz_Clicked)\n",
    "US_trades_viz_clean.on_click(US_Trades_Viz_Clean_Clicked)"
   ]
  },
  {
   "cell_type": "code",
   "execution_count": 71,
   "metadata": {
    "ExecuteTime": {
     "end_time": "2021-04-30T14:22:40.926816Z",
     "start_time": "2021-04-30T14:22:40.821263Z"
    }
   },
   "outputs": [],
   "source": [
    "##### US RECEIPT CHECKBOX #####\n",
    "\n",
    "# Create vector with checkbox data\n",
    "data = ['Receipt Value', 'FX Description', 'FX Value', 'FX Rate', 'Comm', 'Exc Fee']\n",
    "\n",
    "# Create checkbox receipt\n",
    "US_receipt_checkboxes = [widgets.Checkbox(value=True, indent=False, description=label) for label in data]\n",
    "\n",
    "# Create checkbox financial horizontal box\n",
    "US_receipt_hbox = widgets.HBox(children=US_receipt_checkboxes, layout=Layout(width='900px'))"
   ]
  },
  {
   "cell_type": "code",
   "execution_count": 72,
   "metadata": {
    "ExecuteTime": {
     "end_time": "2021-04-30T14:22:41.036404Z",
     "start_time": "2021-04-30T14:22:40.928781Z"
    }
   },
   "outputs": [],
   "source": [
    "##### US RECEIPT CUMSUM CHECKBOX #####\n",
    "\n",
    "# Create vector with cumsum\n",
    "data = ['Receipt Value Cum Sum', 'FX Value Cum Sum', 'Total Cum Sum', 'Settlement Cum Sum']\n",
    "\n",
    "# Create checkbox cumsum\n",
    "US_receipt_checkboxes_cumsum = [widgets.Checkbox(value=True, indent=False, description=label) for label in data]\n",
    "\n",
    "# Create checkbox cumsum horizontal box\n",
    "US_receipt_hbox_cumsum = widgets.HBox(children=US_receipt_checkboxes_cumsum, layout=Layout(width='700px'))"
   ]
  },
  {
   "cell_type": "code",
   "execution_count": 73,
   "metadata": {
    "ExecuteTime": {
     "end_time": "2021-04-30T14:22:41.221689Z",
     "start_time": "2021-04-30T14:22:41.038165Z"
    }
   },
   "outputs": [],
   "source": [
    "##### US RECEIPT BUTTONS #####\n",
    "\n",
    "# Create button and output\n",
    "US_receipt_button = Button_Sumbmit()\n",
    "\n",
    "# Create button output\n",
    "US_receipt_output = widgets.Output()\n",
    "\n",
    "# Create button and output\n",
    "US_receipt_clean = Button_Clean()\n",
    "\n",
    "# Create button output\n",
    "US_receipt_output_clean = widgets.Output()\n",
    "\n",
    "# Unite buttons\n",
    "US_receipt_ui = widgets.HBox([US_receipt_button, US_receipt_clean])"
   ]
  },
  {
   "cell_type": "code",
   "execution_count": 74,
   "metadata": {
    "ExecuteTime": {
     "end_time": "2021-04-30T14:22:41.347888Z",
     "start_time": "2021-04-30T14:22:41.223705Z"
    }
   },
   "outputs": [],
   "source": [
    "##### US RECEIPT BUTTONS FUNCTIONS #####\n",
    "\n",
    "# Create button clicked function\n",
    "def US_Receipt_Clicked(b):\n",
    "    with US_receipt_output:\n",
    "        \n",
    "        # Clean output\n",
    "        clear_output()\n",
    "        \n",
    "        # Create receipt dataframe\n",
    "        df = US_futures_receipt\n",
    "        \n",
    "        # Create selected_data list\n",
    "        selected_data = []\n",
    "        \n",
    "        # Add fixed variables\n",
    "        selected_data = selected_data + ['Date']\n",
    "                    \n",
    "        # Loop operation filter\n",
    "        for i in range(0, len(US_receipt_checkboxes)):\n",
    "                if US_receipt_checkboxes[i].value == True:\n",
    "                    selected_data = selected_data + [US_receipt_checkboxes[i].description]\n",
    "                                       \n",
    "        # Loop financial filter\n",
    "        for j in range(0, len(US_receipt_checkboxes_cumsum)):\n",
    "                if US_receipt_checkboxes_cumsum[j].value == True:\n",
    "                    selected_data = selected_data + [US_receipt_checkboxes_cumsum[j].description]\n",
    "        \n",
    "        # Filter selected data\n",
    "        df = df[selected_data]\n",
    "  \n",
    "        # Transform into date type\n",
    "        df['Date'] = pd.to_datetime(df['Date'], format='%d/%m/%Y')\n",
    "        \n",
    "        # Apply filter\n",
    "        df = df[(df['Date'] >=  pd.Timestamp(begin_period.value)) & (df['Date'] <= pd.Timestamp(end_period.value))] \n",
    "        \n",
    "        # Sort by date\n",
    "        df = df.sort_values(by = 'Date')\n",
    "        \n",
    "        # Refine date\n",
    "        df['Date'] = df['Date'].dt.strftime('%d/%m/%Y')\n",
    "        \n",
    "        # Reset index\n",
    "        df = df.reset_index(drop =True)\n",
    "        \n",
    "        # Red column vector\n",
    "        red_col = ['Receipt Value', 'FX Value', 'Receipt Value Cum Sum', 'FX Value Cum Sum', 'Settlement Cum Sum']\n",
    "        \n",
    "        # Create auxiliar variable\n",
    "        aux = []\n",
    "        \n",
    "        # Loop to define red columns\n",
    "        for i in range(0,len(red_col)):\n",
    "            if(red_col[i] in df.columns):\n",
    "                aux.append(red_col[i])\n",
    "        if aux == []:\n",
    "            \n",
    "            # Print result (without red columns)\n",
    "            display(df.style.set_precision(2))\n",
    "            \n",
    "        else:\n",
    "            \n",
    "            # Print result (with red columns)\n",
    "            display(df.style.applymap(color_negative_red, subset=pd.IndexSlice[:, aux]).set_precision(2))\n",
    "        \n",
    "# Create button clicked function\n",
    "def US_Receipt_Clean_Clicked(b):\n",
    "    with US_receipt_output_clean:\n",
    "        \n",
    "        # Clear output_receipt\n",
    "        US_receipt_output.clear_output()"
   ]
  },
  {
   "cell_type": "code",
   "execution_count": 75,
   "metadata": {
    "ExecuteTime": {
     "end_time": "2021-04-30T14:22:41.518495Z",
     "start_time": "2021-04-30T14:22:41.349885Z"
    }
   },
   "outputs": [],
   "source": [
    "##### US RECEIPT ON BUTTON CLIKED #####\n",
    "\n",
    "# On button click\n",
    "US_receipt_button.on_click(US_Receipt_Clicked)\n",
    "US_receipt_clean.on_click(US_Receipt_Clean_Clicked)"
   ]
  },
  {
   "cell_type": "code",
   "execution_count": 76,
   "metadata": {
    "ExecuteTime": {
     "end_time": "2021-04-30T14:22:41.735284Z",
     "start_time": "2021-04-30T14:22:41.519576Z"
    }
   },
   "outputs": [],
   "source": [
    "##### ALL TRADES CHECKBOX #####\n",
    "\n",
    "# Create vector with checkbox data\n",
    "data = ['BR Futures', 'US Futures', 'Total Futures', 'US Equities', 'Total', 'Return in %']\n",
    "\n",
    "# Create checkbox receipt\n",
    "all_trades_checkboxes = [widgets.Checkbox(value= True, indent= False, description= label) for label in data]\n",
    "\n",
    "# Create checkbox financial horizontal box\n",
    "all_trades_hbox = widgets.HBox(children= all_trades_checkboxes, layout= Layout(width= '700px'))"
   ]
  },
  {
   "cell_type": "code",
   "execution_count": 77,
   "metadata": {
    "ExecuteTime": {
     "end_time": "2021-04-30T14:22:41.922600Z",
     "start_time": "2021-04-30T14:22:41.736281Z"
    }
   },
   "outputs": [],
   "source": [
    "##### ALL TRADES BUTTONS #####\n",
    "\n",
    "# Create button and output\n",
    "all_trades_button = Button_Sumbmit()\n",
    "\n",
    "# Create button output\n",
    "all_trades_output = widgets.Output()\n",
    "\n",
    "# Create button and output\n",
    "all_trades_clean = Button_Clean()\n",
    "\n",
    "# Create button output\n",
    "all_trades_output_clean = widgets.Output()\n",
    "\n",
    "# Unite buttons\n",
    "all_trades_ui = widgets.HBox([all_trades_button, all_trades_clean])"
   ]
  },
  {
   "cell_type": "code",
   "execution_count": 78,
   "metadata": {
    "ExecuteTime": {
     "end_time": "2021-04-30T14:22:42.108926Z",
     "start_time": "2021-04-30T14:22:41.924564Z"
    }
   },
   "outputs": [],
   "source": [
    "##### ALL TRADES BUTTONS FUNCTIONS #####\n",
    "\n",
    "# Create button clicked function\n",
    "def All_Trades_Clicked(b):\n",
    "    with all_trades_output:\n",
    "        \n",
    "        # Clean output\n",
    "        clear_output()\n",
    "        \n",
    "        # Create receipt dataframe\n",
    "        df = all_trades\n",
    "        \n",
    "        # Create selected_data list\n",
    "        selected_data = []\n",
    "        \n",
    "        # Add fixed variables\n",
    "        selected_data = selected_data + ['Date']\n",
    "                    \n",
    "        # Loop financial filter\n",
    "        for i in range(0, len(all_trades_checkboxes)):\n",
    "                if all_trades_checkboxes[i].value == True:\n",
    "                    selected_data = selected_data + [all_trades_checkboxes[i].description]\n",
    "        \n",
    "        # Filter selected data\n",
    "        df = df[selected_data]\n",
    "  \n",
    "        # Transform into date type\n",
    "        df['Date'] = pd.to_datetime(df['Date'], format='%d/%m/%Y')\n",
    "        \n",
    "        # Apply filter\n",
    "        df = df[(df['Date'] >=  pd.Timestamp(begin_period.value)) & (df['Date'] <= pd.Timestamp(end_period.value))] \n",
    "        \n",
    "        # Sort by date\n",
    "        df = df.sort_values(by = 'Date')\n",
    "        \n",
    "        # Refine date\n",
    "        df['Date'] = df['Date'].dt.strftime('%d/%m/%Y')\n",
    "        \n",
    "        # Reset index\n",
    "        df = df.reset_index(drop =True)\n",
    "        \n",
    "        # Red column vector\n",
    "        red_col = ['BR Futures', 'US Futures', 'Total Futures', 'US Equities', 'Total', 'Return in %']\n",
    "        \n",
    "        # Create auxiliar variable\n",
    "        aux = []\n",
    "        \n",
    "        # Loop to define red columns\n",
    "        for i in range(0,len(red_col)):\n",
    "            if(red_col[i] in df.columns):\n",
    "                aux.append(red_col[i])\n",
    "        if aux == []:\n",
    "            \n",
    "            # Print result (without red columns)\n",
    "            display(df.style.set_precision(2))\n",
    "            \n",
    "        else:\n",
    "            \n",
    "            # Print result (with red columns)\n",
    "            display(df.style.applymap(color_negative_red, subset=pd.IndexSlice[:, aux]).set_precision(2))\n",
    "        \n",
    "# Create button clicked function\n",
    "def All_Trades_Clean_Clicked(b):\n",
    "    with all_trades_output_clean:\n",
    "        \n",
    "        # Clear output_receipt\n",
    "        all_trades_output.clear_output()"
   ]
  },
  {
   "cell_type": "code",
   "execution_count": 79,
   "metadata": {
    "ExecuteTime": {
     "end_time": "2021-04-30T14:22:42.202707Z",
     "start_time": "2021-04-30T14:22:42.110920Z"
    }
   },
   "outputs": [],
   "source": [
    "##### ALL TRADES ON BUTTON CLIKED #####\n",
    "\n",
    "# On button click\n",
    "all_trades_button.on_click(All_Trades_Clicked)\n",
    "all_trades_clean.on_click(All_Trades_Clean_Clicked)"
   ]
  },
  {
   "cell_type": "markdown",
   "metadata": {},
   "source": [
    "This report is **interactive**. Therefore, you can make multiple analysis using filters to selects specific data to examine. The report can display financial variables results of the trades and their receipts.\n",
    "\n",
    "The report uses the following references:\n",
    "\n",
    "* P&L = Profit and Loss\n",
    "* MtoM = Market to Market\n",
    "* Comm = Commisions\n",
    "* Exc Fee = Exchange Fee\n",
    "* Reg Fee = Register Fee\n",
    "* Px Close = Close Price\n",
    "* Cum Sum = Cumulative Sum\n",
    "\n",
    "To iniciate the analysis, select the time range you want to exam. After that, use the tabs to choose which trades you want to review.\n",
    "\n",
    "### Select Time Range:\n",
    "\n"
   ]
  },
  {
   "cell_type": "code",
   "execution_count": 80,
   "metadata": {
    "ExecuteTime": {
     "end_time": "2021-04-30T14:22:42.296422Z",
     "start_time": "2021-04-30T14:22:42.203673Z"
    }
   },
   "outputs": [
    {
     "data": {
      "application/vnd.jupyter.widget-view+json": {
       "model_id": "623c390b7be3441cb8305d40f34488ca",
       "version_major": 2,
       "version_minor": 0
      },
      "text/plain": [
       "DatePicker(value=datetime.date(2020, 7, 1), description='Start:')"
      ]
     },
     "metadata": {},
     "output_type": "display_data"
    },
    {
     "data": {
      "application/vnd.jupyter.widget-view+json": {
       "model_id": "03065db5a1a848efb5f8a86a099f55c3",
       "version_major": 2,
       "version_minor": 0
      },
      "text/plain": [
       "DatePicker(value=datetime.date(2021, 4, 30), description='End:')"
      ]
     },
     "metadata": {},
     "output_type": "display_data"
    }
   ],
   "source": [
    "# Display date range filter\n",
    "display(begin_period, end_period)"
   ]
  },
  {
   "cell_type": "code",
   "execution_count": 81,
   "metadata": {
    "ExecuteTime": {
     "end_time": "2021-04-30T14:22:42.467964Z",
     "start_time": "2021-04-30T14:22:42.298444Z"
    }
   },
   "outputs": [],
   "source": [
    "##### BRAZIL TRADES ANALYSIS #####\n",
    "\n",
    "# Create analysis\n",
    "BR_trade_analysis = widgets.VBox([\n",
    "    \n",
    "    # Table\n",
    "    widgets.HTML('<h1> Brazil Trades Data Analysis </h1>'),\n",
    "    widgets.HTML('<h2> Trades Data Table </h2>'),\n",
    "    widgets.HTML('The data shows financial operations and indicators results in <b> BR Real (R$) </b>, calculated for the Brazilian trades using the financial operations displayed.'),\n",
    "    widgets.HTML('The table can show results from the following trades:'),\n",
    "    widgets.HTML('&emsp; <i> DOL </i> - Future Comercial Dolar '),\n",
    "    widgets.HTML('&emsp; <i> WDO </i> - Future Mini Comercial Dolar'),\n",
    "    widgets.HTML('&emsp; <i> IND </i> - Future Ibovespa'),\n",
    "    widgets.HTML('&emsp; <i> WIN </i> - Future Mini Ibovespa'),\n",
    "    widgets.HTML('&emsp; <i> ISP </i> - Future S&P 500'),\n",
    "    widgets.HTML('&emsp; <i> WSP </i> - Future Micro S&P 500 '),\n",
    "    widgets.HTML('<br>'), \n",
    "    widgets.HTML('<h3> Select Trade: </h3>'), \n",
    "    BR_trade_dropdown,\n",
    "    widgets.HTML('<br>'), \n",
    "    widgets.HTML('<h3> Select Operation: </h3>'), \n",
    "    BR_hbox_operation,\n",
    "    widgets.HTML('<h3> Select Indicator: </h3>'), \n",
    "    BR_hbox_financial,\n",
    "    widgets.HTML('<br>'), \n",
    "    BR_trades_ui,\n",
    "    widgets.HTML('<br>'), \n",
    "    BR_trades_output,\n",
    "    BR_trades_output_clean,\n",
    "    widgets.HTML('<hr>'), \n",
    "    \n",
    "    # Visualization\n",
    "    widgets.HTML('<h2> Trades Data Visualization </h2>'),\n",
    "    BR_trades_viz_ui,\n",
    "    widgets.HTML('<br>'), \n",
    "    BR_trades_viz_output,\n",
    "    BR_trades_viz_output_clean\n",
    "])"
   ]
  },
  {
   "cell_type": "code",
   "execution_count": 82,
   "metadata": {
    "ExecuteTime": {
     "end_time": "2021-04-30T14:22:42.576672Z",
     "start_time": "2021-04-30T14:22:42.469959Z"
    }
   },
   "outputs": [],
   "source": [
    "##### BRAZIL RECEIPT ANALYSIS #####\n",
    "\n",
    "# Create analysis\n",
    "BR_receipt_analysis = widgets.VBox([\n",
    "    \n",
    "    # Table\n",
    "    widgets.HTML('<h2> Brazil Receipt Table Analysis </h2>'),\n",
    "    widgets.HTML('The data shows the Brazilian trades recipt values in BR reais (R$). The receipt contains the sum of all trades results'),\n",
    "    widgets.HTML('Use the checkboxes to display the financial operation and indicator.'),\n",
    "    widgets.HTML('<br>'), \n",
    "    widgets.HTML('<h3> Select Operation: </h3>'), \n",
    "    BR_receipt_hbox,\n",
    "    widgets.HTML('<h3> Select Cumulative Sum: </h3>'), \n",
    "    BR_receipt_hbox_cumsum,\n",
    "    widgets.HTML('<br>'), \n",
    "    BR_receipt_ui,\n",
    "    widgets.HTML('<br>'), \n",
    "    BR_receipt_output,\n",
    "    BR_receipt_output_clean,   \n",
    "    widgets.HTML('<hr>'), \n",
    "    widgets.HTML('<h2> Brazil Receipt Visualization Analysis </h2>')\n",
    "])"
   ]
  },
  {
   "cell_type": "code",
   "execution_count": 83,
   "metadata": {
    "ExecuteTime": {
     "end_time": "2021-04-30T14:22:42.718295Z",
     "start_time": "2021-04-30T14:22:42.577670Z"
    }
   },
   "outputs": [],
   "source": [
    "##### USA TRADES ANALYSIS #####\n",
    "\n",
    "# Create analysis\n",
    "USA_trade_analysis = widgets.VBox([\n",
    "    \n",
    "        # Table\n",
    "        widgets.HTML('<h2> US Trades Data Analysis </h2>'),\n",
    "        widgets.HTML('US trades table.'),\n",
    "        widgets.HTML('<br>'), \n",
    "        US_trade_dropdown,\n",
    "        widgets.HTML('<br>'), \n",
    "        widgets.HTML('<h3> Select Operation: </h3>'),\n",
    "        US_hbox_operation,\n",
    "        widgets.HTML('<h3> Select Indicator: </h3>'), \n",
    "        US_hbox_financial,\n",
    "        widgets.HTML('<br>'), \n",
    "        US_trades_ui,\n",
    "        widgets.HTML('<br>'), \n",
    "        US_trades_output,\n",
    "        US_trades_output_clean,\n",
    "        widgets.HTML('<hr>'), \n",
    "    \n",
    "        # Visualization\n",
    "        widgets.HTML('<h2> US Trades Visualization Analysis </h2>'),\n",
    "        US_trades_viz_ui,\n",
    "        widgets.HTML('<br>'), \n",
    "        US_trades_viz_output,\n",
    "        US_trades_viz_output_clean\n",
    "])"
   ]
  },
  {
   "cell_type": "code",
   "execution_count": 84,
   "metadata": {
    "ExecuteTime": {
     "end_time": "2021-04-30T14:22:42.841962Z",
     "start_time": "2021-04-30T14:22:42.720290Z"
    }
   },
   "outputs": [],
   "source": [
    "##### USA RECEIPT ANALYSIS #####\n",
    "\n",
    "# Create analysis\n",
    "US_receipt_analysis = widgets.VBox([\n",
    "    \n",
    "    # Table\n",
    "    widgets.HTML('<h2> US Receipt Data Analysis </h2>'),\n",
    "    widgets.HTML('US receipt table.'),\n",
    "    widgets.HTML('<br>'), \n",
    "    widgets.HTML('<h2> Futures Trades </h2>'),\n",
    "    widgets.HTML('<h3> Select Operation: </h3>'), \n",
    "    US_receipt_hbox,\n",
    "    widgets.HTML('<h3> Select Cumulative Sum: </h3>'), \n",
    "    US_receipt_hbox_cumsum,\n",
    "    widgets.HTML('<br>'), \n",
    "    US_receipt_ui,\n",
    "    widgets.HTML('<br>'), \n",
    "    US_receipt_output,\n",
    "    US_receipt_output_clean,\n",
    "    widgets.HTML('<hr>'), \n",
    "    widgets.HTML('<h2> US Receipt Visualization Analysis </h2>')\n",
    "])"
   ]
  },
  {
   "cell_type": "code",
   "execution_count": 85,
   "metadata": {
    "ExecuteTime": {
     "end_time": "2021-04-30T14:22:42.967628Z",
     "start_time": "2021-04-30T14:22:42.842962Z"
    }
   },
   "outputs": [],
   "source": [
    "##### ALL TRADES ANALYSIS #####\n",
    "\n",
    "# Create analysis\n",
    "All_trades_analysis = widgets.VBox([\n",
    "    widgets.HTML('<h2> All Trades Data Analysis </h2>'),\n",
    "    widgets.HTML('US and BR trades results table.'),\n",
    "    widgets.HTML('<br>'),\n",
    "    widgets.HTML('<h3> Select Operation: </h3>'), \n",
    "    all_trades_hbox,\n",
    "    widgets.HTML('<br>'), \n",
    "    all_trades_ui,\n",
    "    widgets.HTML('<br>'), \n",
    "    all_trades_output,\n",
    "    all_trades_output_clean \n",
    "])"
   ]
  },
  {
   "cell_type": "code",
   "execution_count": 86,
   "metadata": {
    "ExecuteTime": {
     "end_time": "2021-04-30T14:22:43.123246Z",
     "start_time": "2021-04-30T14:22:42.968626Z"
    }
   },
   "outputs": [
    {
     "data": {
      "application/vnd.jupyter.widget-view+json": {
       "model_id": "e0d278b06b8f447c9c19883362434a8b",
       "version_major": 2,
       "version_minor": 0
      },
      "text/plain": [
       "Tab(children=(VBox(children=(HTML(value='<h1> Brazil Trades Data Analysis </h1>'), HTML(value='<h2> Trades Dat…"
      ]
     },
     "metadata": {},
     "output_type": "display_data"
    }
   ],
   "source": [
    "##### DISPLAY TABS #####\n",
    "\n",
    "# Create nested tab\n",
    "tab_nest = widgets.Tab()\n",
    "\n",
    "# Set each tab analysis\n",
    "tab_nest.children = [BR_trade_analysis, BR_receipt_analysis, USA_trade_analysis, US_receipt_analysis, All_trades_analysis]\n",
    "\n",
    "# Set tab title\n",
    "tab_nest.set_title(0, 'Brazil Trades')\n",
    "tab_nest.set_title(1, 'Brazil Recipt')\n",
    "tab_nest.set_title(2, 'US Trades')\n",
    "tab_nest.set_title(3, 'US Receipt')\n",
    "tab_nest.set_title(4, 'All')\n",
    "\n",
    "# Plot tab\n",
    "tab_nest"
   ]
  }
 ],
 "metadata": {
  "kernelspec": {
   "display_name": "Python 3",
   "language": "python",
   "name": "python3"
  },
  "language_info": {
   "codemirror_mode": {
    "name": "ipython",
    "version": 3
   },
   "file_extension": ".py",
   "mimetype": "text/x-python",
   "name": "python",
   "nbconvert_exporter": "python",
   "pygments_lexer": "ipython3",
   "version": "3.8.5"
  },
  "varInspector": {
   "cols": {
    "lenName": 16,
    "lenType": 16,
    "lenVar": 40
   },
   "kernels_config": {
    "python": {
     "delete_cmd_postfix": "",
     "delete_cmd_prefix": "del ",
     "library": "var_list.py",
     "varRefreshCmd": "print(var_dic_list())"
    },
    "r": {
     "delete_cmd_postfix": ") ",
     "delete_cmd_prefix": "rm(",
     "library": "var_list.r",
     "varRefreshCmd": "cat(var_dic_list()) "
    }
   },
   "types_to_exclude": [
    "module",
    "function",
    "builtin_function_or_method",
    "instance",
    "_Feature"
   ],
   "window_display": false
  }
 },
 "nbformat": 4,
 "nbformat_minor": 4
}
