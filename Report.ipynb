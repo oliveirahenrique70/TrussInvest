{
 "cells": [
  {
   "cell_type": "markdown",
   "metadata": {
    "ExecuteTime": {
     "end_time": "2021-03-11T18:37:51.917443Z",
     "start_time": "2021-03-11T18:37:51.906472Z"
    }
   },
   "source": [
    "<center><h1> Truss Investment </h1></center>\n",
    "<center><h1> Trades Data Analysis Report</h1></center>\n",
    "  \n",
    "### May 2021 \n",
    "---"
   ]
  },
  {
   "cell_type": "code",
   "execution_count": null,
   "metadata": {
    "ExecuteTime": {
     "end_time": "2021-05-26T21:46:31.528208Z",
     "start_time": "2021-05-26T21:46:31.511215Z"
    }
   },
   "outputs": [],
   "source": [
    "##### LIBRARIES AND FUNCTIONS#####\n",
    "\n",
    "# Load libraries\n",
    "import pandas as pd\n",
    "import ipywidgets as widgets\n",
    "from ipywidgets import Layout, interact, interactive\n",
    "from IPython.display import clear_output, display, HTML\n",
    "import datetime as dt\n",
    "from datetime import datetime, date\n",
    "import plotly.express as px\n",
    "import plotly.graph_objects as go\n",
    "\n",
    "# Import functions\n",
    "from functions import *\n",
    "      \n",
    "# Display options \n",
    "pd.set_option('display.max_rows', 500) # all rows\n",
    "pd.options.mode.chained_assignment = None # spress warning\n",
    "pd.set_option('display.float_format', lambda x: '%.3f' % x)"
   ]
  },
  {
   "cell_type": "code",
   "execution_count": null,
   "metadata": {
    "ExecuteTime": {
     "end_time": "2021-05-26T21:46:31.638874Z",
     "start_time": "2021-05-26T21:46:31.529167Z"
    }
   },
   "outputs": [],
   "source": [
    "##### READ DATASETS #####\n",
    "\n",
    "# Get trades dataset list\n",
    "dfs_list = Get_Trades()\n",
    "\n",
    "# Read BR receipt data\n",
    "BR_receipt = pd.read_csv('BR Receipt.csv')\n",
    "\n",
    "# Read US Receipt data\n",
    "US_futures_receipt = pd.read_csv('US Futures Receipt.csv')\n",
    "US_equities_receipt = pd.read_csv('US Equities Receipt.csv')\n",
    "\n",
    "# Read all trades receipt data\n",
    "all_trades = pd.read_csv('All Trades Receipt.csv')"
   ]
  },
  {
   "cell_type": "code",
   "execution_count": null,
   "metadata": {
    "ExecuteTime": {
     "end_time": "2021-05-26T21:46:31.701876Z",
     "start_time": "2021-05-26T21:46:31.640870Z"
    }
   },
   "outputs": [],
   "source": [
    "##### DATE PICKER #####\n",
    "\n",
    "# Get start and end date\n",
    "today = date.today()\n",
    "begin_date = dt.datetime(2020, 7, 1).date()\n",
    "\n",
    "# Create begin date picker\n",
    "begin_period = widgets.DatePicker(description='Start:',\n",
    "                                 value = begin_date)\n",
    "\n",
    "# Create end date picker\n",
    "end_period = widgets.DatePicker(description='End:',\n",
    "                               value = today)"
   ]
  },
  {
   "cell_type": "code",
   "execution_count": null,
   "metadata": {
    "ExecuteTime": {
     "end_time": "2021-05-26T21:46:31.780179Z",
     "start_time": "2021-05-26T21:46:31.703870Z"
    }
   },
   "outputs": [],
   "source": [
    "# Function to get data for BR_trades\n",
    "def Trade_Select(trade):\n",
    "    \n",
    "    for i in range(0, len(dfs_list)):\n",
    "        \n",
    "        if (dfs_list[i]['Ticker'][0] == trade):\n",
    "            \n",
    "            return(dfs_list[i])"
   ]
  },
  {
   "cell_type": "code",
   "execution_count": null,
   "metadata": {
    "ExecuteTime": {
     "end_time": "2021-05-26T21:46:31.874086Z",
     "start_time": "2021-05-26T21:46:31.781071Z"
    }
   },
   "outputs": [],
   "source": [
    "##### BRAZIL TRADES DROPDOWN MENU #####\n",
    "\n",
    "# Create dropdown menu to selct trade\n",
    "BR_trade_dropdown = interactive(Trade_Select,\n",
    "                                trade = widgets.Combobox(\n",
    "                                    options= ['DOLM21',\n",
    "                                              'DOLK21',\n",
    "                                              'DOLG21',\n",
    "                                              'DOLQ20',\n",
    "                                              'DOLU20',\n",
    "                                              'INDG21',\n",
    "                                              'INDJ21',\n",
    "                                              'INDM21',\n",
    "                                              'ISPH21',\n",
    "                                              'ISPM21',\n",
    "                                              'ISPU20',\n",
    "                                              'ISPU21',\n",
    "                                              'ISPZ20',\n",
    "                                              'WDOF21',\n",
    "                                              'WDOG21',\n",
    "                                              'WDOJ21',\n",
    "                                              'WDOK21',\n",
    "                                              'WDOM21',\n",
    "                                              'WDOQ20',\n",
    "                                              'WDOU20',\n",
    "                                              'WING21',\n",
    "                                              'WINJ21',\n",
    "                                              'WINM21',\n",
    "                                              'WSPH21',\n",
    "                                              'WSPM21',\n",
    "                                              'WSPU20',\n",
    "                                              'WSPZ20'],\n",
    "                                    description=\"Trade:\")\n",
    "                               )"
   ]
  },
  {
   "cell_type": "code",
   "execution_count": null,
   "metadata": {
    "ExecuteTime": {
     "end_time": "2021-05-26T21:46:31.967676Z",
     "start_time": "2021-05-26T21:46:31.876084Z"
    }
   },
   "outputs": [],
   "source": [
    "##### BRAZIL TRADES OPERATIONAL CHECKBOX #####\n",
    "\n",
    "# Create vector with operations\n",
    "data = [\"Buy Quant\", \"Buy Price\", \"Sell Quant\", \"Sell Price\", \"Px Close\"]\n",
    "\n",
    "# Create checkbox operations\n",
    "BR_checkboxes_operation = [widgets.Checkbox(value=True, indent=False, description=label) for label in data]\n",
    "\n",
    "# Create checkbox operations horizontal box\n",
    "BR_hbox_operation = widgets.HBox(children=BR_checkboxes_operation, layout=Layout(width='600px'))"
   ]
  },
  {
   "cell_type": "code",
   "execution_count": null,
   "metadata": {
    "ExecuteTime": {
     "end_time": "2021-05-26T21:46:32.077520Z",
     "start_time": "2021-05-26T21:46:31.968673Z"
    }
   },
   "outputs": [],
   "source": [
    "##### BRAZIL TRADES FINANCIAL CHECKBOX #####\n",
    "\n",
    "# Create vector with financial\n",
    "data = [\"Hold Pos\", \"MtoM P&L\", \"Gross P&L\", \"Comm\", \"Exc Fee\", \"Net P&L\"]\n",
    "\n",
    "# Create checkbox financial\n",
    "BR_checkboxes_financial = [widgets.Checkbox(value=True, indent=False, description=label) for label in data]\n",
    "\n",
    "# Create checkbox financial horizontal box\n",
    "BR_hbox_financial = widgets.HBox(children=BR_checkboxes_financial, layout=Layout(width='700px'))"
   ]
  },
  {
   "cell_type": "code",
   "execution_count": null,
   "metadata": {
    "ExecuteTime": {
     "end_time": "2021-05-26T21:46:32.188843Z",
     "start_time": "2021-05-26T21:46:32.080512Z"
    }
   },
   "outputs": [],
   "source": [
    "##### BRAZIL TRADES BUTTONS #####\n",
    "\n",
    "# Create button and output\n",
    "BR_trades_button = Button_Sumbmit()\n",
    "\n",
    "# Create button output\n",
    "BR_trades_output = widgets.Output()\n",
    "\n",
    "# Create button and output\n",
    "BR_trades_clean = Button_Clean()\n",
    "\n",
    "# Create button output\n",
    "BR_trades_output_clean = widgets.Output()\n",
    "\n",
    "# Unite buttons\n",
    "BR_trades_ui = widgets.HBox([BR_trades_button, BR_trades_clean])"
   ]
  },
  {
   "cell_type": "code",
   "execution_count": null,
   "metadata": {
    "ExecuteTime": {
     "end_time": "2021-05-26T21:46:32.297406Z",
     "start_time": "2021-05-26T21:46:32.189842Z"
    }
   },
   "outputs": [],
   "source": [
    "##### BRAZIL TRADES BUTTONS FUNCTIONS #####\n",
    "\n",
    "# Create button clicked function\n",
    "def BR_Trades_Clicked(b):  \n",
    "    with BR_trades_output:\n",
    "        \n",
    "        # Clean output\n",
    "        clear_output()\n",
    "        \n",
    "        # Condition if no trade is selected\n",
    "        if (BR_trade_dropdown.result is None):\n",
    "            \n",
    "            # Display warning message box\n",
    "            prRed('#################################### ERROR - PLEASE SELECT A TRADE! ####################################')\n",
    "       \n",
    "        else:\n",
    "        \n",
    "            # Create selected_data list\n",
    "            selected_data = []\n",
    "        \n",
    "            # Fixede variables\n",
    "            fixed = ['Date', 'Ticker']\n",
    "        \n",
    "            # Add fixed variables\n",
    "            selected_data = selected_data + fixed\n",
    "                    \n",
    "            # Loop operation filter\n",
    "            for i in range(0, len(BR_checkboxes_operation)):\n",
    "                    if BR_checkboxes_operation[i].value == True:\n",
    "                        selected_data = selected_data + [BR_checkboxes_operation[i].description]\n",
    "        \n",
    "            # Loop financial filter\n",
    "            for j in range(0, len(BR_checkboxes_financial)):\n",
    "                    if BR_checkboxes_financial[j].value == True:\n",
    "                        selected_data = selected_data + [BR_checkboxes_financial[j].description]\n",
    "                    \n",
    "            # Create trade dataframe\n",
    "            df = BR_trade_dropdown.result\n",
    "            \n",
    "            # Round values\n",
    "            df = df.round({'Px Close':2, 'Sell Price':2, 'Buy Price': 2, 'Exc Fee':2, 'MtoM P&L':2, 'Gross P&L': 2, 'Net P&L': 2, 'Comm': 2})\n",
    "        \n",
    "            # Change columns type\n",
    "            df = df.astype({'Sell Quant': int, 'Buy Quant': int, 'Hold Pos': int})\n",
    "        \n",
    "            # Filter data\n",
    "            df = df[selected_data] \n",
    "               \n",
    "            # Transform into date type\n",
    "            df['Date'] = pd.to_datetime(df['Date'], format='%d/%m/%Y')\n",
    "        \n",
    "            # Apply filter\n",
    "            df = df[(df['Date'] >= pd.Timestamp(begin_period.value)) &  (df['Date'] <= pd.Timestamp(end_period.value))]   \n",
    "        \n",
    "            # Sort by date\n",
    "            df = df.sort_values(by = 'Date')\n",
    "        \n",
    "            # Refine date\n",
    "            df['Date'] = df['Date'].dt.strftime('%d/%m/%Y')\n",
    "\n",
    "            # Reset index\n",
    "            df = df.reset_index(drop = True)\n",
    "        \n",
    "            #Create red columns vector\n",
    "            red_col = ['MtoM P&L' , 'Gross P&L', 'Net P&L', 'Hold Pos']\n",
    "       \n",
    "            # Create auxiliar variable\n",
    "            aux = []\n",
    "        \n",
    "            # Loop to define red columns\n",
    "            for i in range(0,len(red_col)):\n",
    "                if(red_col[i] in df.columns):\n",
    "                    aux.append(red_col[i])\n",
    "                    \n",
    "            if aux == []:\n",
    "                \n",
    "                # Print result (without red columns)\n",
    "                display(df.style.set_precision(2))\n",
    "                \n",
    "            else:\n",
    "            \n",
    "                # Print result (with red columns)\n",
    "                display(df.style.applymap(color_negative_red, subset=pd.IndexSlice[:, aux]).set_precision(2))\n",
    "            \n",
    "# Create clean button function\n",
    "def BR_Trades_Clean_Clicked(b):  \n",
    "    with BR_trades_output_clean:\n",
    "        \n",
    "        # Clean output\n",
    "        BR_trades_output.clear_output()"
   ]
  },
  {
   "cell_type": "code",
   "execution_count": null,
   "metadata": {
    "ExecuteTime": {
     "end_time": "2021-05-26T21:46:32.375125Z",
     "start_time": "2021-05-26T21:46:32.298248Z"
    }
   },
   "outputs": [],
   "source": [
    "##### BRAZIL TRADES TABLE ON BUTTON CLIKED #####\n",
    "\n",
    "# On button click\n",
    "BR_trades_button.on_click(BR_Trades_Clicked)\n",
    "BR_trades_clean.on_click(BR_Trades_Clean_Clicked)"
   ]
  },
  {
   "cell_type": "code",
   "execution_count": null,
   "metadata": {
    "ExecuteTime": {
     "end_time": "2021-05-26T21:46:32.451748Z",
     "start_time": "2021-05-26T21:46:32.377075Z"
    }
   },
   "outputs": [],
   "source": [
    "##### BRAZIL TRADES DROPDOWN MENU #####\n",
    "\n",
    "# Create dropdown menu to selct trade\n",
    "BR_rolagem_dropdown = interactive(Trade_Select,\n",
    "                                trade = widgets.Combobox(\n",
    "                                    options= ['DR1K21M21',\n",
    "                                             'RSPH21M21',\n",
    "                                             'WS1H21M21'],\n",
    "                                    description=\"Rolagem:\")\n",
    "                               )"
   ]
  },
  {
   "cell_type": "code",
   "execution_count": null,
   "metadata": {
    "ExecuteTime": {
     "end_time": "2021-05-26T21:46:32.561270Z",
     "start_time": "2021-05-26T21:46:32.452710Z"
    }
   },
   "outputs": [],
   "source": [
    "##### BRAZIL TRADES ROLAGEM ROLAGEM OPERATIONAL CHECKBOX #####\n",
    "\n",
    "# Create vector with operations\n",
    "data = [\"Buy Quant\", \"Sell Quant\", 'Buyer Buy Price', 'Buyer Sell Price', 'Seller Buy Price', \"Seller Sell Price\"]\n",
    "\n",
    "# Create checkbox operations\n",
    "BR_rolagem_checkboxes_operation = [widgets.Checkbox(value=True, indent=False, description=label) for label in data]\n",
    "\n",
    "# Create checkbox operations horizontal box\n",
    "BR_rolagem_hbox_operation = widgets.HBox(children=BR_rolagem_checkboxes_operation, layout=Layout(width='900px'))"
   ]
  },
  {
   "cell_type": "code",
   "execution_count": null,
   "metadata": {
    "ExecuteTime": {
     "end_time": "2021-05-26T21:46:32.639458Z",
     "start_time": "2021-05-26T21:46:32.562268Z"
    }
   },
   "outputs": [],
   "source": [
    "##### BRAZIL TRADES ROLAGEM FINANCIAL CHECKBOX #####\n",
    "\n",
    "# Create vector with financial\n",
    "data = [\"Buyer Gross P&L\", \"Seller Gross P&L\"]\n",
    "\n",
    "# Create checkbox financial\n",
    "BR_rolagem_checkboxes_financial = [widgets.Checkbox(value=True, indent=False, description=label) for label in data]\n",
    "\n",
    "# Create checkbox financial horizontal box\n",
    "BR_rolagem_hbox_financial = widgets.HBox(children=BR_rolagem_checkboxes_financial, layout=Layout(width='300px'))"
   ]
  },
  {
   "cell_type": "code",
   "execution_count": null,
   "metadata": {
    "ExecuteTime": {
     "end_time": "2021-05-26T21:46:32.749241Z",
     "start_time": "2021-05-26T21:46:32.640432Z"
    }
   },
   "outputs": [],
   "source": [
    "##### BRAZIL TRADES ROLAGEM BUTTONS #####\n",
    "\n",
    "# Create button and output\n",
    "BR_rolagem_button = Button_Sumbmit()\n",
    "\n",
    "# Create button output\n",
    "BR_rolagem_output = widgets.Output()\n",
    "\n",
    "# Create button and output\n",
    "BR_rolagem_clean = Button_Clean()\n",
    "\n",
    "# Create button output\n",
    "BR_rolagem_output_clean = widgets.Output()\n",
    "\n",
    "# Unite buttons\n",
    "BR_rolagem_ui = widgets.HBox([BR_rolagem_button, BR_rolagem_clean])"
   ]
  },
  {
   "cell_type": "code",
   "execution_count": null,
   "metadata": {
    "ExecuteTime": {
     "end_time": "2021-05-26T21:46:32.828041Z",
     "start_time": "2021-05-26T21:46:32.749972Z"
    }
   },
   "outputs": [],
   "source": [
    "##### BRAZIL TRADES ROLAGEM BUTTONS FUNCTIONS #####\n",
    "\n",
    "# Create button clicked function\n",
    "def BR_Rolagem_Clicked(b):  \n",
    "    with BR_rolagem_output:\n",
    "        \n",
    "        # Clean output\n",
    "        clear_output()\n",
    "        \n",
    "        # Condition if no trade is selected\n",
    "        if (BR_rolagem_dropdown.result is None):\n",
    "            \n",
    "            # Display warning message box\n",
    "            prRed('#################################### ERROR - PLEASE SELECT A ROLAGEM! ####################################')\n",
    "       \n",
    "        else:\n",
    "        \n",
    "            # Create selected_data list\n",
    "            selected_data = []\n",
    "        \n",
    "            # Fixede variables\n",
    "            fixed = ['Date', 'Buyer Ticker', 'Seller Ticker']\n",
    "        \n",
    "            # Add fixed variables\n",
    "            selected_data = selected_data + fixed\n",
    "                    \n",
    "            # Loop operation filter\n",
    "            for i in range(0, len(BR_rolagem_checkboxes_operation)):\n",
    "                    if BR_rolagem_checkboxes_operation[i].value == True:\n",
    "                        selected_data = selected_data + [BR_rolagem_checkboxes_operation[i].description]\n",
    "        \n",
    "            # Loop financial filter\n",
    "            for j in range(0, len(BR_rolagem_checkboxes_financial)):\n",
    "                    if BR_rolagem_checkboxes_financial[j].value == True:\n",
    "                        selected_data = selected_data + [BR_rolagem_checkboxes_financial[j].description]\n",
    "                    \n",
    "            # Create trade dataframe\n",
    "            df = BR_rolagem_dropdown.result\n",
    "            \n",
    "            # Round values\n",
    "            df = df.round({'Buyer Buy Price': 2, 'Buyer Sell Price': 2 , 'Seller Buy Price': 2 , \"Seller Sell Price\": 2, \"Buyer Gross P&L\": 2, \"Seller Gross P&L\": 2})\n",
    "        \n",
    "            # Change columns type\n",
    "            df = df.astype({'Sell Quant': int, 'Buy Quant': int})\n",
    "        \n",
    "            # Filter data\n",
    "            df = df[selected_data] \n",
    "               \n",
    "            # Transform into date type\n",
    "            df['Date'] = pd.to_datetime(df['Date'], format='%d/%m/%Y')\n",
    "        \n",
    "            # Apply filter\n",
    "            df = df[(df['Date'] >= pd.Timestamp(begin_period.value)) &  (df['Date'] <= pd.Timestamp(end_period.value))]   \n",
    "        \n",
    "            # Sort by date\n",
    "            df = df.sort_values(by = 'Date')\n",
    "        \n",
    "            # Refine date\n",
    "            df['Date'] = df['Date'].dt.strftime('%d/%m/%Y')\n",
    "\n",
    "            # Reset index\n",
    "            df = df.reset_index(drop = True)\n",
    "        \n",
    "            #Create red columns vector\n",
    "            red_col = ['Buyer Gross P&L', 'Seller Gross P&L']\n",
    "       \n",
    "            # Create auxiliar variable\n",
    "            aux = []\n",
    "        \n",
    "            # Loop to define red columns\n",
    "            for i in range(0,len(red_col)):\n",
    "                if(red_col[i] in df.columns):\n",
    "                    aux.append(red_col[i])\n",
    "                    \n",
    "            if aux == []:\n",
    "                \n",
    "                # Print result (without red columns)\n",
    "                display(df.style.set_precision(2))\n",
    "                \n",
    "            else:\n",
    "            \n",
    "                # Print result (with red columns)\n",
    "                display(df.style.applymap(color_negative_red, subset=pd.IndexSlice[:, aux]).set_precision(2))\n",
    "            \n",
    "# Create clean button function\n",
    "def BR_Rolagem_Clean_Clicked(b):  \n",
    "    with BR_rolagem_output_clean:\n",
    "        \n",
    "        # Clean output\n",
    "        BR_rolagem_output.clear_output()"
   ]
  },
  {
   "cell_type": "code",
   "execution_count": null,
   "metadata": {
    "ExecuteTime": {
     "end_time": "2021-05-26T21:46:32.921844Z",
     "start_time": "2021-05-26T21:46:32.829149Z"
    }
   },
   "outputs": [],
   "source": [
    "##### BRAZIL TRADES ROLAGEM ON BUTTON CLIKED #####\n",
    "\n",
    "# On button click\n",
    "BR_rolagem_button.on_click(BR_Rolagem_Clicked)\n",
    "BR_rolagem_clean.on_click(BR_Rolagem_Clean_Clicked)"
   ]
  },
  {
   "cell_type": "code",
   "execution_count": null,
   "metadata": {
    "ExecuteTime": {
     "end_time": "2021-05-26T21:46:33.014725Z",
     "start_time": "2021-05-26T21:46:32.922597Z"
    }
   },
   "outputs": [],
   "source": [
    "###### BRAZIL TRADES VISUALIZATION BUTTONS #####\n",
    "\n",
    "# Create button and output\n",
    "BR_trades_viz_button = Button_Sumbmit()\n",
    "\n",
    "# Create button output\n",
    "BR_trades_viz_output = widgets.Output()\n",
    "\n",
    "# Create button and output\n",
    "BR_trades_viz_clean = Button_Clean()\n",
    "\n",
    "# Create button output\n",
    "BR_trades_viz_output_clean = widgets.Output()\n",
    "\n",
    "# Unite buttons\n",
    "BR_trades_viz_ui = widgets.HBox([BR_trades_viz_button, BR_trades_viz_clean])"
   ]
  },
  {
   "cell_type": "code",
   "execution_count": null,
   "metadata": {
    "ExecuteTime": {
     "end_time": "2021-05-26T21:46:33.108234Z",
     "start_time": "2021-05-26T21:46:33.016700Z"
    }
   },
   "outputs": [],
   "source": [
    "##### BRAZIL TRADES VISUALIZATION BUTTONS FUNCTIONS #####\n",
    "\n",
    "# Create button clicked function\n",
    "def BR_Trades_Viz_Clicked(b):  \n",
    "    with BR_trades_viz_output:\n",
    "        \n",
    "        # Clean output\n",
    "        clear_output()\n",
    "        \n",
    "        # Condition if no trade is selected\n",
    "        if (BR_trade_dropdown.result is None):\n",
    "            \n",
    "            # Display warning message box\n",
    "            prRed('#################################### ERROR - PLEASE SELECT A TRADE! ####################################')\n",
    "       \n",
    "        else:\n",
    "         \n",
    "            # Create trade dataframe\n",
    "            df = BR_trade_dropdown.result\n",
    "\n",
    "            # Transform into date type\n",
    "            df['Date'] = pd.to_datetime(df['Date'], format='%d/%m/%Y')\n",
    "\n",
    "            # Apply filter\n",
    "            df = df[(df['Date'] >= pd.Timestamp(begin_period.value)) &  (df['Date'] <= pd.Timestamp(end_period.value))]   \n",
    "\n",
    "            # Transform df format\n",
    "            df_plot = pd.melt(df[['Buy Quant', 'Sell Quant']])\n",
    "\n",
    "            # Concat Date\n",
    "            df_plot['Date'] = pd.concat([df['Date'], df['Date']]).reset_index(drop = True)\n",
    "\n",
    "            # Concat Px Close Diff\n",
    "            df_plot['Px Close Diff'] = pd.concat([abs(df['Px Close'].diff()), abs(df['Px Close'].diff())]).reset_index(drop = True)\n",
    "\n",
    "            # Plot graph\n",
    "            fig = px.bar(df_plot, x= \"Date\", y= \"value\", color= \"variable\", title= 'The plot shows trade ') \n",
    "\n",
    "            # Update fig layout\n",
    "            fig.update_layout(barmode= 'group')\n",
    "            fig.update_yaxes(title='')\n",
    "\n",
    "            # Add close price difference\n",
    "            fig.add_trace(go.Scatter(mode= \"lines\", x= df_plot[\"Date\"], y= df_plot[\"Px Close Diff\"], name= \"Close Variance\"))\n",
    "\n",
    "            # Plot graph\n",
    "            fig.show()\n",
    "        \n",
    "# Create clean button function\n",
    "def BR_Trades_Viz_Clean_Clicked(b):  \n",
    "    with BR_trades_viz_output_clean:\n",
    "        \n",
    "        # Clean output\n",
    "        BR_trades_viz_output.clear_output()"
   ]
  },
  {
   "cell_type": "code",
   "execution_count": null,
   "metadata": {
    "ExecuteTime": {
     "end_time": "2021-05-26T21:46:33.186242Z",
     "start_time": "2021-05-26T21:46:33.110231Z"
    }
   },
   "outputs": [],
   "source": [
    "##### BRAZIL TRADES VISUALIZATION ON BUTTON CLIKED #####\n",
    "\n",
    "# On button click\n",
    "BR_trades_viz_button.on_click(BR_Trades_Viz_Clicked)\n",
    "BR_trades_viz_clean.on_click(BR_Trades_Viz_Clean_Clicked)"
   ]
  },
  {
   "cell_type": "code",
   "execution_count": null,
   "metadata": {
    "ExecuteTime": {
     "end_time": "2021-05-26T21:46:33.296141Z",
     "start_time": "2021-05-26T21:46:33.187241Z"
    }
   },
   "outputs": [],
   "source": [
    "##### BRAZIL RECEIPT CHECKBOX #####\n",
    "\n",
    "# Create vector with checkbox data\n",
    "data = ['Receipt Value', 'FX Description', 'FX Value', 'FX Rate', 'Comm', 'Exc Fee', 'Reg Fee']\n",
    "\n",
    "# Create checkbox receipt\n",
    "BR_receipt_checkboxes = [widgets.Checkbox(value=True, indent=False, description=label) for label in data]\n",
    "\n",
    "# Create checkbox financial horizontal box\n",
    "BR_receipt_hbox = widgets.HBox(children=BR_receipt_checkboxes, layout=Layout(width='900px'))"
   ]
  },
  {
   "cell_type": "code",
   "execution_count": null,
   "metadata": {
    "ExecuteTime": {
     "end_time": "2021-05-26T21:46:33.374913Z",
     "start_time": "2021-05-26T21:46:33.297136Z"
    }
   },
   "outputs": [],
   "source": [
    "##### BRAZIL RECEIPT CUMSUM CHECKBOX #####\n",
    "\n",
    "# Create vector with cumsum\n",
    "data = ['Receipt Value Cum Sum', 'FX Value Cum Sum', 'Total Cum Sum', 'Settlement Cum Sum']\n",
    "\n",
    "# Create checkbox cumsum\n",
    "BR_receipt_checkboxes_cumsum = [widgets.Checkbox(value=True, indent=False, description=label) for label in data]\n",
    "\n",
    "# Create checkbox cumsum horizontal box\n",
    "BR_receipt_hbox_cumsum = widgets.HBox(children=BR_receipt_checkboxes_cumsum, layout=Layout(width='700px'))"
   ]
  },
  {
   "cell_type": "code",
   "execution_count": null,
   "metadata": {
    "ExecuteTime": {
     "end_time": "2021-05-26T21:46:33.467753Z",
     "start_time": "2021-05-26T21:46:33.379843Z"
    }
   },
   "outputs": [],
   "source": [
    "##### BRAZIL RECEIPT BUTTONS #####\n",
    "\n",
    "# Create button and output\n",
    "BR_receipt_button = Button_Sumbmit()\n",
    "\n",
    "# Create button output\n",
    "BR_receipt_output = widgets.Output()\n",
    "\n",
    "# Create button and output\n",
    "BR_receipt_clean = Button_Clean()\n",
    "\n",
    "# Create button output\n",
    "BR_receipt_output_clean = widgets.Output()\n",
    "\n",
    "# Unite buttons\n",
    "BR_receipt_ui = widgets.HBox([BR_receipt_button, BR_receipt_clean])"
   ]
  },
  {
   "cell_type": "code",
   "execution_count": null,
   "metadata": {
    "ExecuteTime": {
     "end_time": "2021-05-26T21:46:33.546218Z",
     "start_time": "2021-05-26T21:46:33.471743Z"
    }
   },
   "outputs": [],
   "source": [
    "##### BRAZIL RECEIPT BUTTONS FUNCTIONS #####\n",
    "\n",
    "# Create button clicked function\n",
    "def BR_Receipt_Clicked(b):\n",
    "    with BR_receipt_output:\n",
    "        \n",
    "        # Clean output\n",
    "        clear_output()\n",
    "        \n",
    "        # Create receipt dataframe\n",
    "        df = BR_receipt\n",
    "        \n",
    "        # Create selected_data list\n",
    "        selected_data = []\n",
    "        \n",
    "        # Add fixed variables\n",
    "        selected_data = selected_data + ['Date']\n",
    "                    \n",
    "        # Loop operation filter\n",
    "        for i in range(0, len(BR_receipt_checkboxes)):\n",
    "                if BR_receipt_checkboxes[i].value == True:\n",
    "                    selected_data = selected_data + [BR_receipt_checkboxes[i].description]\n",
    "                    \n",
    "        # Loop operation filter\n",
    "        for j in range(0, len(BR_receipt_checkboxes_cumsum)):\n",
    "                if BR_receipt_checkboxes_cumsum[j].value == True:\n",
    "                    selected_data = selected_data + [BR_receipt_checkboxes_cumsum[j].description]\n",
    "                    \n",
    "        # Filter selected data\n",
    "        df = df[selected_data]\n",
    "  \n",
    "        # Transform into date type\n",
    "        df['Date'] = pd.to_datetime(df['Date'], format='%d/%m/%Y')\n",
    "        \n",
    "        # Apply filter\n",
    "        df = df[(df['Date'] >=  pd.Timestamp(begin_period.value)) & (df['Date'] <= pd.Timestamp(end_period.value))] \n",
    "        \n",
    "        # Sort by date\n",
    "        df = df.sort_values(by = 'Date')\n",
    "        \n",
    "        # Refine date\n",
    "        df['Date'] = df['Date'].dt.strftime('%d/%m/%Y')\n",
    "        \n",
    "        # Reset index\n",
    "        df = df.reset_index(drop =True)\n",
    "        \n",
    "        # Red column vector\n",
    "        red_col = ['Receipt Value', 'FX Value', 'Receipt Value Cum Sum', 'FX Value Cum Sum', 'Settlement Cum Sum']\n",
    "        \n",
    "        # Create auxiliar variable\n",
    "        aux = []\n",
    "        \n",
    "        # Loop to define red columns\n",
    "        for i in range(0,len(red_col)):\n",
    "            if(red_col[i] in df.columns):\n",
    "                aux.append(red_col[i])\n",
    "        if aux == []:\n",
    "            \n",
    "            # Print result (without red columns)\n",
    "            display(df.style.set_precision(2))\n",
    "            \n",
    "        else:\n",
    "            \n",
    "            # Print result (with red columns)\n",
    "            display(df.style.applymap(color_negative_red, subset=pd.IndexSlice[:, aux]).set_precision(2))\n",
    "        \n",
    "# Create button clicked function\n",
    "def BR_Receipt_Clean_Clicked(b):\n",
    "    with BR_receipt_output_clean:\n",
    "        \n",
    "        # Clear output_receipt\n",
    "        BR_receipt_output.clear_output()"
   ]
  },
  {
   "cell_type": "code",
   "execution_count": null,
   "metadata": {
    "ExecuteTime": {
     "end_time": "2021-05-26T21:46:33.640040Z",
     "start_time": "2021-05-26T21:46:33.549210Z"
    }
   },
   "outputs": [],
   "source": [
    "##### BRAZIL RECEIPT ON BUTTON CLIKED #####\n",
    "\n",
    "# On button click\n",
    "BR_receipt_button.on_click(BR_Receipt_Clicked)\n",
    "BR_receipt_clean.on_click(BR_Receipt_Clean_Clicked)"
   ]
  },
  {
   "cell_type": "code",
   "execution_count": null,
   "metadata": {
    "ExecuteTime": {
     "end_time": "2021-05-26T21:46:33.733798Z",
     "start_time": "2021-05-26T21:46:33.642037Z"
    }
   },
   "outputs": [],
   "source": [
    "##### US FUTURES TRADES DROPDOWN MENU #####\n",
    "\n",
    "# Create dropdown menu to selct trade\n",
    "US_futures_dropdown = interactive(Trade_Select,\n",
    "                                trade = widgets.Combobox(\n",
    "                                    options= ['6L F21',\n",
    "                                             '6L G21',\n",
    "                                             '6L H21',\n",
    "                                             '6L J21',\n",
    "                                             '6L K21',\n",
    "                                             '6L M21',\n",
    "                                             '6L Q20',\n",
    "                                             '6L U20',\n",
    "                                             '6L V20',\n",
    "                                             '6L X20',\n",
    "                                             '6L Z20',\n",
    "                                             'ES H21',\n",
    "                                             'ES M21',\n",
    "                                             'ES U20',\n",
    "                                             'ES Z20',\n",
    "                                             'MES H21',\n",
    "                                             'MES M21',\n",
    "                                             'MES U20',\n",
    "                                             'MES Z20'],\n",
    "                                    description=\"Trade:\"))"
   ]
  },
  {
   "cell_type": "code",
   "execution_count": null,
   "metadata": {
    "ExecuteTime": {
     "end_time": "2021-05-26T21:46:33.857441Z",
     "start_time": "2021-05-26T21:46:33.735763Z"
    }
   },
   "outputs": [],
   "source": [
    "##### US FUTURES TRADES OPERATIONAL CHECKBOX #####\n",
    "\n",
    "# Create vector with operations\n",
    "data = [\"Buy Quant\", \"Buy Price\", \"Sell Quant\", \"Sell Price\", \"Px Close\"]\n",
    "\n",
    "# Create checkbox operations\n",
    "US_futures_trades_checkboxes_operation = [widgets.Checkbox(value=True, indent=False, description=label) for label in data]\n",
    "\n",
    "# Create checkbox operations horizontal box\n",
    "US_futures_trades_hbox_operation = widgets.HBox(children=US_futures_trades_checkboxes_operation, layout=Layout(width='600px'))"
   ]
  },
  {
   "cell_type": "code",
   "execution_count": null,
   "metadata": {
    "ExecuteTime": {
     "end_time": "2021-05-26T21:46:33.968582Z",
     "start_time": "2021-05-26T21:46:33.858440Z"
    }
   },
   "outputs": [],
   "source": [
    "##### US FUTURES TRADES FINANCIAL CHECKBOX #####\n",
    "\n",
    "# Create vector with financial\n",
    "data = [\"Hold Pos\", \"MtoM P&L\", \"Gross P&L\", \"Comm\", \"Exc Fee\", \"Net P&L\"]\n",
    "\n",
    "# Create checkbox financial\n",
    "US_futures_trades_checkboxes_financial = [widgets.Checkbox(value=True, indent=False, description=label) for label in data]\n",
    "\n",
    "# Create checkbox financial horizontal box\n",
    "US_futures_trades_hbox_financial = widgets.HBox(children=US_futures_trades_checkboxes_financial, layout=Layout(width='700px'))"
   ]
  },
  {
   "cell_type": "code",
   "execution_count": null,
   "metadata": {
    "ExecuteTime": {
     "end_time": "2021-05-26T21:46:34.185527Z",
     "start_time": "2021-05-26T21:46:33.969538Z"
    }
   },
   "outputs": [],
   "source": [
    "##### US FUTURES TRADES BUTTONS #####\n",
    "\n",
    "# Create button and output\n",
    "US_futures_trades_button = Button_Sumbmit()\n",
    "\n",
    "# Create button output\n",
    "US_futures_trades_output = widgets.Output()\n",
    "\n",
    "# Create button and output\n",
    "US_futures_trades_clean = Button_Clean()\n",
    "\n",
    "# Create button output\n",
    "US_futures_trades_output_clean = widgets.Output()\n",
    "\n",
    "# Unite buttons\n",
    "US_futures_trades_ui = widgets.HBox([US_futures_trades_button, US_futures_trades_clean])"
   ]
  },
  {
   "cell_type": "code",
   "execution_count": null,
   "metadata": {
    "ExecuteTime": {
     "end_time": "2021-05-26T21:46:34.326040Z",
     "start_time": "2021-05-26T21:46:34.186526Z"
    }
   },
   "outputs": [],
   "source": [
    "##### US FUTURES TRADES BUTTONS FUNCTIONS #####\n",
    "\n",
    "# Create button clicked function\n",
    "def US_Futures_Trades_Clicked(b):\n",
    "    with US_futures_trades_output:\n",
    "        \n",
    "        # Clean output\n",
    "        clear_output()\n",
    "        \n",
    "        # Condition if no trade is selected\n",
    "        if (US_futures_dropdown.result is None):\n",
    "            \n",
    "            # Display warning message box\n",
    "            prRed('#################################### ERROR - PLEASE SELECT A TRADE! ####################################')\n",
    "        \n",
    "        else:\n",
    "            # Create selected_data list\n",
    "            selected_data = []\n",
    "\n",
    "            # Fixede variables\n",
    "            fixed = ['Date', 'Ticker']\n",
    "\n",
    "            # Add fixed variables\n",
    "            selected_data = selected_data + fixed\n",
    "\n",
    "            # Loop operation filter\n",
    "            for i in range(0, len(US_futures_trades_checkboxes_operation)):\n",
    "                    if US_futures_trades_checkboxes_operation[i].value == True:\n",
    "                        selected_data = selected_data + [US_futures_trades_checkboxes_operation[i].description]\n",
    "\n",
    "            # Loop financial filter\n",
    "            for j in range(0, len(US_futures_trades_checkboxes_financial)):\n",
    "                    if US_futures_trades_checkboxes_financial[j].value == True:\n",
    "                        selected_data = selected_data + [US_futures_trades_checkboxes_financial[j].description]\n",
    "\n",
    "            # Create trade dataframe\n",
    "            df = US_futures_dropdown.result\n",
    "\n",
    "            # Round values\n",
    "            df = df.round({'Px Close':2, 'Sell Price':2, 'Buy Price': 2, 'Exc Fee':2, 'MtoM P&L':2, 'Gross P&L': 2, 'Net P&L': 2, 'Comm': 2})\n",
    "\n",
    "            # Change columns type\n",
    "            df = df.astype({'Sell Quant': int, 'Buy Quant': int, 'Hold Pos': int})\n",
    "\n",
    "            # Filter data\n",
    "            df = df[selected_data] \n",
    "\n",
    "            # Transform into date type\n",
    "            df['Date'] = pd.to_datetime(df['Date'], format='%d/%m/%Y')\n",
    "\n",
    "            # Apply filter\n",
    "            df = df[(df['Date'] >=  pd.Timestamp(begin_period.value)) & (df['Date'] <= pd.Timestamp(end_period.value))] \n",
    "\n",
    "            # Sort by date\n",
    "            df = df.sort_values(by = 'Date')\n",
    "\n",
    "            # Refine date\n",
    "            df['Date'] = df['Date'].dt.strftime('%d/%m/%Y')\n",
    "\n",
    "            # Reset index\n",
    "            df = df.reset_index(drop =True)\n",
    "\n",
    "            #Create red columns vector\n",
    "            red_col = ['MtoM P&L' , 'Gross P&L', 'Net P&L', 'Hold Pos']\n",
    "\n",
    "            # Create auxiliar variable\n",
    "            aux = []\n",
    "\n",
    "            # Loop to define red columns\n",
    "            for i in range(0,len(red_col)):\n",
    "                if(red_col[i] in df.columns):\n",
    "                    aux.append(red_col[i])\n",
    "            if aux == []:\n",
    "\n",
    "                # Print result (without red columns)\n",
    "                display(df.style.set_precision(2))\n",
    "\n",
    "            else:\n",
    "\n",
    "                # Print result (with red columns)\n",
    "                display(df.style.applymap(color_negative_red, subset=pd.IndexSlice[:, aux]).set_precision(2))\n",
    "        \n",
    "# Create button clicked function\n",
    "def US_Futures_Trades_Clean_Clicked(b):\n",
    "    with US_futures_trades_output_clean:\n",
    "        \n",
    "        # Clear output_receipt\n",
    "        US_futures_trades_output.clear_output()"
   ]
  },
  {
   "cell_type": "code",
   "execution_count": null,
   "metadata": {
    "ExecuteTime": {
     "end_time": "2021-05-26T21:46:34.405096Z",
     "start_time": "2021-05-26T21:46:34.327006Z"
    }
   },
   "outputs": [],
   "source": [
    "##### US FUTURES TRADES ON BUTTON CLIKED #####\n",
    "\n",
    "# On button click\n",
    "US_futures_trades_button.on_click(US_Futures_Trades_Clicked)\n",
    "US_futures_trades_clean.on_click(US_Futures_Trades_Clean_Clicked)"
   ]
  },
  {
   "cell_type": "code",
   "execution_count": null,
   "metadata": {
    "ExecuteTime": {
     "end_time": "2021-05-26T21:46:34.483119Z",
     "start_time": "2021-05-26T21:46:34.406059Z"
    }
   },
   "outputs": [],
   "source": [
    "##### US EQUITIES TRADES DROPDOWN MENU #####\n",
    "\n",
    "# Create dropdown menu to selct trade\n",
    "US_equities_dropdown = interactive(Trade_Select,\n",
    "                                trade = widgets.Combobox(\n",
    "                                    options= ['MS',\n",
    "                                             'MS Options',\n",
    "                                             'PBR',\n",
    "                                             'SOXX 430',\n",
    "                                             'SOXX 410'],\n",
    "                                    description=\"Trade:\"))"
   ]
  },
  {
   "cell_type": "code",
   "execution_count": null,
   "metadata": {
    "ExecuteTime": {
     "end_time": "2021-05-26T21:46:34.576388Z",
     "start_time": "2021-05-26T21:46:34.484123Z"
    }
   },
   "outputs": [],
   "source": [
    "##### US EQUITIES TRADES OPERATIONAL CHECKBOX #####\n",
    "\n",
    "# Create vector with operations\n",
    "data = [\"Buy Quant\", \"Buy Price\", \"Sell Quant\", \"Sell Price\", \"Px Close\"]\n",
    "\n",
    "# Create checkbox operations\n",
    "US_equities_trades_checkboxes_operation = [widgets.Checkbox(value=True, indent=False, description=label) for label in data]\n",
    "\n",
    "# Create checkbox operations horizontal box\n",
    "US_equities_trades_hbox_operation = widgets.HBox(children=US_equities_trades_checkboxes_operation, layout=Layout(width='600px'))"
   ]
  },
  {
   "cell_type": "code",
   "execution_count": null,
   "metadata": {
    "ExecuteTime": {
     "end_time": "2021-05-26T21:46:34.748934Z",
     "start_time": "2021-05-26T21:46:34.577309Z"
    }
   },
   "outputs": [],
   "source": [
    "##### US EQUITIES TRADES FINANCIAL CHECKBOX #####\n",
    "\n",
    "# Create vector with financial\n",
    "data = [\"Hold Pos\", \"MtoM P&L\", \"Gross P&L\", \"Comm\", \"Exc Fee\", \"Net P&L\"]\n",
    "\n",
    "# Create checkbox financial\n",
    "US_equities_trades_checkboxes_financial = [widgets.Checkbox(value=True, indent=False, description=label) for label in data]\n",
    "\n",
    "# Create checkbox financial horizontal box\n",
    "US_equities_trades_hbox_financial = widgets.HBox(children=US_equities_trades_checkboxes_financial, layout=Layout(width='700px'))"
   ]
  },
  {
   "cell_type": "code",
   "execution_count": null,
   "metadata": {
    "ExecuteTime": {
     "end_time": "2021-05-26T21:46:34.873034Z",
     "start_time": "2021-05-26T21:46:34.749931Z"
    }
   },
   "outputs": [],
   "source": [
    "##### US EQUITIES TRADES BUTTONS #####\n",
    "\n",
    "# Create button and output\n",
    "US_equities_trades_button = Button_Sumbmit()\n",
    "\n",
    "# Create button output\n",
    "US_equities_trades_output = widgets.Output()\n",
    "\n",
    "# Create button and output\n",
    "US_equities_trades_clean = Button_Clean()\n",
    "\n",
    "# Create button output\n",
    "US_equities_trades_output_clean = widgets.Output()\n",
    "\n",
    "# Unite buttons\n",
    "US_equities_trades_ui = widgets.HBox([US_equities_trades_button, US_equities_trades_clean])"
   ]
  },
  {
   "cell_type": "code",
   "execution_count": null,
   "metadata": {
    "ExecuteTime": {
     "end_time": "2021-05-26T21:46:34.950590Z",
     "start_time": "2021-05-26T21:46:34.873937Z"
    }
   },
   "outputs": [],
   "source": [
    "##### US EQUITIES TRADES BUTTONS FUNCTIONS #####\n",
    "\n",
    "# Create button clicked function\n",
    "def US_Equities_Trades_Clicked(b):\n",
    "    with US_equities_trades_output:\n",
    "        \n",
    "        # Clean output\n",
    "        clear_output()\n",
    "        \n",
    "        # Condition if no trade is selected\n",
    "        if (US_equities_dropdown.result is None):\n",
    "            \n",
    "            # Display warning message box\n",
    "            prRed('#################################### ERROR - PLEASE SELECT A TRADE! ####################################')\n",
    "        \n",
    "        else:\n",
    "            # Create selected_data list\n",
    "            selected_data = []\n",
    "\n",
    "            # Fixede variables\n",
    "            fixed = ['Date', 'Ticker']\n",
    "\n",
    "            # Add fixed variables\n",
    "            selected_data = selected_data + fixed\n",
    "\n",
    "            # Loop operation filter\n",
    "            for i in range(0, len(US_equities_trades_checkboxes_operation)):\n",
    "                    if US_equities_trades_checkboxes_operation[i].value == True:\n",
    "                        selected_data = selected_data + [US_equities_trades_checkboxes_operation[i].description]\n",
    "\n",
    "            # Loop financial filter\n",
    "            for j in range(0, len(US_equities_trades_checkboxes_financial)):\n",
    "                    if US_equities_trades_checkboxes_financial[j].value == True:\n",
    "                        selected_data = selected_data + [US_equities_trades_checkboxes_financial[j].description]\n",
    "\n",
    "            # Create trade dataframe\n",
    "            df = US_equities_dropdown.result\n",
    "\n",
    "            # Round values\n",
    "            df = df.round({'Px Close':2, 'Sell Price':2, 'Buy Price': 2, 'Exc Fee':2, 'MtoM P&L':2, 'Gross P&L': 2, 'Net P&L': 2, 'Comm': 2})\n",
    "\n",
    "            # Change columns type\n",
    "            df = df.astype({'Sell Quant': int, 'Buy Quant': int, 'Hold Pos': int})\n",
    "\n",
    "            # Filter data\n",
    "            df = df[selected_data] \n",
    "\n",
    "            # Transform into date type\n",
    "            df['Date'] = pd.to_datetime(df['Date'], format='%d/%m/%Y')\n",
    "\n",
    "            # Apply filter\n",
    "            df = df[(df['Date'] >=  pd.Timestamp(begin_period.value)) & (df['Date'] <= pd.Timestamp(end_period.value))] \n",
    "\n",
    "            # Sort by date\n",
    "            df = df.sort_values(by = 'Date')\n",
    "\n",
    "            # Refine date\n",
    "            df['Date'] = df['Date'].dt.strftime('%d/%m/%Y')\n",
    "\n",
    "            # Reset index\n",
    "            df = df.reset_index(drop =True)\n",
    "\n",
    "            #Create red columns vector\n",
    "            red_col = ['MtoM P&L' , 'Gross P&L', 'Net P&L', 'Hold Pos']\n",
    "\n",
    "            # Create auxiliar variable\n",
    "            aux = []\n",
    "\n",
    "            # Loop to define red columns\n",
    "            for i in range(0,len(red_col)):\n",
    "                if(red_col[i] in df.columns):\n",
    "                    aux.append(red_col[i])\n",
    "            if aux == []:\n",
    "\n",
    "                # Print result (without red columns)\n",
    "                display(df.style.set_precision(2))\n",
    "\n",
    "            else:\n",
    "\n",
    "                # Print result (with red columns)\n",
    "                display(df.style.applymap(color_negative_red, subset=pd.IndexSlice[:, aux]).set_precision(2))\n",
    "        \n",
    "# Create button clicked function\n",
    "def US_Equities_Trades_Clean_Clicked(b):\n",
    "    with US_equities_trades_output_clean:\n",
    "        \n",
    "        # Clear output_receipt\n",
    "        US_equities_trades_output.clear_output()"
   ]
  },
  {
   "cell_type": "code",
   "execution_count": null,
   "metadata": {
    "ExecuteTime": {
     "end_time": "2021-05-26T21:46:35.028879Z",
     "start_time": "2021-05-26T21:46:34.951329Z"
    }
   },
   "outputs": [],
   "source": [
    "##### US EQUITIES TRADES ON BUTTON CLIKED #####\n",
    "\n",
    "# On button click\n",
    "US_equities_trades_button.on_click(US_Equities_Trades_Clicked)\n",
    "US_equities_trades_clean.on_click(US_Equities_Trades_Clean_Clicked)"
   ]
  },
  {
   "cell_type": "code",
   "execution_count": null,
   "metadata": {
    "ExecuteTime": {
     "end_time": "2021-05-26T21:46:35.122676Z",
     "start_time": "2021-05-26T21:46:35.029877Z"
    }
   },
   "outputs": [],
   "source": [
    "###### US TRADES VISUALIZATION BUTTONS #####\n",
    "\n",
    "# Create button and output\n",
    "US_trades_viz_button = Button_Sumbmit()\n",
    "\n",
    "# Create button output\n",
    "US_trades_viz_output = widgets.Output()\n",
    "\n",
    "# Create button and output\n",
    "US_trades_viz_clean = Button_Clean()\n",
    "\n",
    "# Create button output\n",
    "US_trades_viz_output_clean = widgets.Output()\n",
    "\n",
    "# Unite buttons\n",
    "US_trades_viz_ui = widgets.HBox([US_trades_viz_button, US_trades_viz_clean])"
   ]
  },
  {
   "cell_type": "code",
   "execution_count": null,
   "metadata": {
    "ExecuteTime": {
     "end_time": "2021-05-26T21:46:35.199052Z",
     "start_time": "2021-05-26T21:46:35.123673Z"
    }
   },
   "outputs": [],
   "source": [
    "##### US TRADES VISUALIZATION BUTTONS FUNCTIONS #####\n",
    "\n",
    "# Create button clicked function\n",
    "def US_Trades_Viz_Clicked(b):  \n",
    "    with US_trades_viz_output:\n",
    "        \n",
    "        # Clean output\n",
    "        clear_output()\n",
    "        \n",
    "        # Condition if no trade is selected\n",
    "        if (US_futures_dropdown.result is None):\n",
    "            \n",
    "            # Display warning message box\n",
    "            prRed('#################################### ERROR - PLEASE SELECT A TRADE! ####################################')\n",
    "        \n",
    "        else:\n",
    "            \n",
    "            # Create trade dataframe\n",
    "            df = US_futures_dropdown.result\n",
    "\n",
    "            # Transform into date type\n",
    "            df['Date'] = pd.to_datetime(df['Date'], format='%d/%m/%Y')\n",
    "\n",
    "            # Apply filter\n",
    "            df = df[(df['Date'] >= pd.Timestamp(begin_period.value)) &  (df['Date'] <= pd.Timestamp(end_period.value))]   \n",
    "\n",
    "            # Transform df format\n",
    "            df_plot = pd.melt(df[['Buy Quant', 'Sell Quant']])\n",
    "\n",
    "            # Concat Date\n",
    "            df_plot['Date'] = pd.concat([df['Date'], df['Date']]).reset_index(drop = True)\n",
    "\n",
    "            # Concat Px Close Diff\n",
    "            df_plot['Px Close Diff'] = pd.concat([abs(df['Px Close'].diff()), abs(df['Px Close'].diff())]).reset_index(drop = True)\n",
    "\n",
    "            # Plot graph\n",
    "            fig = px.bar(df_plot, x= \"Date\", y= \"value\", color= \"variable\", title= 'The plot shows trade ') \n",
    "\n",
    "            # Update fig layout\n",
    "            fig.update_layout(barmode= 'group')\n",
    "            fig.update_yaxes(title='')\n",
    "\n",
    "            # Add close price difference\n",
    "            fig.add_trace(go.Scatter(mode= \"lines\", x= df_plot[\"Date\"], y= df_plot[\"Px Close Diff\"], name= \"Close Variance\"))\n",
    "\n",
    "            # Plot graph\n",
    "            fig.show()\n",
    "        \n",
    "# Create clean button function\n",
    "def US_Trades_Viz_Clean_Clicked(b):  \n",
    "    with US_trades_viz_output_clean:\n",
    "        \n",
    "        # Clean output\n",
    "        US_trades_viz_output.clear_output()"
   ]
  },
  {
   "cell_type": "code",
   "execution_count": null,
   "metadata": {
    "ExecuteTime": {
     "end_time": "2021-05-26T21:46:35.261990Z",
     "start_time": "2021-05-26T21:46:35.199908Z"
    }
   },
   "outputs": [],
   "source": [
    "##### US TRADES VISUALIZATION ON BUTTON CLIKED #####\n",
    "\n",
    "# On button click\n",
    "US_trades_viz_button.on_click(US_Trades_Viz_Clicked)\n",
    "US_trades_viz_clean.on_click(US_Trades_Viz_Clean_Clicked)"
   ]
  },
  {
   "cell_type": "code",
   "execution_count": null,
   "metadata": {
    "ExecuteTime": {
     "end_time": "2021-05-26T21:46:35.387617Z",
     "start_time": "2021-05-26T21:46:35.262948Z"
    }
   },
   "outputs": [],
   "source": [
    "##### US FUTURTES RECEIPT CHECKBOX #####\n",
    "\n",
    "# Create vector with checkbox data\n",
    "data = ['Receipt Value', 'FX Description', 'FX Value', 'FX Rate', 'Comm', 'Exc Fee']\n",
    "\n",
    "# Create checkbox receipt\n",
    "US_futures_checkboxes = [widgets.Checkbox(value=True, indent=False, description=label) for label in data]\n",
    "\n",
    "# Create checkbox financial horizontal box\n",
    "US_futures_hbox = widgets.HBox(children=US_futures_checkboxes, layout=Layout(width='900px'))"
   ]
  },
  {
   "cell_type": "code",
   "execution_count": null,
   "metadata": {
    "ExecuteTime": {
     "end_time": "2021-05-26T21:46:35.481262Z",
     "start_time": "2021-05-26T21:46:35.388610Z"
    }
   },
   "outputs": [],
   "source": [
    "##### US FUTUES RECEIPT CUMSUM CHECKBOX #####\n",
    "\n",
    "# Create vector with cumsum\n",
    "data = ['Receipt Value Cum Sum', 'FX Value Cum Sum', 'Total Cum Sum', 'Settlement Cum Sum']\n",
    "\n",
    "# Create checkbox cumsum\n",
    "US_futures_checkboxes_cumsum = [widgets.Checkbox(value=True, indent=False, description=label) for label in data]\n",
    "\n",
    "# Create checkbox cumsum horizontal box\n",
    "US_futures_hbox_cumsum = widgets.HBox(children=US_futures_checkboxes_cumsum, layout=Layout(width='700px'))"
   ]
  },
  {
   "cell_type": "code",
   "execution_count": null,
   "metadata": {
    "ExecuteTime": {
     "end_time": "2021-05-26T21:46:35.575648Z",
     "start_time": "2021-05-26T21:46:35.482260Z"
    }
   },
   "outputs": [],
   "source": [
    "##### US FUTURES RECEIPT BUTTONS #####\n",
    "\n",
    "# Create button and output\n",
    "US_futures_button = Button_Sumbmit()\n",
    "\n",
    "# Create button output\n",
    "US_futures_output = widgets.Output()\n",
    "\n",
    "# Create button and output\n",
    "US_futures_clean = Button_Clean()\n",
    "\n",
    "# Create button output\n",
    "US_futures_output_clean = widgets.Output()\n",
    "\n",
    "# Unite buttons\n",
    "US_futures_ui = widgets.HBox([US_futures_button, US_futures_clean])"
   ]
  },
  {
   "cell_type": "code",
   "execution_count": null,
   "metadata": {
    "ExecuteTime": {
     "end_time": "2021-05-26T21:46:35.654609Z",
     "start_time": "2021-05-26T21:46:35.578638Z"
    }
   },
   "outputs": [],
   "source": [
    "##### US FUTURES RECEIPT BUTTONS FUNCTIONS #####\n",
    "\n",
    "# Create button clicked function\n",
    "def US_Futures_Clicked(b):\n",
    "    with US_futures_output:\n",
    "        \n",
    "        # Clean output\n",
    "        clear_output()\n",
    "        \n",
    "        # Create receipt dataframe\n",
    "        df = US_futures_receipt\n",
    "        \n",
    "        # Create selected_data list\n",
    "        selected_data = []\n",
    "        \n",
    "        # Add fixed variables\n",
    "        selected_data = selected_data + ['Date']\n",
    "                    \n",
    "        # Loop operation filter\n",
    "        for i in range(0, len(US_futures_checkboxes)):\n",
    "                if US_futures_checkboxes[i].value == True:\n",
    "                    selected_data = selected_data + [US_futures_checkboxes[i].description]\n",
    "                                       \n",
    "        # Loop financial filter\n",
    "        for j in range(0, len(US_futures_checkboxes_cumsum)):\n",
    "                if US_futures_checkboxes_cumsum[j].value == True:\n",
    "                    selected_data = selected_data + [US_futures_checkboxes_cumsum[j].description]\n",
    "        \n",
    "        # Filter selected data\n",
    "        df = df[selected_data]\n",
    "  \n",
    "        # Transform into date type\n",
    "        df['Date'] = pd.to_datetime(df['Date'], format='%d/%m/%Y')\n",
    "        \n",
    "        # Apply filter\n",
    "        df = df[(df['Date'] >=  pd.Timestamp(begin_period.value)) & (df['Date'] <= pd.Timestamp(end_period.value))] \n",
    "        \n",
    "        # Sort by date\n",
    "        df = df.sort_values(by = 'Date')\n",
    "        \n",
    "        # Refine date\n",
    "        df['Date'] = df['Date'].dt.strftime('%d/%m/%Y')\n",
    "        \n",
    "        # Reset index\n",
    "        df = df.reset_index(drop =True)\n",
    "        \n",
    "        # Red column vector\n",
    "        red_col = ['Receipt Value', 'FX Value', 'Receipt Value Cum Sum', 'FX Value Cum Sum', 'Settlement Cum Sum']\n",
    "        \n",
    "        # Create auxiliar variable\n",
    "        aux = []\n",
    "        \n",
    "        # Loop to define red columns\n",
    "        for i in range(0,len(red_col)):\n",
    "            if(red_col[i] in df.columns):\n",
    "                aux.append(red_col[i])\n",
    "        if aux == []:\n",
    "            \n",
    "            # Print result (without red columns)\n",
    "            display(df.style.set_precision(2))\n",
    "            \n",
    "        else:\n",
    "            \n",
    "            # Print result (with red columns)\n",
    "            display(df.style.applymap(color_negative_red, subset=pd.IndexSlice[:, aux]).set_precision(2))\n",
    "        \n",
    "# Create button clicked function\n",
    "def US_Futures_Clean_Clicked(b):\n",
    "    with US_futures_output_clean:\n",
    "        \n",
    "        # Clear output_receipt\n",
    "        US_futures_output.clear_output()"
   ]
  },
  {
   "cell_type": "code",
   "execution_count": null,
   "metadata": {
    "ExecuteTime": {
     "end_time": "2021-05-26T21:46:35.763072Z",
     "start_time": "2021-05-26T21:46:35.655526Z"
    }
   },
   "outputs": [],
   "source": [
    "##### US FUTURES RECEIPT ON BUTTON CLIKED #####\n",
    "\n",
    "# On button click\n",
    "US_futures_button.on_click(US_Futures_Clicked)\n",
    "US_futures_clean.on_click(US_Futures_Clean_Clicked)"
   ]
  },
  {
   "cell_type": "code",
   "execution_count": null,
   "metadata": {
    "ExecuteTime": {
     "end_time": "2021-05-26T21:46:35.886671Z",
     "start_time": "2021-05-26T21:46:35.767029Z"
    }
   },
   "outputs": [],
   "source": [
    "##### US EQUITIES RECEIPT CHECKBOX #####\n",
    "\n",
    "# Create vector with checkbox data\n",
    "data = ['Receipt Value', 'FX Value', 'FX Description', 'MtoM P&L', 'Comm', 'Exc Fee']\n",
    "\n",
    "# Create checkbox receipt\n",
    "US_equities_checkboxes = [widgets.Checkbox(value=True, indent=False, description=label) for label in data]\n",
    "\n",
    "# Create checkbox financial horizontal box\n",
    "US_equities_hbox = widgets.HBox(children=US_equities_checkboxes, layout=Layout(width='800px'))"
   ]
  },
  {
   "cell_type": "code",
   "execution_count": null,
   "metadata": {
    "ExecuteTime": {
     "end_time": "2021-05-26T21:46:35.965106Z",
     "start_time": "2021-05-26T21:46:35.888675Z"
    }
   },
   "outputs": [],
   "source": [
    "##### US EQUITES RECEIPT CUMSUM CHECKBOX #####\n",
    "\n",
    "# Create vector with cumsum\n",
    "data = ['Receipt Value Cum Sum', 'Settlement Cum Sum']\n",
    "\n",
    "# Create checkbox cumsum\n",
    "US_equities_checkboxes_cumsum = [widgets.Checkbox(value=True, indent=False, description=label) for label in data]\n",
    "\n",
    "# Create checkbox cumsum horizontal box\n",
    "US_equities_hbox_cumsum = widgets.HBox(children=US_equities_checkboxes_cumsum, layout=Layout(width='500px'))"
   ]
  },
  {
   "cell_type": "code",
   "execution_count": null,
   "metadata": {
    "ExecuteTime": {
     "end_time": "2021-05-26T21:46:36.076661Z",
     "start_time": "2021-05-26T21:46:35.966042Z"
    }
   },
   "outputs": [],
   "source": [
    "##### US EQUITIES RECEIPT BUTTONS #####\n",
    "\n",
    "# Create button and output\n",
    "US_equities_button = Button_Sumbmit()\n",
    "\n",
    "# Create button output\n",
    "US_equities_output = widgets.Output()\n",
    "\n",
    "# Create button and output\n",
    "US_equities_clean = Button_Clean()\n",
    "\n",
    "# Create button output\n",
    "US_equities_output_clean = widgets.Output()\n",
    "\n",
    "# Unite buttons\n",
    "US_equities_ui = widgets.HBox([US_equities_button, US_equities_clean])"
   ]
  },
  {
   "cell_type": "code",
   "execution_count": null,
   "metadata": {
    "ExecuteTime": {
     "end_time": "2021-05-26T21:46:36.153755Z",
     "start_time": "2021-05-26T21:46:36.077658Z"
    }
   },
   "outputs": [],
   "source": [
    "##### US EQUITIES RECEIPT BUTTONS FUNCTIONS #####\n",
    "\n",
    "# Create button clicked function\n",
    "def US_Equities_Clicked(b):\n",
    "    with US_equities_output:\n",
    "        \n",
    "        # Clean output\n",
    "        clear_output()\n",
    "        \n",
    "        # Create receipt dataframe\n",
    "        df = US_equities_receipt\n",
    "        \n",
    "        # Create selected_data list\n",
    "        selected_data = []\n",
    "        \n",
    "        # Add fixed variables\n",
    "        selected_data = selected_data + ['Date']\n",
    "                    \n",
    "        # Loop operation filter\n",
    "        for i in range(0, len(US_equities_checkboxes)):\n",
    "                if US_equities_checkboxes[i].value == True:\n",
    "                    selected_data = selected_data + [US_equities_checkboxes[i].description]\n",
    "                                       \n",
    "        # Loop financial filter\n",
    "        for j in range(0, len(US_equities_checkboxes_cumsum)):\n",
    "                if US_equities_checkboxes_cumsum[j].value == True:\n",
    "                    selected_data = selected_data + [US_equities_checkboxes_cumsum[j].description]\n",
    "        \n",
    "        # Filter selected data\n",
    "        df = df[selected_data]\n",
    "  \n",
    "        # Transform into date type\n",
    "        df['Date'] = pd.to_datetime(df['Date'], format='%d/%m/%Y')\n",
    "        \n",
    "        # Apply filter\n",
    "        df = df[(df['Date'] >=  pd.Timestamp(begin_period.value)) & (df['Date'] <= pd.Timestamp(end_period.value))] \n",
    "        \n",
    "        # Sort by date\n",
    "        df = df.sort_values(by = 'Date')\n",
    "        \n",
    "        # Refine date\n",
    "        df['Date'] = df['Date'].dt.strftime('%d/%m/%Y')\n",
    "        \n",
    "        # Reset index\n",
    "        df = df.reset_index(drop =True)\n",
    "        \n",
    "        # Red column vector\n",
    "        red_col = ['Receipt Value', 'MtoM P&L', 'Receipt Value Cum Sum', 'Settlement Cum Sum']\n",
    "        \n",
    "        # Create auxiliar variable\n",
    "        aux = []\n",
    "        \n",
    "        # Loop to define red columns\n",
    "        for i in range(0,len(red_col)):\n",
    "            if(red_col[i] in df.columns):\n",
    "                aux.append(red_col[i])\n",
    "        if aux == []:\n",
    "            \n",
    "            # Print result (without red columns)\n",
    "            display(df.style.set_precision(2))\n",
    "            \n",
    "        else:\n",
    "            \n",
    "            # Print result (with red columns)\n",
    "            display(df.style.applymap(color_negative_red, subset=pd.IndexSlice[:, aux]).set_precision(2))\n",
    "        \n",
    "# Create button clicked function\n",
    "def US_Equities_Clean_Clicked(b):\n",
    "    with US_equities_output_clean:\n",
    "        \n",
    "        # Clear output_receipt\n",
    "        US_equities_output.clear_output()"
   ]
  },
  {
   "cell_type": "code",
   "execution_count": null,
   "metadata": {
    "ExecuteTime": {
     "end_time": "2021-05-26T21:46:36.263297Z",
     "start_time": "2021-05-26T21:46:36.154647Z"
    }
   },
   "outputs": [],
   "source": [
    "##### US EQUITIES RECEIPT ON BUTTON CLIKED #####\n",
    "\n",
    "# On button click\n",
    "US_equities_button.on_click(US_Equities_Clicked)\n",
    "US_equities_clean.on_click(US_Equities_Clean_Clicked)"
   ]
  },
  {
   "cell_type": "code",
   "execution_count": null,
   "metadata": {
    "ExecuteTime": {
     "end_time": "2021-05-26T21:46:36.342043Z",
     "start_time": "2021-05-26T21:46:36.264258Z"
    }
   },
   "outputs": [],
   "source": [
    "##### ALL TRADES PERIOD SELECT DROPDOWN MENU #####\n",
    "\n",
    "# Function to select period\n",
    "def Period_Select(period):\n",
    "    \n",
    "    if (period == 'Daily'):\n",
    "        \n",
    "        # Return output\n",
    "        return(all_trades)\n",
    "    \n",
    "    elif (period == 'Monthly'):\n",
    "        \n",
    "        # Get all trades dataframe\n",
    "        df = all_trades\n",
    "        \n",
    "        # Transform into date type\n",
    "        df['Date'] = pd.to_datetime(df['Date'], format='%d/%m/%Y')\n",
    "        \n",
    "        # Group all trades data monthly\n",
    "        dolar_mean = df.resample('M', on='Date' ,closed=\"right\", label=\"right\").mean().reset_index()['Dolar Ref']\n",
    "        df = df.resample('M', on='Date' ,closed=\"right\", label=\"right\").sum().reset_index()\n",
    "        \n",
    "        # Set cumulative sum\n",
    "        df['P&L Cum Sum'] = df['Total P&L'].cumsum()\n",
    "        df['Return Cum Sum'] = df['Return in %'].cumsum()\n",
    "        df['Dolar Ref'] = dolar_mean\n",
    "        \n",
    "        # Refine date\n",
    "        df['Date'] = df['Date'].dt.strftime('%b %Y')\n",
    "        \n",
    "        # Return output\n",
    "        return(df)\n",
    "    \n",
    "    else:\n",
    "        \n",
    "        # Get all trades dataframe\n",
    "        df = all_trades\n",
    "        \n",
    "        # Transform into date type\n",
    "        df['Date'] = pd.to_datetime(df['Date'], format='%d/%m/%Y')\n",
    "        \n",
    "        # Group all trades data quarterly\n",
    "        dolar_mean = df.resample('3M', on='Date' ,closed=\"right\", label=\"right\").mean().reset_index()['Dolar Ref']\n",
    "        output = df.resample('3M', on='Date' ,closed=\"right\", label=\"right\").sum().reset_index()\n",
    "        \n",
    "        # Get final date\n",
    "        output['Date 2'] = df.resample('3M', on='Date' ,closed=\"left\", label=\"right\").sum().reset_index()['Date']\n",
    "        \n",
    "        # Set cumulative sum\n",
    "        output['P&L Cum Sum'] = output['Total P&L'].cumsum()\n",
    "        output['Return Cum Sum'] = output['Return in %'].cumsum()\n",
    "        output['Dolar Ref'] = dolar_mean\n",
    "        \n",
    "        # Clean dates format\n",
    "        output['Date'] = output['Date'].dt.strftime('%b %y')\n",
    "        output['Date 2'] = output['Date 2'].dt.strftime('%b %y')\n",
    "        \n",
    "        # Create final date column\n",
    "        output['Date Final'] = output['Date'] + ' to ' + output['Date 2']\n",
    "        \n",
    "        # Fill missing values\n",
    "        output['Date Final'] = output['Date Final'].fillna(output['Date'].tail(1))\n",
    "        \n",
    "        # Remove Date columns\n",
    "        del(output['Date 2'])\n",
    "        del(output['Date'])\n",
    "        \n",
    "        # Rename column\n",
    "        output.rename(columns = {'Date Final' : 'Date'}, inplace = True)\n",
    "        \n",
    "        # Return output\n",
    "        return(output)"
   ]
  },
  {
   "cell_type": "code",
   "execution_count": null,
   "metadata": {
    "ExecuteTime": {
     "end_time": "2021-05-26T21:46:36.466733Z",
     "start_time": "2021-05-26T21:46:36.344044Z"
    }
   },
   "outputs": [],
   "source": [
    "##### ALL TRADES DROPDOWNMENU #####\n",
    "all_trades_period_dropdown = interactive(Period_Select,\n",
    "                                 period = widgets.Dropdown(\n",
    "                                 options= ['Daily','Monthly','Quarterly'],\n",
    "                                 description= \"Period:\")\n",
    "                               )"
   ]
  },
  {
   "cell_type": "code",
   "execution_count": null,
   "metadata": {
    "ExecuteTime": {
     "end_time": "2021-05-26T21:46:36.666964Z",
     "start_time": "2021-05-26T21:46:36.468729Z"
    }
   },
   "outputs": [],
   "source": [
    "##### ALL TRADES BR CHECKBOX #####\n",
    "\n",
    "# Create vector with checkbox data\n",
    "data = ['BR Activity', 'BR Futures', 'Dolar Ref', 'BR Futures P&L']\n",
    "\n",
    "# Create checkbox receipt\n",
    "all_trades_BR_checkboxes = [widgets.Checkbox(value= True, indent= False, description= label) for label in data]\n",
    "\n",
    "# Create checkbox financial horizontal box\n",
    "all_trades_BR_hbox = widgets.HBox(children= all_trades_BR_checkboxes, layout= Layout(width= '700px'))"
   ]
  },
  {
   "cell_type": "code",
   "execution_count": null,
   "metadata": {
    "ExecuteTime": {
     "end_time": "2021-05-26T21:46:36.777228Z",
     "start_time": "2021-05-26T21:46:36.667960Z"
    }
   },
   "outputs": [],
   "source": [
    "##### ALL TRADES US CHECKBOX #####\n",
    "\n",
    "# Create vector with checkbox data\n",
    "data = ['US Activity', 'US Futures', 'US Futures P&L', 'US Equities P&L']\n",
    "\n",
    "# Create checkbox receipt\n",
    "all_trades_US_checkboxes = [widgets.Checkbox(value= True, indent= False, description= label) for label in data]\n",
    "\n",
    "# Create checkbox financial horizontal box\n",
    "all_trades_US_hbox = widgets.HBox(children= all_trades_US_checkboxes, layout= Layout(width= '700px'))"
   ]
  },
  {
   "cell_type": "code",
   "execution_count": null,
   "metadata": {
    "ExecuteTime": {
     "end_time": "2021-05-26T21:46:36.872161Z",
     "start_time": "2021-05-26T21:46:36.779223Z"
    }
   },
   "outputs": [],
   "source": [
    "##### ALL TARDES CUMSUM CHECKBOX #####\n",
    "\n",
    "# Create vector with cumsum\n",
    "data = ['Futures P&L', 'Total P&L', 'Return in %', 'Total P&L Cum Sum', 'Return Cum Sum']\n",
    "\n",
    "# Create checkbox cumsum\n",
    "all_trades_total_checkboxes = [widgets.Checkbox(value=True, indent=False, description=label) for label in data]\n",
    "\n",
    "# Create checkbox cumsum horizontal box\n",
    "all_trades_total_hbox = widgets.HBox(children=all_trades_total_checkboxes, layout=Layout(width='800px'))"
   ]
  },
  {
   "cell_type": "code",
   "execution_count": null,
   "metadata": {
    "ExecuteTime": {
     "end_time": "2021-05-26T21:46:36.981943Z",
     "start_time": "2021-05-26T21:46:36.873157Z"
    }
   },
   "outputs": [],
   "source": [
    "##### ALL TRADES BUTTONS #####\n",
    "\n",
    "# Create button and output\n",
    "all_trades_button = Button_Sumbmit()\n",
    "\n",
    "# Create button output\n",
    "all_trades_output = widgets.Output()\n",
    "\n",
    "# Create button and output\n",
    "all_trades_clean = Button_Clean()\n",
    "\n",
    "# Create button output\n",
    "all_trades_output_clean = widgets.Output()\n",
    "\n",
    "# Unite buttons\n",
    "all_trades_ui = widgets.HBox([all_trades_button, all_trades_clean])"
   ]
  },
  {
   "cell_type": "code",
   "execution_count": null,
   "metadata": {
    "ExecuteTime": {
     "end_time": "2021-05-26T21:46:37.058767Z",
     "start_time": "2021-05-26T21:46:36.982939Z"
    }
   },
   "outputs": [],
   "source": [
    "##### ALL TRADES BUTTONS FUNCTIONS #####\n",
    "\n",
    "# Create button clicked function\n",
    "def All_Trades_Clicked(b):\n",
    "    with all_trades_output:\n",
    "        \n",
    "        # Clean output\n",
    "        clear_output()\n",
    "        \n",
    "        # Create receipt dataframe\n",
    "        df = all_trades_period_dropdown.result\n",
    "        \n",
    "        # Create selected_data list\n",
    "        selected_data = []\n",
    "        \n",
    "        # Add fixed variables\n",
    "        selected_data = selected_data + ['Date']\n",
    "        \n",
    "        # Loop BR\n",
    "        for i in range(0, len(all_trades_BR_checkboxes)):\n",
    "                if all_trades_BR_checkboxes[i].value == True:\n",
    "                    selected_data = selected_data + [all_trades_BR_checkboxes[i].description]\n",
    "                    \n",
    "        # Loop US\n",
    "        for i in range(0, len(all_trades_US_checkboxes)):\n",
    "                if all_trades_US_checkboxes[i].value == True:\n",
    "                    selected_data = selected_data + [all_trades_US_checkboxes[i].description]\n",
    "                    \n",
    "        # Loop total\n",
    "        for j in range(0, len(all_trades_total_checkboxes)):\n",
    "                if all_trades_total_checkboxes[j].value == True:\n",
    "                    selected_data = selected_data + [all_trades_total_checkboxes[j].description]\n",
    "        \n",
    "        # Filter selected data\n",
    "        df = df[selected_data]\n",
    "        \n",
    "        if (all_trades_period_dropdown.result['Date'].dtypes == '<M8[ns]'):\n",
    "            \n",
    "            # Transform into date type\n",
    "            df['Date'] = pd.to_datetime(df['Date'], format='%d/%m/%Y')\n",
    "        \n",
    "            # Apply filter\n",
    "            df = df[(df['Date'] >=  pd.Timestamp(begin_period.value)) & (df['Date'] <= pd.Timestamp(end_period.value))] \n",
    "        \n",
    "            # Sort by date\n",
    "            df = df.sort_values(by = 'Date')\n",
    "                           \n",
    "            # Refine date\n",
    "            df['Date'] = df['Date'].dt.strftime('%d/%m/%Y')\n",
    "        \n",
    "        elif (len(all_trades_period_dropdown.result['Date'][0]) == 8):\n",
    "            \n",
    "            # Set date format            \n",
    "            df['Date'] = pd.to_datetime(df['Date'], format='%b %Y')\n",
    "            \n",
    "            # Apply filter            \n",
    "            df = df[(df['Date'] >= dt.datetime.strptime(str(begin_period.value)[0:10], '%Y-%m-%d').strftime('%b %Y')) & \n",
    "                    (df['Date'] <= dt.datetime.strptime(str(end_period.value)[0:10], '%Y-%m-%d').strftime('%b %Y'))] \n",
    "            \n",
    "             # Sort by date\n",
    "            df = df.sort_values(by = 'Date')\n",
    "            \n",
    "            # Refine date\n",
    "            df['Date'] = df['Date'].dt.strftime('%b %Y')\n",
    "                                                \n",
    "        else:\n",
    "            \n",
    "        #elif (len(all_trades_dropdown.result['Date'][0]) == 16):\n",
    "            \n",
    "            pass            \n",
    "        \n",
    "        # Reset index\n",
    "        df = df.reset_index(drop =True)\n",
    "        \n",
    "        # Red column vector\n",
    "        red_col = df.columns.drop('Date')\n",
    "        \n",
    "        # Create auxiliar variable\n",
    "        aux = []\n",
    "        \n",
    "        # Loop to define red columns\n",
    "        for i in range(0,len(red_col)):\n",
    "            if(red_col[i] in df.columns):\n",
    "                aux.append(red_col[i])\n",
    "        if aux == []:\n",
    "            \n",
    "            # Print result (without red columns)\n",
    "            display(df)\n",
    "            \n",
    "        else:\n",
    "            \n",
    "            # Print result (with red columns)\n",
    "            display(df.style.applymap(color_negative_red, subset=pd.IndexSlice[:, aux]).set_precision(2))\n",
    "        \n",
    "# Create button clicked function\n",
    "def All_Trades_Clean_Clicked(b):\n",
    "    with all_trades_output_clean:\n",
    "        \n",
    "        # Clear output_receipt\n",
    "        all_trades_output.clear_output()"
   ]
  },
  {
   "cell_type": "code",
   "execution_count": null,
   "metadata": {
    "ExecuteTime": {
     "end_time": "2021-05-26T21:46:37.137382Z",
     "start_time": "2021-05-26T21:46:37.060766Z"
    }
   },
   "outputs": [],
   "source": [
    "##### ALL TRADES ON BUTTON CLIKED #####\n",
    "\n",
    "# On button click\n",
    "all_trades_button.on_click(All_Trades_Clicked)\n",
    "all_trades_clean.on_click(All_Trades_Clean_Clicked)"
   ]
  },
  {
   "cell_type": "code",
   "execution_count": null,
   "metadata": {
    "ExecuteTime": {
     "end_time": "2021-05-26T21:46:37.214832Z",
     "start_time": "2021-05-26T21:46:37.138092Z"
    }
   },
   "outputs": [],
   "source": [
    "##### ALL TRADES P&L DROPDOWN MENU #####\n",
    "\n",
    "# Function to select period\n",
    "def Prof_and_Loss_Select(prof_and_loss):\n",
    "\n",
    "    #print(prof_and_loss)\n",
    " \n",
    "    return()"
   ]
  },
  {
   "cell_type": "code",
   "execution_count": null,
   "metadata": {
    "ExecuteTime": {
     "end_time": "2021-05-26T21:46:37.292699Z",
     "start_time": "2021-05-26T21:46:37.215794Z"
    }
   },
   "outputs": [],
   "source": [
    "###### ALL TRADES DROPDOWN MENUS #####\n",
    "prof_and_loss_dropdown = interactive(Prof_and_Loss_Select,\n",
    "                                 prof_and_loss = widgets.Dropdown(\n",
    "                                 options= ['Total P&L','BR Futures P&L','US Futures P&L', 'US Equities P&L'],\n",
    "                                 description= \"P&L:\")\n",
    "                               )"
   ]
  },
  {
   "cell_type": "code",
   "execution_count": null,
   "metadata": {
    "ExecuteTime": {
     "end_time": "2021-05-26T21:46:37.298683Z",
     "start_time": "2021-05-26T21:46:31.610Z"
    }
   },
   "outputs": [],
   "source": [
    "##### ALL TRADES PERIOD SELECT DROPDOWN MENU #####\n",
    "\n",
    "# Function to select period\n",
    "def Year_Select(year):\n",
    "    \n",
    "    #print(month)\n",
    " \n",
    "    return()"
   ]
  },
  {
   "cell_type": "code",
   "execution_count": null,
   "metadata": {
    "ExecuteTime": {
     "end_time": "2021-05-26T21:46:37.299681Z",
     "start_time": "2021-05-26T21:46:31.612Z"
    }
   },
   "outputs": [],
   "source": [
    "###### ALL TRADES DROPDOWN MENUS #####\n",
    "all_trades_year_dropdown = interactive(Year_Select,\n",
    "                                 year = widgets.Dropdown(\n",
    "                                 options= ['All','2020','2021'],\n",
    "                                 description= \"Year:\")\n",
    "                               )"
   ]
  },
  {
   "cell_type": "code",
   "execution_count": null,
   "metadata": {
    "ExecuteTime": {
     "end_time": "2021-05-26T21:46:37.300678Z",
     "start_time": "2021-05-26T21:46:31.613Z"
    }
   },
   "outputs": [],
   "source": [
    "##### ALL TRADES PERIOD SELECT DROPDOWN MENU #####\n",
    "\n",
    "# Function to select period\n",
    "def Month_Select(month):\n",
    "    \n",
    "    #print(month)\n",
    " \n",
    "    return()"
   ]
  },
  {
   "cell_type": "code",
   "execution_count": null,
   "metadata": {
    "ExecuteTime": {
     "end_time": "2021-05-26T21:46:37.301675Z",
     "start_time": "2021-05-26T21:46:31.614Z"
    }
   },
   "outputs": [],
   "source": [
    "###### ALL TRADES DROPDOWN MENUS #####\n",
    "all_trades_month_dropdown = interactive(Month_Select,\n",
    "                                 month = widgets.Dropdown(\n",
    "                                 options= ['All','Jan','Feb','Mar','Abr','May','Aug','Sep','Oct','Nov','Dec'],\n",
    "                                 description= \"Month:\")\n",
    "                               )"
   ]
  },
  {
   "cell_type": "code",
   "execution_count": null,
   "metadata": {
    "ExecuteTime": {
     "end_time": "2021-05-26T21:46:37.302673Z",
     "start_time": "2021-05-26T21:46:31.616Z"
    }
   },
   "outputs": [],
   "source": [
    "###### ALL TRADES VISUALIZATION BUTTONS #####\n",
    "\n",
    "# Create button and output\n",
    "all_trades_viz_button = Button_Sumbmit()\n",
    "\n",
    "# Create button output\n",
    "all_trades_viz_output = widgets.Output()\n",
    "\n",
    "# Create button and output\n",
    "all_trades_viz_clean = Button_Clean()\n",
    "\n",
    "# Create button output\n",
    "all_trades_viz_output_clean = widgets.Output()\n",
    "\n",
    "# Unite buttons\n",
    "all_trades_viz_ui = widgets.HBox([all_trades_viz_button, all_trades_viz_clean])"
   ]
  },
  {
   "cell_type": "code",
   "execution_count": null,
   "metadata": {
    "ExecuteTime": {
     "end_time": "2021-05-26T21:46:37.303670Z",
     "start_time": "2021-05-26T21:46:31.617Z"
    }
   },
   "outputs": [],
   "source": [
    "##### ALL TRADES VISUALIZATION BUTTONS FUNCTIONS #####\n",
    "\n",
    "# Create button clicked function\n",
    "def All_Trades_Viz_Clicked(b):  \n",
    "    with all_trades_viz_output:\n",
    "        \n",
    "        # Clean output\n",
    "        clear_output()\n",
    "                    \n",
    "        # Create trade dataframe\n",
    "        df = all_trades\n",
    "        \n",
    "        # Transform into date type\n",
    "        df['Date'] = pd.to_datetime(df['Date'], format='%d/%m/%Y')\n",
    "        \n",
    "        # Group all trades data monthly\n",
    "        df = df.resample('M', on='Date' ,closed=\"right\", label=\"right\").sum().reset_index()\n",
    "        \n",
    "        # Create cumulative sum\n",
    "        df['Cum Sum'] = df['Total P&L'].cumsum()\n",
    "        \n",
    "        # Refine date\n",
    "        df['Date'] = df['Date'].dt.strftime('%b %Y')\n",
    "        \n",
    "        # Set date format            \n",
    "        df['Date'] = pd.to_datetime(df['Date'], format='%b %Y')\n",
    "        \n",
    "        # Apply filter            \n",
    "        df = df[(df['Date'] >= dt.datetime.strptime(str(begin_period.value)[0:10], '%Y-%m-%d').strftime('%b %Y')) & \n",
    "                (df['Date'] <= dt.datetime.strptime(str(end_period.value)[0:10], '%Y-%m-%d').strftime('%b %Y'))] \n",
    "            \n",
    "#         # Sort by date\n",
    "#         df = df.sort_values(by = 'Date')\n",
    "            \n",
    "#         # Refine date\n",
    "#         df['Date'] = df['Date'].dt.strftime('%b %Y')\n",
    "\n",
    "#         # Transform into date type\n",
    "#         df['Date'] = pd.to_datetime(df['Date'], format='%d/%m/%Y')\n",
    "        \n",
    "        fig = px.bar(df, \n",
    "                    x=\"Date\", \n",
    "                    y=\"Total P&L\",  \n",
    "                   text= df['Return in %'].apply(lambda x: '{0:1.2f}%'.format(x)), \n",
    "                    title='The plot shows trade ')\n",
    "    \n",
    "        fig.update_layout(uniformtext_minsize=10, uniformtext_mode='hide')\n",
    "        \n",
    "        fig.add_trace(go.Scatter(mode= \"lines\", x= df[\"Date\"], y= df[\"Cum Sum\"], name= \"Cumulative Sum\"))\n",
    "\n",
    "        # Plot graph\n",
    "        fig.show()\n",
    "        \n",
    "# Create clean button function\n",
    "def All_Trades_Viz_Clean_Clicked(b):  \n",
    "    with all_trades_viz_output_clean:\n",
    "        \n",
    "        # Clean output\n",
    "        all_trades_viz_output.clear_output()"
   ]
  },
  {
   "cell_type": "code",
   "execution_count": null,
   "metadata": {
    "ExecuteTime": {
     "end_time": "2021-05-26T21:46:37.304667Z",
     "start_time": "2021-05-26T21:46:31.619Z"
    }
   },
   "outputs": [],
   "source": [
    "##### US TRADES VISUALIZATION ON BUTTON CLIKED #####\n",
    "\n",
    "# On button click\n",
    "all_trades_viz_button.on_click(All_Trades_Viz_Clicked)\n",
    "all_trades_viz_clean.on_click(All_Trades_Viz_Clean_Clicked)"
   ]
  },
  {
   "cell_type": "markdown",
   "metadata": {},
   "source": [
    "This report is **interactive**. Therefore, you can make multiple analysis using filters to selects specific data to examine. The report can display financial variables results of the trades and their receipts.\n",
    "\n",
    "The report uses the following references:\n",
    "\n",
    "* P&L = Profit and Loss\n",
    "* MtoM = Market to Market\n",
    "* Comm = Commisions\n",
    "* Exc Fee = Exchange Fee\n",
    "* Reg Fee = Register Fee\n",
    "* Px Close = Close Price\n",
    "* Cum Sum = Cumulative Sum\n",
    "\n",
    "To iniciate the analysis, select the time range you want to exam. After that, use the tabs to choose which trades you want to review.\n",
    "\n",
    "### Select Time Range:\n",
    "\n"
   ]
  },
  {
   "cell_type": "code",
   "execution_count": null,
   "metadata": {
    "ExecuteTime": {
     "end_time": "2021-05-26T21:46:37.305664Z",
     "start_time": "2021-05-26T21:46:31.620Z"
    }
   },
   "outputs": [],
   "source": [
    "# Display date range filter\n",
    "display(begin_period, end_period)"
   ]
  },
  {
   "cell_type": "code",
   "execution_count": null,
   "metadata": {
    "ExecuteTime": {
     "end_time": "2021-05-26T21:46:37.306662Z",
     "start_time": "2021-05-26T21:46:31.622Z"
    }
   },
   "outputs": [],
   "source": [
    "##### BRAZIL TRADES ANALYSIS #####\n",
    "\n",
    "# Create analysis\n",
    "BR_trade_analysis = widgets.VBox([\n",
    "    \n",
    "    # Title\n",
    "    widgets.HTML('<center> <h1> Brazil Trades Data Analysis </h1> </center>'),\n",
    "    \n",
    "    # Trades table\n",
    "    widgets.HTML('<i> <h1> Trades Table </h1> </i>'),\n",
    "    widgets.HTML('The data shows financial operations and indicators results in <b> BR Real (R$) </b>, calculated for the Brazilian trades using the financial operations displayed.'),\n",
    "    widgets.HTML('The table can show results from the following trades:'),\n",
    "    widgets.HTML('&emsp; <i> DOL </i> - Comercial Dolar Futures'),\n",
    "    widgets.HTML('&emsp; <i> WDO </i> - Mini Comercial Dolar Futures'),\n",
    "    widgets.HTML('&emsp; <i> IND </i> - Ibovespa Futures'),\n",
    "    widgets.HTML('&emsp; <i> WIN </i> - Mini Ibovespa Futures'),\n",
    "    widgets.HTML('&emsp; <i> ISP </i> - S&P 500 Futures'),\n",
    "    widgets.HTML('&emsp; <i> WSP </i> - Micro S&P 500 Futures'),\n",
    "    widgets.HTML('<h3> Select Trade: </h3>'), \n",
    "    BR_trade_dropdown,\n",
    "    widgets.HTML('<h3> Select Operation: </h3>'), \n",
    "    BR_hbox_operation,\n",
    "    widgets.HTML('<h3> Select Indicator: </h3>'), \n",
    "    BR_hbox_financial,\n",
    "    widgets.HTML('<br>'), \n",
    "    BR_trades_ui,\n",
    "    widgets.HTML('<br>'), \n",
    "    BR_trades_output,\n",
    "    BR_trades_output_clean,\n",
    "    \n",
    "    # Rolagem table\n",
    "    widgets.HTML('<i> <h1> Rolagem Table </h1> </i>'),\n",
    "    widgets.HTML('The table shows the Brazilian trades <i> rolagem </i> operation in <b> BR Real (R$) </b> for all trades.'),\n",
    "    widgets.HTML('<h3> Select Rolagem: </h3>'), \n",
    "    BR_rolagem_dropdown,\n",
    "    widgets.HTML('<h3> Select Operation: </h3>'), \n",
    "    BR_rolagem_hbox_operation,\n",
    "    widgets.HTML('<h3> Select Indicator: </h3>'), \n",
    "    BR_rolagem_hbox_financial,\n",
    "    widgets.HTML('<br>'), \n",
    "    BR_rolagem_ui,\n",
    "    widgets.HTML('<br>'), \n",
    "    BR_rolagem_output,\n",
    "    BR_rolagem_output_clean,\n",
    "    \n",
    "    # Add horizontal line\n",
    "    widgets.HTML('<hr>'), \n",
    "    \n",
    "    # Visualization\n",
    "    widgets.HTML('<h2> Trades Data Visualization </h2>'),\n",
    "    BR_trades_viz_ui,\n",
    "    widgets.HTML('<br>'), \n",
    "    BR_trades_viz_output,\n",
    "    BR_trades_viz_output_clean\n",
    "])"
   ]
  },
  {
   "cell_type": "code",
   "execution_count": null,
   "metadata": {
    "ExecuteTime": {
     "end_time": "2021-05-26T21:46:37.306662Z",
     "start_time": "2021-05-26T21:46:31.624Z"
    }
   },
   "outputs": [],
   "source": [
    "##### BRAZIL RECEIPT ANALYSIS #####\n",
    "\n",
    "# Create analysis\n",
    "BR_receipt_analysis = widgets.VBox([\n",
    "    \n",
    "    # Title\n",
    "    widgets.HTML('<center> <h1> Brazil Receipt Data Analysis </h1> </center>'),\n",
    "    \n",
    "    # BR Receipt Table \n",
    "    widgets.HTML('<i> <h1> Receipt Table </h1> </i>'),\n",
    "    widgets.HTML('The data shows the Brazilian trades recipt values in <b> BR Real (R$) </b>. The receipt values displayed contains the sum of all trades results.'),\n",
    "    widgets.HTML('<h3> Select Operation: </h3>'), \n",
    "    BR_receipt_hbox,\n",
    "    widgets.HTML('<h3> Select Cumulative Sum: </h3>'), \n",
    "    BR_receipt_hbox_cumsum,\n",
    "    widgets.HTML('<br>'), \n",
    "    BR_receipt_ui,\n",
    "    widgets.HTML('<br>'),\n",
    "    BR_receipt_output,\n",
    "    BR_receipt_output_clean, \n",
    "    \n",
    "    # Add horizontal line\n",
    "    widgets.HTML('<hr>'), \n",
    "    \n",
    "    #### Visualization ####\n",
    "    widgets.HTML('<h1> Receipt Visualization </h1>')\n",
    "])"
   ]
  },
  {
   "cell_type": "code",
   "execution_count": null,
   "metadata": {
    "ExecuteTime": {
     "end_time": "2021-05-26T21:46:37.307659Z",
     "start_time": "2021-05-26T21:46:31.625Z"
    }
   },
   "outputs": [],
   "source": [
    "##### US TRADES ANALYSIS #####\n",
    "\n",
    "# Create analysis\n",
    "US_trade_analysis = widgets.VBox([\n",
    "            \n",
    "        # Title\n",
    "        widgets.HTML('<center> <h1> US Trades Data Analysis </h1> </center>'),\n",
    "    \n",
    "        # Futures Table\n",
    "        widgets.HTML('<i> <h1> Futures Table </h1> </i>'),\n",
    "        widgets.HTML('The data shows financial operations and indicators results in <b> US Dolar (US$) </b> calculated for the United States of America trades using the financial operations displayed.'),\n",
    "        widgets.HTML('The <i> futures </i> table can show results from the following trades:'),\n",
    "        widgets.HTML('&emsp; <i> 6L </i> - Brazilian Real Futures'),\n",
    "        widgets.HTML('&emsp; <i> ES </i> - Mini S&P 500 Futures'),\n",
    "        widgets.HTML('&emsp; <i> MES </i> - Micro and Mini S&P 500 Futures'),\n",
    "        widgets.HTML('<h3> Select Trade: </h3>'), \n",
    "        US_futures_dropdown,\n",
    "        widgets.HTML('<h3> Select Operation: </h3>'),\n",
    "        US_futures_trades_hbox_operation,\n",
    "        widgets.HTML('<h3> Select Indicator: </h3>'), \n",
    "        US_futures_trades_hbox_financial,\n",
    "        widgets.HTML('<br>'), \n",
    "        US_futures_trades_ui,\n",
    "        widgets.HTML('<br>'), \n",
    "        US_futures_trades_output,\n",
    "        US_futures_trades_output_clean,\n",
    "        \n",
    "        # Equities Table\n",
    "        widgets.HTML('<i> <h1> Equities Table </h1> </i>'),\n",
    "        widgets.HTML('The <i> equities </i> table can show results from the following trades:'),\n",
    "        widgets.HTML('&emsp; <i> MS </i> - Morgan Stanley Equities'),\n",
    "        widgets.HTML('&emsp; <i> PBR </i> - Petrobras Equities'),\n",
    "        widgets.HTML('&emsp; <i> SOXX </i> - iShares PHLX Semiconductor Equities'),\n",
    "        widgets.HTML('<h3> Select Trade: </h3>'), \n",
    "        US_equities_dropdown,\n",
    "        widgets.HTML('<h3> Select Operation: </h3>'),\n",
    "        US_equities_trades_hbox_operation,\n",
    "        widgets.HTML('<h3> Select Indicator: </h3>'), \n",
    "        US_equities_trades_hbox_financial,\n",
    "        widgets.HTML('<br>'), \n",
    "        US_equities_trades_ui,\n",
    "        widgets.HTML('<br>'), \n",
    "        US_equities_trades_output,\n",
    "        US_equities_trades_output_clean, \n",
    "        \n",
    "        # Add horizontal line\n",
    "        widgets.HTML('<hr>'), \n",
    "    \n",
    "        ##### Visualization ####\n",
    "    \n",
    "        widgets.HTML('<h1> Trades Visualization </h1>'),\n",
    "        US_trades_viz_ui,\n",
    "        widgets.HTML('<br>'), \n",
    "        US_trades_viz_output,\n",
    "        US_trades_viz_output_clean\n",
    "])"
   ]
  },
  {
   "cell_type": "code",
   "execution_count": null,
   "metadata": {
    "ExecuteTime": {
     "end_time": "2021-05-26T21:46:37.308655Z",
     "start_time": "2021-05-26T21:46:31.627Z"
    }
   },
   "outputs": [],
   "source": [
    "##### US RECEIPT ANALYSIS #####\n",
    "\n",
    "# Create analysis\n",
    "US_receipt_analysis = widgets.VBox([\n",
    "    \n",
    "    # Title\n",
    "    widgets.HTML('<center> <h1> US Receipt Data Analysis </h1> </center>'),\n",
    "\n",
    "    # Futures Table\n",
    "    widgets.HTML('<i> <h1> Futures Trades </h1> </i>'),\n",
    "    widgets.HTML('The table shows the US trades recipt values in <b> US Dolar (US$) </b>. The receipt values displayed contains the sum of all <i> futures </i> trades results.'),\n",
    "    widgets.HTML('<h3> Select Operation: </h3>'), \n",
    "    US_futures_hbox,\n",
    "    widgets.HTML('<h3> Select Cumulative Sum: </h3>'), \n",
    "    US_futures_hbox_cumsum,\n",
    "    widgets.HTML('<br>'), \n",
    "    US_futures_ui,\n",
    "    widgets.HTML('<br>'), \n",
    "    US_futures_output,\n",
    "    US_futures_output_clean,\n",
    "    \n",
    "    # Equities Table\n",
    "    widgets.HTML('<i> <h1> Equities Trades </h1> </i>'),\n",
    "    widgets.HTML('The table shows the US trades recipt values in <b> US Dolar (US$) </b>. The receipt values displayed contains the sum of all <i> equities </i> trades results.'),\n",
    "    widgets.HTML('<h3> Select Operation: </h3>'), \n",
    "    US_equities_hbox,\n",
    "    widgets.HTML('<h3> Select Cumulative Sum: </h3>'), \n",
    "    US_equities_hbox_cumsum,\n",
    "    widgets.HTML('<br>'),\n",
    "    US_equities_ui,\n",
    "    widgets.HTML('<br>'), \n",
    "    US_equities_output,\n",
    "    US_equities_output_clean,\n",
    "    \n",
    "    # Add horizontal line\n",
    "    widgets.HTML('<hr>'), \n",
    "    \n",
    "    # Visualizations\n",
    "    widgets.HTML('<h2> Receipt Data Visualization </h2>')\n",
    "])"
   ]
  },
  {
   "cell_type": "code",
   "execution_count": null,
   "metadata": {
    "ExecuteTime": {
     "end_time": "2021-05-26T21:46:37.309654Z",
     "start_time": "2021-05-26T21:46:31.628Z"
    }
   },
   "outputs": [],
   "source": [
    "##### ALL TRADES ANALYSIS #####\n",
    "\n",
    "# Create analysis\n",
    "All_trades_analysis = widgets.VBox([\n",
    "    \n",
    "    # Title\n",
    "    widgets.HTML('<center> <h1> Total Receipt Data Analysis </h1> </center>'),\n",
    "    \n",
    "    # Table\n",
    "    widgets.HTML('<i> <h1> Receipt Table </h1> </i>'),\n",
    "    widgets.HTML('The data shows the United States of American and Brazilian trades recipt values in <b> US Dolar (US$) </b>. Beyond that, the table also shows the total receipt value and it´s return.'),\n",
    "    widgets.HTML('<h3> Select Period: </h3>'), \n",
    "    all_trades_period_dropdown,\n",
    "    widgets.HTML('<h3> Select BR Results: </h3>'), \n",
    "    all_trades_BR_hbox,\n",
    "    widgets.HTML('<h3> Select US Results: </h3>'), \n",
    "    all_trades_US_hbox,\n",
    "    widgets.HTML('<h3> Select Total Results: </h3>'), \n",
    "    all_trades_total_hbox,\n",
    "    widgets.HTML('<br>'), \n",
    "    all_trades_ui,\n",
    "    widgets.HTML('<br>'), \n",
    "    all_trades_output,\n",
    "    all_trades_output_clean, \n",
    "    \n",
    "    # Add horizontal line\n",
    "    widgets.HTML('<hr>'), \n",
    "    \n",
    "    # Visualization\n",
    "    widgets.HTML('<i> <h1> Receipt Visualization </h1> </i>'),\n",
    "    widgets.HTML('<h3> Select Profit and Loss: </h3>'), \n",
    "    prof_and_loss_dropdown,\n",
    "    widgets.HTML('<h3> Select Year: </h3>'), \n",
    "    all_trades_year_dropdown,\n",
    "    widgets.HTML('<h3> Select Month: </h3>'), \n",
    "    all_trades_month_dropdown,\n",
    "    all_trades_viz_ui,\n",
    "    widgets.HTML('<br>'), \n",
    "    all_trades_viz_output,\n",
    "    all_trades_viz_output_clean\n",
    "])"
   ]
  },
  {
   "cell_type": "code",
   "execution_count": null,
   "metadata": {
    "ExecuteTime": {
     "end_time": "2021-05-26T21:46:37.310652Z",
     "start_time": "2021-05-26T21:46:31.629Z"
    }
   },
   "outputs": [],
   "source": [
    "##### DISPLAY TABS #####\n",
    "\n",
    "# Create nested tab\n",
    "tab_nest = widgets.Tab()\n",
    "\n",
    "# Set each tab analysis\n",
    "tab_nest.children = [BR_trade_analysis, BR_receipt_analysis, US_trade_analysis, US_receipt_analysis, All_trades_analysis]\n",
    "\n",
    "# Set tab title\n",
    "tab_nest.set_title(0, 'Brazil Trades')\n",
    "tab_nest.set_title(1, 'Brazil Recipt')\n",
    "tab_nest.set_title(2, 'US Trades')\n",
    "tab_nest.set_title(3, 'US Receipt')\n",
    "tab_nest.set_title(4, 'Total Receipt')\n",
    "\n",
    "# Plot tab\n",
    "tab_nest"
   ]
  }
 ],
 "metadata": {
  "kernelspec": {
   "display_name": "Python 3",
   "language": "python",
   "name": "python3"
  },
  "language_info": {
   "codemirror_mode": {
    "name": "ipython",
    "version": 3
   },
   "file_extension": ".py",
   "mimetype": "text/x-python",
   "name": "python",
   "nbconvert_exporter": "python",
   "pygments_lexer": "ipython3",
   "version": "3.8.5"
  },
  "varInspector": {
   "cols": {
    "lenName": 16,
    "lenType": 16,
    "lenVar": 40
   },
   "kernels_config": {
    "python": {
     "delete_cmd_postfix": "",
     "delete_cmd_prefix": "del ",
     "library": "var_list.py",
     "varRefreshCmd": "print(var_dic_list())"
    },
    "r": {
     "delete_cmd_postfix": ") ",
     "delete_cmd_prefix": "rm(",
     "library": "var_list.r",
     "varRefreshCmd": "cat(var_dic_list()) "
    }
   },
   "types_to_exclude": [
    "module",
    "function",
    "builtin_function_or_method",
    "instance",
    "_Feature"
   ],
   "window_display": false
  }
 },
 "nbformat": 4,
 "nbformat_minor": 4
}
