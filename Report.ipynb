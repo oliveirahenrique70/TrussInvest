{
 "cells": [
  {
   "cell_type": "markdown",
   "metadata": {
    "ExecuteTime": {
     "end_time": "2021-03-11T18:37:51.917443Z",
     "start_time": "2021-03-11T18:37:51.906472Z"
    }
   },
   "source": [
    "<center><h1> Truss Investment </h1></center>\n",
    "<center><h1> Trades Data Analysis Report</h1></center>\n",
    "  \n",
    "### April 2021 \n",
    "---"
   ]
  },
  {
   "cell_type": "code",
   "execution_count": 1,
   "metadata": {
    "ExecuteTime": {
     "end_time": "2021-05-14T22:03:07.499833Z",
     "start_time": "2021-05-14T22:03:06.995732Z"
    }
   },
   "outputs": [],
   "source": [
    "##### LIBRARIES AND FUNCTIONS#####\n",
    "\n",
    "# Load libraries\n",
    "import pandas as pd\n",
    "import ipywidgets as widgets\n",
    "from ipywidgets import Layout, interact, interactive\n",
    "from IPython.display import clear_output, display, HTML\n",
    "import datetime as dt\n",
    "from datetime import datetime, date\n",
    "import plotly.express as px\n",
    "import plotly.graph_objects as go\n",
    "\n",
    "# Import functions\n",
    "from functions import *\n",
    "      \n",
    "# Display options \n",
    "pd.set_option('display.max_rows', 500) # all rows\n",
    "pd.options.mode.chained_assignment = None # spress warning\n",
    "pd.set_option('display.float_format', lambda x: '%.3f' % x)"
   ]
  },
  {
   "cell_type": "code",
   "execution_count": 2,
   "metadata": {
    "ExecuteTime": {
     "end_time": "2021-05-14T22:03:07.549535Z",
     "start_time": "2021-05-14T22:03:07.502839Z"
    }
   },
   "outputs": [],
   "source": [
    "##### READ DATASETS #####\n",
    "\n",
    "# Get trades dataset list\n",
    "dfs_list = Get_Trades()\n",
    "\n",
    "# Read BR receipt data\n",
    "BR_receipt = pd.read_csv('BR Receipt.csv')\n",
    "\n",
    "# Read US Receipt data\n",
    "US_futures_receipt = pd.read_csv('US Futures Receipt.csv')\n",
    "US_equities_receipt = pd.read_csv('US Equities Receipt.csv')\n",
    "\n",
    "# Read all trades receipt data\n",
    "all_trades = pd.read_csv('All Trades Receipt.csv')"
   ]
  },
  {
   "cell_type": "code",
   "execution_count": 3,
   "metadata": {
    "ExecuteTime": {
     "end_time": "2021-05-14T22:03:07.725398Z",
     "start_time": "2021-05-14T22:03:07.554714Z"
    }
   },
   "outputs": [],
   "source": [
    "##### DATE PICKER #####\n",
    "\n",
    "# Get start and end date\n",
    "today = date.today()\n",
    "begin_date = dt.datetime(2020, 7, 1).date()\n",
    "\n",
    "# Create begin date picker\n",
    "begin_period = widgets.DatePicker(description='Start:',\n",
    "                                 value = begin_date)\n",
    "\n",
    "# Create end date picker\n",
    "end_period = widgets.DatePicker(description='End:',\n",
    "                               value = today)"
   ]
  },
  {
   "cell_type": "code",
   "execution_count": 4,
   "metadata": {
    "ExecuteTime": {
     "end_time": "2021-05-14T22:03:07.809625Z",
     "start_time": "2021-05-14T22:03:07.727800Z"
    }
   },
   "outputs": [],
   "source": [
    "# Function to get data for BR_trades\n",
    "def Trade_Select(trade):\n",
    "    \n",
    "    for i in range(0, len(dfs_list)):\n",
    "        \n",
    "        if (dfs_list[i]['Ticker'][0] == trade):\n",
    "            \n",
    "            return(dfs_list[i])"
   ]
  },
  {
   "cell_type": "code",
   "execution_count": 5,
   "metadata": {
    "ExecuteTime": {
     "end_time": "2021-05-14T22:03:07.905917Z",
     "start_time": "2021-05-14T22:03:07.813171Z"
    }
   },
   "outputs": [],
   "source": [
    "##### BRAZIL TRADES DROPDOWN MENU #####\n",
    "\n",
    "# Create dropdown menu to selct trade\n",
    "BR_trade_dropdown = interactive(Trade_Select,\n",
    "                                trade = widgets.Combobox(\n",
    "                                    options= ['DOLM21',\n",
    "                                              'DOLK21',\n",
    "                                              'DOLG21',\n",
    "                                              'DOLQ20',\n",
    "                                              'DOLU20',\n",
    "                                              'INDG21',\n",
    "                                              'INDJ21',\n",
    "                                              'INDM21',\n",
    "                                              'ISPH21',\n",
    "                                              'ISPM21',\n",
    "                                              'ISPU20',\n",
    "                                              'ISPU21',\n",
    "                                              'ISPZ20',\n",
    "                                              'WDOF21',\n",
    "                                              'WDOG21',\n",
    "                                              'WDOJ21',\n",
    "                                              'WDOK21',\n",
    "                                              'WDOM21',\n",
    "                                              'WDOQ20',\n",
    "                                              'WDOU20',\n",
    "                                              'WING21',\n",
    "                                              'WINJ21',\n",
    "                                              'WINM21',\n",
    "                                              'WSPH21',\n",
    "                                              'WSPM21',\n",
    "                                              'WSPU20',\n",
    "                                              'WSPZ20'],\n",
    "                                    description=\"Trade:\")\n",
    "                               )"
   ]
  },
  {
   "cell_type": "code",
   "execution_count": 6,
   "metadata": {
    "ExecuteTime": {
     "end_time": "2021-05-14T22:03:08.043466Z",
     "start_time": "2021-05-14T22:03:07.907869Z"
    }
   },
   "outputs": [],
   "source": [
    "##### BRAZIL TRADES OPERATIONAL CHECKBOX #####\n",
    "\n",
    "# Create vector with operations\n",
    "data = [\"Buy Quant\", \"Buy Price\", \"Sell Quant\", \"Sell Price\", \"Px Close\"]\n",
    "\n",
    "# Create checkbox operations\n",
    "BR_checkboxes_operation = [widgets.Checkbox(value=True, indent=False, description=label) for label in data]\n",
    "\n",
    "# Create checkbox operations horizontal box\n",
    "BR_hbox_operation = widgets.HBox(children=BR_checkboxes_operation, layout=Layout(width='600px'))"
   ]
  },
  {
   "cell_type": "code",
   "execution_count": 7,
   "metadata": {
    "ExecuteTime": {
     "end_time": "2021-05-14T22:03:08.174874Z",
     "start_time": "2021-05-14T22:03:08.045079Z"
    }
   },
   "outputs": [],
   "source": [
    "##### BRAZIL TRADES FINANCIAL CHECKBOX #####\n",
    "\n",
    "# Create vector with financial\n",
    "data = [\"Hold Pos\", \"MtoM P&L\", \"Gross P&L\", \"Comm\", \"Exc Fee\", \"Net P&L\"]\n",
    "\n",
    "# Create checkbox financial\n",
    "BR_checkboxes_financial = [widgets.Checkbox(value=True, indent=False, description=label) for label in data]\n",
    "\n",
    "# Create checkbox financial horizontal box\n",
    "BR_hbox_financial = widgets.HBox(children=BR_checkboxes_financial, layout=Layout(width='700px'))"
   ]
  },
  {
   "cell_type": "code",
   "execution_count": 8,
   "metadata": {
    "ExecuteTime": {
     "end_time": "2021-05-14T22:03:08.272650Z",
     "start_time": "2021-05-14T22:03:08.177903Z"
    }
   },
   "outputs": [],
   "source": [
    "##### BRAZIL TRADES BUTTONS #####\n",
    "\n",
    "# Create button and output\n",
    "BR_trades_button = Button_Sumbmit()\n",
    "\n",
    "# Create button output\n",
    "BR_trades_output = widgets.Output()\n",
    "\n",
    "# Create button and output\n",
    "BR_trades_clean = Button_Clean()\n",
    "\n",
    "# Create button output\n",
    "BR_trades_output_clean = widgets.Output()\n",
    "\n",
    "# Unite buttons\n",
    "BR_trades_ui = widgets.HBox([BR_trades_button, BR_trades_clean])"
   ]
  },
  {
   "cell_type": "code",
   "execution_count": 9,
   "metadata": {
    "ExecuteTime": {
     "end_time": "2021-05-14T22:03:08.349019Z",
     "start_time": "2021-05-14T22:03:08.275827Z"
    }
   },
   "outputs": [],
   "source": [
    "##### BRAZIL TRADES BUTTONS FUNCTIONS #####\n",
    "\n",
    "# Create button clicked function\n",
    "def BR_Trades_Clicked(b):  \n",
    "    with BR_trades_output:\n",
    "        \n",
    "        # Clean output\n",
    "        clear_output()\n",
    "        \n",
    "        # Condition if no trade is selected\n",
    "        if (BR_trade_dropdown.result is None):\n",
    "            \n",
    "            # Display warning message box\n",
    "            prRed('#################################### ERROR - PLEASE SELECT A TRADE! ####################################')\n",
    "       \n",
    "        else:\n",
    "        \n",
    "            # Create selected_data list\n",
    "            selected_data = []\n",
    "        \n",
    "            # Fixede variables\n",
    "            fixed = ['Date', 'Ticker']\n",
    "        \n",
    "            # Add fixed variables\n",
    "            selected_data = selected_data + fixed\n",
    "                    \n",
    "            # Loop operation filter\n",
    "            for i in range(0, len(BR_checkboxes_operation)):\n",
    "                    if BR_checkboxes_operation[i].value == True:\n",
    "                        selected_data = selected_data + [BR_checkboxes_operation[i].description]\n",
    "        \n",
    "            # Loop financial filter\n",
    "            for j in range(0, len(BR_checkboxes_financial)):\n",
    "                    if BR_checkboxes_financial[j].value == True:\n",
    "                        selected_data = selected_data + [BR_checkboxes_financial[j].description]\n",
    "                    \n",
    "            # Create trade dataframe\n",
    "            df = BR_trade_dropdown.result\n",
    "            \n",
    "            # Round values\n",
    "            df = df.round({'Px Close':2, 'Sell Price':2, 'Buy Price': 2, 'Exc Fee':2, 'MtoM P&L':2, 'Gross P&L': 2, 'Net P&L': 2, 'Comm': 2})\n",
    "        \n",
    "            # Change columns type\n",
    "            df = df.astype({'Sell Quant': int, 'Buy Quant': int, 'Hold Pos': int})\n",
    "        \n",
    "            # Filter data\n",
    "            df = df[selected_data] \n",
    "               \n",
    "            # Transform into date type\n",
    "            df['Date'] = pd.to_datetime(df['Date'], format='%d/%m/%Y')\n",
    "        \n",
    "            # Apply filter\n",
    "            df = df[(df['Date'] >= pd.Timestamp(begin_period.value)) &  (df['Date'] <= pd.Timestamp(end_period.value))]   \n",
    "        \n",
    "            # Sort by date\n",
    "            df = df.sort_values(by = 'Date')\n",
    "        \n",
    "            # Refine date\n",
    "            df['Date'] = df['Date'].dt.strftime('%d/%m/%Y')\n",
    "\n",
    "            # Reset index\n",
    "            df = df.reset_index(drop = True)\n",
    "        \n",
    "            #Create red columns vector\n",
    "            red_col = ['MtoM P&L' , 'Gross P&L', 'Net P&L', 'Hold Pos']\n",
    "       \n",
    "            # Create auxiliar variable\n",
    "            aux = []\n",
    "        \n",
    "            # Loop to define red columns\n",
    "            for i in range(0,len(red_col)):\n",
    "                if(red_col[i] in df.columns):\n",
    "                    aux.append(red_col[i])\n",
    "                    \n",
    "            if aux == []:\n",
    "                \n",
    "                # Print result (without red columns)\n",
    "                display(df.style.set_precision(2))\n",
    "                \n",
    "            else:\n",
    "            \n",
    "                # Print result (with red columns)\n",
    "                display(df.style.applymap(color_negative_red, subset=pd.IndexSlice[:, aux]).set_precision(2))\n",
    "            \n",
    "# Create clean button function\n",
    "def BR_Trades_Clean_Clicked(b):  \n",
    "    with BR_trades_output_clean:\n",
    "        \n",
    "        # Clean output\n",
    "        BR_trades_output.clear_output()"
   ]
  },
  {
   "cell_type": "code",
   "execution_count": 10,
   "metadata": {
    "ExecuteTime": {
     "end_time": "2021-05-14T22:03:08.427642Z",
     "start_time": "2021-05-14T22:03:08.352594Z"
    }
   },
   "outputs": [],
   "source": [
    "##### BRAZIL TRADES TABLE ON BUTTON CLIKED #####\n",
    "\n",
    "# On button click\n",
    "BR_trades_button.on_click(BR_Trades_Clicked)\n",
    "BR_trades_clean.on_click(BR_Trades_Clean_Clicked)"
   ]
  },
  {
   "cell_type": "code",
   "execution_count": 11,
   "metadata": {
    "ExecuteTime": {
     "end_time": "2021-05-14T22:03:08.550357Z",
     "start_time": "2021-05-14T22:03:08.432091Z"
    }
   },
   "outputs": [],
   "source": [
    "##### BRAZIL TRADES DROPDOWN MENU #####\n",
    "\n",
    "# Create dropdown menu to selct trade\n",
    "BR_rolagem_dropdown = interactive(Trade_Select,\n",
    "                                trade = widgets.Combobox(\n",
    "                                    options= ['DR1K21M21',\n",
    "                                             'RSPH21M21',\n",
    "                                             'WS1H21M21'],\n",
    "                                    description=\"Rolagem:\")\n",
    "                               )"
   ]
  },
  {
   "cell_type": "code",
   "execution_count": 12,
   "metadata": {
    "ExecuteTime": {
     "end_time": "2021-05-14T22:03:08.711151Z",
     "start_time": "2021-05-14T22:03:08.554127Z"
    }
   },
   "outputs": [],
   "source": [
    "##### BRAZIL TRADES ROLAGEM ROLAGEM OPERATIONAL CHECKBOX #####\n",
    "\n",
    "# Create vector with operations\n",
    "data = [\"Buy Quant\", \"Sell Quant\", 'Buyer Buy Price', 'Buyer Sell Price', 'Seller Buy Price', \"Seller Sell Price\"]\n",
    "\n",
    "# Create checkbox operations\n",
    "BR_rolagem_checkboxes_operation = [widgets.Checkbox(value=True, indent=False, description=label) for label in data]\n",
    "\n",
    "# Create checkbox operations horizontal box\n",
    "BR_rolagem_hbox_operation = widgets.HBox(children=BR_rolagem_checkboxes_operation, layout=Layout(width='900px'))"
   ]
  },
  {
   "cell_type": "code",
   "execution_count": 13,
   "metadata": {
    "ExecuteTime": {
     "end_time": "2021-05-14T22:03:08.777570Z",
     "start_time": "2021-05-14T22:03:08.714103Z"
    }
   },
   "outputs": [],
   "source": [
    "##### BRAZIL TRADES ROLAGEM FINANCIAL CHECKBOX #####\n",
    "\n",
    "# Create vector with financial\n",
    "data = [\"Buyer Gross P&L\", \"Seller Gross P&L\"]\n",
    "\n",
    "# Create checkbox financial\n",
    "BR_rolagem_checkboxes_financial = [widgets.Checkbox(value=True, indent=False, description=label) for label in data]\n",
    "\n",
    "# Create checkbox financial horizontal box\n",
    "BR_rolagem_hbox_financial = widgets.HBox(children=BR_rolagem_checkboxes_financial, layout=Layout(width='300px'))"
   ]
  },
  {
   "cell_type": "code",
   "execution_count": 14,
   "metadata": {
    "ExecuteTime": {
     "end_time": "2021-05-14T22:03:08.914280Z",
     "start_time": "2021-05-14T22:03:08.778567Z"
    }
   },
   "outputs": [],
   "source": [
    "##### BRAZIL TRADES ROLAGEM BUTTONS #####\n",
    "\n",
    "# Create button and output\n",
    "BR_rolagem_button = Button_Sumbmit()\n",
    "\n",
    "# Create button output\n",
    "BR_rolagem_output = widgets.Output()\n",
    "\n",
    "# Create button and output\n",
    "BR_rolagem_clean = Button_Clean()\n",
    "\n",
    "# Create button output\n",
    "BR_rolagem_output_clean = widgets.Output()\n",
    "\n",
    "# Unite buttons\n",
    "BR_rolagem_ui = widgets.HBox([BR_rolagem_button, BR_rolagem_clean])"
   ]
  },
  {
   "cell_type": "code",
   "execution_count": 15,
   "metadata": {
    "ExecuteTime": {
     "end_time": "2021-05-14T22:03:09.029617Z",
     "start_time": "2021-05-14T22:03:08.918447Z"
    }
   },
   "outputs": [],
   "source": [
    "##### BRAZIL TRADES ROLAGEM BUTTONS FUNCTIONS #####\n",
    "\n",
    "# Create button clicked function\n",
    "def BR_Rolagem_Clicked(b):  \n",
    "    with BR_rolagem_output:\n",
    "        \n",
    "        # Clean output\n",
    "        clear_output()\n",
    "        \n",
    "        # Condition if no trade is selected\n",
    "        if (BR_rolagem_dropdown.result is None):\n",
    "            \n",
    "            # Display warning message box\n",
    "            prRed('#################################### ERROR - PLEASE SELECT A ROLAGEM! ####################################')\n",
    "       \n",
    "        else:\n",
    "        \n",
    "            # Create selected_data list\n",
    "            selected_data = []\n",
    "        \n",
    "            # Fixede variables\n",
    "            fixed = ['Date', 'Buyer Ticker', 'Seller Ticker']\n",
    "        \n",
    "            # Add fixed variables\n",
    "            selected_data = selected_data + fixed\n",
    "                    \n",
    "            # Loop operation filter\n",
    "            for i in range(0, len(BR_rolagem_checkboxes_operation)):\n",
    "                    if BR_rolagem_checkboxes_operation[i].value == True:\n",
    "                        selected_data = selected_data + [BR_rolagem_checkboxes_operation[i].description]\n",
    "        \n",
    "            # Loop financial filter\n",
    "            for j in range(0, len(BR_rolagem_checkboxes_financial)):\n",
    "                    if BR_rolagem_checkboxes_financial[j].value == True:\n",
    "                        selected_data = selected_data + [BR_rolagem_checkboxes_financial[j].description]\n",
    "                    \n",
    "            # Create trade dataframe\n",
    "            df = BR_rolagem_dropdown.result\n",
    "            \n",
    "            # Round values\n",
    "            df = df.round({'Buyer Buy Price': 2, 'Buyer Sell Price': 2 , 'Seller Buy Price': 2 , \"Seller Sell Price\": 2, \"Buyer Gross P&L\": 2, \"Seller Gross P&L\": 2})\n",
    "        \n",
    "            # Change columns type\n",
    "            df = df.astype({'Sell Quant': int, 'Buy Quant': int})\n",
    "        \n",
    "            # Filter data\n",
    "            df = df[selected_data] \n",
    "               \n",
    "            # Transform into date type\n",
    "            df['Date'] = pd.to_datetime(df['Date'], format='%d/%m/%Y')\n",
    "        \n",
    "            # Apply filter\n",
    "            df = df[(df['Date'] >= pd.Timestamp(begin_period.value)) &  (df['Date'] <= pd.Timestamp(end_period.value))]   \n",
    "        \n",
    "            # Sort by date\n",
    "            df = df.sort_values(by = 'Date')\n",
    "        \n",
    "            # Refine date\n",
    "            df['Date'] = df['Date'].dt.strftime('%d/%m/%Y')\n",
    "\n",
    "            # Reset index\n",
    "            df = df.reset_index(drop = True)\n",
    "        \n",
    "            #Create red columns vector\n",
    "            red_col = ['Buyer Gross P&L', 'Seller Gross P&L']\n",
    "       \n",
    "            # Create auxiliar variable\n",
    "            aux = []\n",
    "        \n",
    "            # Loop to define red columns\n",
    "            for i in range(0,len(red_col)):\n",
    "                if(red_col[i] in df.columns):\n",
    "                    aux.append(red_col[i])\n",
    "                    \n",
    "            if aux == []:\n",
    "                \n",
    "                # Print result (without red columns)\n",
    "                display(df.style.set_precision(2))\n",
    "                \n",
    "            else:\n",
    "            \n",
    "                # Print result (with red columns)\n",
    "                display(df.style.applymap(color_negative_red, subset=pd.IndexSlice[:, aux]).set_precision(2))\n",
    "            \n",
    "# Create clean button function\n",
    "def BR_Rolagem_Clean_Clicked(b):  \n",
    "    with BR_rolagem_output_clean:\n",
    "        \n",
    "        # Clean output\n",
    "        BR_rolagem_output.clear_output()"
   ]
  },
  {
   "cell_type": "code",
   "execution_count": 16,
   "metadata": {
    "ExecuteTime": {
     "end_time": "2021-05-14T22:03:09.115674Z",
     "start_time": "2021-05-14T22:03:09.036361Z"
    }
   },
   "outputs": [],
   "source": [
    "##### BRAZIL TRADES ROLAGEM ON BUTTON CLIKED #####\n",
    "\n",
    "# On button click\n",
    "BR_rolagem_button.on_click(BR_Rolagem_Clicked)\n",
    "BR_rolagem_clean.on_click(BR_Rolagem_Clean_Clicked)"
   ]
  },
  {
   "cell_type": "code",
   "execution_count": 17,
   "metadata": {
    "ExecuteTime": {
     "end_time": "2021-05-14T22:03:09.228021Z",
     "start_time": "2021-05-14T22:03:09.119982Z"
    }
   },
   "outputs": [],
   "source": [
    "###### BRAZIL TRADES VISUALIZATION BUTTONS #####\n",
    "\n",
    "# Create button and output\n",
    "BR_trades_viz_button = Button_Sumbmit()\n",
    "\n",
    "# Create button output\n",
    "BR_trades_viz_output = widgets.Output()\n",
    "\n",
    "# Create button and output\n",
    "BR_trades_viz_clean = Button_Clean()\n",
    "\n",
    "# Create button output\n",
    "BR_trades_viz_output_clean = widgets.Output()\n",
    "\n",
    "# Unite buttons\n",
    "BR_trades_viz_ui = widgets.HBox([BR_trades_viz_button, BR_trades_viz_clean])"
   ]
  },
  {
   "cell_type": "code",
   "execution_count": 18,
   "metadata": {
    "ExecuteTime": {
     "end_time": "2021-05-14T22:03:09.315780Z",
     "start_time": "2021-05-14T22:03:09.230208Z"
    }
   },
   "outputs": [],
   "source": [
    "##### BRAZIL TRADES VISUALIZATION BUTTONS FUNCTIONS #####\n",
    "\n",
    "# Create button clicked function\n",
    "def BR_Trades_Viz_Clicked(b):  \n",
    "    with BR_trades_viz_output:\n",
    "        \n",
    "        # Clean output\n",
    "        clear_output()\n",
    "        \n",
    "        # Condition if no trade is selected\n",
    "        if (BR_trade_dropdown.result is None):\n",
    "            \n",
    "            # Display warning message box\n",
    "            prRed('#################################### ERROR - PLEASE SELECT A TRADE! ####################################')\n",
    "       \n",
    "        else:\n",
    "         \n",
    "            # Create trade dataframe\n",
    "            df = BR_trade_dropdown.result\n",
    "\n",
    "            # Transform into date type\n",
    "            df['Date'] = pd.to_datetime(df['Date'], format='%d/%m/%Y')\n",
    "\n",
    "            # Apply filter\n",
    "            df = df[(df['Date'] >= pd.Timestamp(begin_period.value)) &  (df['Date'] <= pd.Timestamp(end_period.value))]   \n",
    "\n",
    "            # Transform df format\n",
    "            df_plot = pd.melt(df[['Buy Quant', 'Sell Quant']])\n",
    "\n",
    "            # Concat Date\n",
    "            df_plot['Date'] = pd.concat([df['Date'], df['Date']]).reset_index(drop = True)\n",
    "\n",
    "            # Concat Px Close Diff\n",
    "            df_plot['Px Close Diff'] = pd.concat([abs(df['Px Close'].diff()), abs(df['Px Close'].diff())]).reset_index(drop = True)\n",
    "\n",
    "            # Plot graph\n",
    "            fig = px.bar(df_plot, x= \"Date\", y= \"value\", color= \"variable\", title= 'The plot shows trade ') \n",
    "\n",
    "            # Update fig layout\n",
    "            fig.update_layout(barmode= 'group')\n",
    "            fig.update_yaxes(title='')\n",
    "\n",
    "            # Add close price difference\n",
    "            fig.add_trace(go.Scatter(mode= \"lines\", x= df_plot[\"Date\"], y= df_plot[\"Px Close Diff\"], name= \"Close Variance\"))\n",
    "\n",
    "            # Plot graph\n",
    "            fig.show()\n",
    "        \n",
    "# Create clean button function\n",
    "def BR_Trades_Viz_Clean_Clicked(b):  \n",
    "    with BR_trades_viz_output_clean:\n",
    "        \n",
    "        # Clean output\n",
    "        BR_trades_viz_output.clear_output()"
   ]
  },
  {
   "cell_type": "code",
   "execution_count": 19,
   "metadata": {
    "ExecuteTime": {
     "end_time": "2021-05-14T22:03:09.396235Z",
     "start_time": "2021-05-14T22:03:09.318963Z"
    }
   },
   "outputs": [],
   "source": [
    "##### BRAZIL TRADES VISUALIZATION ON BUTTON CLIKED #####\n",
    "\n",
    "# On button click\n",
    "BR_trades_viz_button.on_click(BR_Trades_Viz_Clicked)\n",
    "BR_trades_viz_clean.on_click(BR_Trades_Viz_Clean_Clicked)"
   ]
  },
  {
   "cell_type": "code",
   "execution_count": 20,
   "metadata": {
    "ExecuteTime": {
     "end_time": "2021-05-14T22:03:09.531693Z",
     "start_time": "2021-05-14T22:03:09.399327Z"
    }
   },
   "outputs": [],
   "source": [
    "##### BRAZIL RECEIPT CHECKBOX #####\n",
    "\n",
    "# Create vector with checkbox data\n",
    "data = ['Receipt Value', 'FX Description', 'FX Value', 'FX Rate', 'Comm', 'Exc Fee', 'Reg Fee']\n",
    "\n",
    "# Create checkbox receipt\n",
    "BR_receipt_checkboxes = [widgets.Checkbox(value=True, indent=False, description=label) for label in data]\n",
    "\n",
    "# Create checkbox financial horizontal box\n",
    "BR_receipt_hbox = widgets.HBox(children=BR_receipt_checkboxes, layout=Layout(width='900px'))"
   ]
  },
  {
   "cell_type": "code",
   "execution_count": 21,
   "metadata": {
    "ExecuteTime": {
     "end_time": "2021-05-14T22:03:09.627944Z",
     "start_time": "2021-05-14T22:03:09.533685Z"
    }
   },
   "outputs": [],
   "source": [
    "##### BRAZIL RECEIPT CUMSUM CHECKBOX #####\n",
    "\n",
    "# Create vector with cumsum\n",
    "data = ['Receipt Value Cum Sum', 'FX Value Cum Sum', 'Total Cum Sum', 'Settlement Cum Sum']\n",
    "\n",
    "# Create checkbox cumsum\n",
    "BR_receipt_checkboxes_cumsum = [widgets.Checkbox(value=True, indent=False, description=label) for label in data]\n",
    "\n",
    "# Create checkbox cumsum horizontal box\n",
    "BR_receipt_hbox_cumsum = widgets.HBox(children=BR_receipt_checkboxes_cumsum, layout=Layout(width='700px'))"
   ]
  },
  {
   "cell_type": "code",
   "execution_count": 22,
   "metadata": {
    "ExecuteTime": {
     "end_time": "2021-05-14T22:03:09.754208Z",
     "start_time": "2021-05-14T22:03:09.628942Z"
    }
   },
   "outputs": [],
   "source": [
    "##### BRAZIL RECEIPT BUTTONS #####\n",
    "\n",
    "# Create button and output\n",
    "BR_receipt_button = Button_Sumbmit()\n",
    "\n",
    "# Create button output\n",
    "BR_receipt_output = widgets.Output()\n",
    "\n",
    "# Create button and output\n",
    "BR_receipt_clean = Button_Clean()\n",
    "\n",
    "# Create button output\n",
    "BR_receipt_output_clean = widgets.Output()\n",
    "\n",
    "# Unite buttons\n",
    "BR_receipt_ui = widgets.HBox([BR_receipt_button, BR_receipt_clean])"
   ]
  },
  {
   "cell_type": "code",
   "execution_count": 23,
   "metadata": {
    "ExecuteTime": {
     "end_time": "2021-05-14T22:03:09.842682Z",
     "start_time": "2021-05-14T22:03:09.763505Z"
    }
   },
   "outputs": [],
   "source": [
    "##### BRAZIL RECEIPT BUTTONS FUNCTIONS #####\n",
    "\n",
    "# Create button clicked function\n",
    "def BR_Receipt_Clicked(b):\n",
    "    with BR_receipt_output:\n",
    "        \n",
    "        # Clean output\n",
    "        clear_output()\n",
    "        \n",
    "        # Create receipt dataframe\n",
    "        df = BR_receipt\n",
    "        \n",
    "        # Create selected_data list\n",
    "        selected_data = []\n",
    "        \n",
    "        # Add fixed variables\n",
    "        selected_data = selected_data + ['Date']\n",
    "                    \n",
    "        # Loop operation filter\n",
    "        for i in range(0, len(BR_receipt_checkboxes)):\n",
    "                if BR_receipt_checkboxes[i].value == True:\n",
    "                    selected_data = selected_data + [BR_receipt_checkboxes[i].description]\n",
    "                    \n",
    "        # Loop operation filter\n",
    "        for j in range(0, len(BR_receipt_checkboxes_cumsum)):\n",
    "                if BR_receipt_checkboxes_cumsum[j].value == True:\n",
    "                    selected_data = selected_data + [BR_receipt_checkboxes_cumsum[j].description]\n",
    "                    \n",
    "        # Filter selected data\n",
    "        df = df[selected_data]\n",
    "  \n",
    "        # Transform into date type\n",
    "        df['Date'] = pd.to_datetime(df['Date'], format='%d/%m/%Y')\n",
    "        \n",
    "        # Apply filter\n",
    "        df = df[(df['Date'] >=  pd.Timestamp(begin_period.value)) & (df['Date'] <= pd.Timestamp(end_period.value))] \n",
    "        \n",
    "        # Sort by date\n",
    "        df = df.sort_values(by = 'Date')\n",
    "        \n",
    "        # Refine date\n",
    "        df['Date'] = df['Date'].dt.strftime('%d/%m/%Y')\n",
    "        \n",
    "        # Reset index\n",
    "        df = df.reset_index(drop =True)\n",
    "        \n",
    "        # Red column vector\n",
    "        red_col = ['Receipt Value', 'FX Value', 'Receipt Value Cum Sum', 'FX Value Cum Sum', 'Settlement Cum Sum']\n",
    "        \n",
    "        # Create auxiliar variable\n",
    "        aux = []\n",
    "        \n",
    "        # Loop to define red columns\n",
    "        for i in range(0,len(red_col)):\n",
    "            if(red_col[i] in df.columns):\n",
    "                aux.append(red_col[i])\n",
    "        if aux == []:\n",
    "            \n",
    "            # Print result (without red columns)\n",
    "            display(df.style.set_precision(2))\n",
    "            \n",
    "        else:\n",
    "            \n",
    "            # Print result (with red columns)\n",
    "            display(df.style.applymap(color_negative_red, subset=pd.IndexSlice[:, aux]).set_precision(2))\n",
    "        \n",
    "# Create button clicked function\n",
    "def BR_Receipt_Clean_Clicked(b):\n",
    "    with BR_receipt_output_clean:\n",
    "        \n",
    "        # Clear output_receipt\n",
    "        BR_receipt_output.clear_output()"
   ]
  },
  {
   "cell_type": "code",
   "execution_count": 24,
   "metadata": {
    "ExecuteTime": {
     "end_time": "2021-05-14T22:03:09.933241Z",
     "start_time": "2021-05-14T22:03:09.855692Z"
    }
   },
   "outputs": [],
   "source": [
    "##### BRAZIL RECEIPT ON BUTTON CLIKED #####\n",
    "\n",
    "# On button click\n",
    "BR_receipt_button.on_click(BR_Receipt_Clicked)\n",
    "BR_receipt_clean.on_click(BR_Receipt_Clean_Clicked)"
   ]
  },
  {
   "cell_type": "code",
   "execution_count": 25,
   "metadata": {
    "ExecuteTime": {
     "end_time": "2021-05-14T22:03:10.046195Z",
     "start_time": "2021-05-14T22:03:09.935233Z"
    }
   },
   "outputs": [],
   "source": [
    "##### US FUTURES TRADES DROPDOWN MENU #####\n",
    "\n",
    "# Create dropdown menu to selct trade\n",
    "US_futures_dropdown = interactive(Trade_Select,\n",
    "                                trade = widgets.Combobox(\n",
    "                                    options= ['6L F21',\n",
    "                                             '6L G21',\n",
    "                                             '6L H21',\n",
    "                                             '6L J21',\n",
    "                                             '6L K21',\n",
    "                                             '6L Q20',\n",
    "                                             '6L U20',\n",
    "                                             '6L V20',\n",
    "                                             '6L X20',\n",
    "                                             '6L Z20',\n",
    "                                             'ES H21',\n",
    "                                             'ES M21',\n",
    "                                             'ES U20',\n",
    "                                             'ES Z20',\n",
    "                                             'MES H21',\n",
    "                                             'MES M21',\n",
    "                                             'MES U20',\n",
    "                                             'MES Z20',\n",
    "                                             'MS',\n",
    "                                             'PBR'],\n",
    "                                    description=\"Trade:\"))"
   ]
  },
  {
   "cell_type": "code",
   "execution_count": 26,
   "metadata": {
    "ExecuteTime": {
     "end_time": "2021-05-14T22:03:10.195838Z",
     "start_time": "2021-05-14T22:03:10.049365Z"
    }
   },
   "outputs": [],
   "source": [
    "##### US FUTURES TRADES OPERATIONAL CHECKBOX #####\n",
    "\n",
    "# Create vector with operations\n",
    "data = [\"Buy Quant\", \"Buy Price\", \"Sell Quant\", \"Sell Price\", \"Px Close\"]\n",
    "\n",
    "# Create checkbox operations\n",
    "US_futures_trades_checkboxes_operation = [widgets.Checkbox(value=True, indent=False, description=label) for label in data]\n",
    "\n",
    "# Create checkbox operations horizontal box\n",
    "US_futures_trades_hbox_operation = widgets.HBox(children=US_futures_trades_checkboxes_operation, layout=Layout(width='600px'))"
   ]
  },
  {
   "cell_type": "code",
   "execution_count": 27,
   "metadata": {
    "ExecuteTime": {
     "end_time": "2021-05-14T22:03:10.291442Z",
     "start_time": "2021-05-14T22:03:10.196800Z"
    }
   },
   "outputs": [],
   "source": [
    "##### US FUTURES TRADES FINANCIAL CHECKBOX #####\n",
    "\n",
    "# Create vector with financial\n",
    "data = [\"Hold Pos\", \"MtoM P&L\", \"Gross P&L\", \"Comm\", \"Exc Fee\", \"Net P&L\"]\n",
    "\n",
    "# Create checkbox financial\n",
    "US_futures_trades_checkboxes_financial = [widgets.Checkbox(value=True, indent=False, description=label) for label in data]\n",
    "\n",
    "# Create checkbox financial horizontal box\n",
    "US_futures_trades_hbox_financial = widgets.HBox(children=US_futures_trades_checkboxes_financial, layout=Layout(width='700px'))"
   ]
  },
  {
   "cell_type": "code",
   "execution_count": 28,
   "metadata": {
    "ExecuteTime": {
     "end_time": "2021-05-14T22:03:10.411923Z",
     "start_time": "2021-05-14T22:03:10.292651Z"
    }
   },
   "outputs": [],
   "source": [
    "##### US FUTURES TRADES BUTTONS #####\n",
    "\n",
    "# Create button and output\n",
    "US_futures_trades_button = Button_Sumbmit()\n",
    "\n",
    "# Create button output\n",
    "US_futures_trades_output = widgets.Output()\n",
    "\n",
    "# Create button and output\n",
    "US_futures_trades_clean = Button_Clean()\n",
    "\n",
    "# Create button output\n",
    "US_futures_trades_output_clean = widgets.Output()\n",
    "\n",
    "# Unite buttons\n",
    "US_futures_trades_ui = widgets.HBox([US_futures_trades_button, US_futures_trades_clean])"
   ]
  },
  {
   "cell_type": "code",
   "execution_count": 29,
   "metadata": {
    "ExecuteTime": {
     "end_time": "2021-05-14T22:03:10.482460Z",
     "start_time": "2021-05-14T22:03:10.412920Z"
    }
   },
   "outputs": [],
   "source": [
    "##### US FUTURES TRADES BUTTONS FUNCTIONS #####\n",
    "\n",
    "# Create button clicked function\n",
    "def US_Futures_Trades_Clicked(b):\n",
    "    with US_futures_trades_output:\n",
    "        \n",
    "        # Clean output\n",
    "        clear_output()\n",
    "        \n",
    "        # Condition if no trade is selected\n",
    "        if (US_futures_dropdown.result is None):\n",
    "            \n",
    "            # Display warning message box\n",
    "            prRed('#################################### ERROR - PLEASE SELECT A TRADE! ####################################')\n",
    "        \n",
    "        else:\n",
    "            # Create selected_data list\n",
    "            selected_data = []\n",
    "\n",
    "            # Fixede variables\n",
    "            fixed = ['Date', 'Ticker']\n",
    "\n",
    "            # Add fixed variables\n",
    "            selected_data = selected_data + fixed\n",
    "\n",
    "            # Loop operation filter\n",
    "            for i in range(0, len(US_futures_trades_checkboxes_operation)):\n",
    "                    if US_futures_trades_checkboxes_operation[i].value == True:\n",
    "                        selected_data = selected_data + [US_futures_trades_checkboxes_operation[i].description]\n",
    "\n",
    "            # Loop financial filter\n",
    "            for j in range(0, len(US_futures_trades_checkboxes_financial)):\n",
    "                    if US_futures_trades_checkboxes_financial[j].value == True:\n",
    "                        selected_data = selected_data + [US_futures_trades_checkboxes_financial[j].description]\n",
    "\n",
    "            # Create trade dataframe\n",
    "            df = US_futures_dropdown.result\n",
    "\n",
    "            # Round values\n",
    "            df = df.round({'Px Close':2, 'Sell Price':2, 'Buy Price': 2, 'Exc Fee':2, 'MtoM P&L':2, 'Gross P&L': 2, 'Net P&L': 2, 'Comm': 2})\n",
    "\n",
    "            # Change columns type\n",
    "            df = df.astype({'Sell Quant': int, 'Buy Quant': int, 'Hold Pos': int})\n",
    "\n",
    "            # Filter data\n",
    "            df = df[selected_data] \n",
    "\n",
    "            # Transform into date type\n",
    "            df['Date'] = pd.to_datetime(df['Date'], format='%d/%m/%Y')\n",
    "\n",
    "            # Apply filter\n",
    "            df = df[(df['Date'] >=  pd.Timestamp(begin_period.value)) & (df['Date'] <= pd.Timestamp(end_period.value))] \n",
    "\n",
    "            # Sort by date\n",
    "            df = df.sort_values(by = 'Date')\n",
    "\n",
    "            # Refine date\n",
    "            df['Date'] = df['Date'].dt.strftime('%d/%m/%Y')\n",
    "\n",
    "            # Reset index\n",
    "            df = df.reset_index(drop =True)\n",
    "\n",
    "            #Create red columns vector\n",
    "            red_col = ['MtoM P&L' , 'Gross P&L', 'Net P&L', 'Hold Pos']\n",
    "\n",
    "            # Create auxiliar variable\n",
    "            aux = []\n",
    "\n",
    "            # Loop to define red columns\n",
    "            for i in range(0,len(red_col)):\n",
    "                if(red_col[i] in df.columns):\n",
    "                    aux.append(red_col[i])\n",
    "            if aux == []:\n",
    "\n",
    "                # Print result (without red columns)\n",
    "                display(df.style.set_precision(2))\n",
    "\n",
    "            else:\n",
    "\n",
    "                # Print result (with red columns)\n",
    "                display(df.style.applymap(color_negative_red, subset=pd.IndexSlice[:, aux]).set_precision(2))\n",
    "        \n",
    "# Create button clicked function\n",
    "def US_Futures_Trades_Clean_Clicked(b):\n",
    "    with US_futures_trades_output_clean:\n",
    "        \n",
    "        # Clear output_receipt\n",
    "        US_futures_trades_output.clear_output()"
   ]
  },
  {
   "cell_type": "code",
   "execution_count": 30,
   "metadata": {
    "ExecuteTime": {
     "end_time": "2021-05-14T22:03:10.566139Z",
     "start_time": "2021-05-14T22:03:10.487051Z"
    }
   },
   "outputs": [],
   "source": [
    "##### US FUTURES TRADES ON BUTTON CLIKED #####\n",
    "\n",
    "# On button click\n",
    "US_futures_trades_button.on_click(US_Futures_Trades_Clicked)\n",
    "US_futures_trades_clean.on_click(US_Futures_Trades_Clean_Clicked)"
   ]
  },
  {
   "cell_type": "code",
   "execution_count": 31,
   "metadata": {
    "ExecuteTime": {
     "end_time": "2021-05-14T22:03:10.677349Z",
     "start_time": "2021-05-14T22:03:10.574258Z"
    }
   },
   "outputs": [],
   "source": [
    "##### US EQUITIES TRADES DROPDOWN MENU #####\n",
    "\n",
    "# Create dropdown menu to selct trade\n",
    "US_equities_dropdown = interactive(Trade_Select,\n",
    "                                trade = widgets.Combobox(\n",
    "                                    options= ['MS',\n",
    "                                              'MS Options',\n",
    "                                              'PBR'],\n",
    "                                    description=\"Trade:\"))"
   ]
  },
  {
   "cell_type": "code",
   "execution_count": 32,
   "metadata": {
    "ExecuteTime": {
     "end_time": "2021-05-14T22:03:10.822979Z",
     "start_time": "2021-05-14T22:03:10.680757Z"
    }
   },
   "outputs": [],
   "source": [
    "##### US EQUITIES TRADES OPERATIONAL CHECKBOX #####\n",
    "\n",
    "# Create vector with operations\n",
    "data = [\"Buy Quant\", \"Buy Price\", \"Sell Quant\", \"Sell Price\", \"Px Close\"]\n",
    "\n",
    "# Create checkbox operations\n",
    "US_equities_trades_checkboxes_operation = [widgets.Checkbox(value=True, indent=False, description=label) for label in data]\n",
    "\n",
    "# Create checkbox operations horizontal box\n",
    "US_equities_trades_hbox_operation = widgets.HBox(children=US_equities_trades_checkboxes_operation, layout=Layout(width='600px'))"
   ]
  },
  {
   "cell_type": "code",
   "execution_count": 33,
   "metadata": {
    "ExecuteTime": {
     "end_time": "2021-05-14T22:03:10.947490Z",
     "start_time": "2021-05-14T22:03:10.824973Z"
    }
   },
   "outputs": [],
   "source": [
    "##### US EQUITIES TRADES FINANCIAL CHECKBOX #####\n",
    "\n",
    "# Create vector with financial\n",
    "data = [\"Hold Pos\", \"MtoM P&L\", \"Gross P&L\", \"Comm\", \"Exc Fee\", \"Net P&L\"]\n",
    "\n",
    "# Create checkbox financial\n",
    "US_equities_trades_checkboxes_financial = [widgets.Checkbox(value=True, indent=False, description=label) for label in data]\n",
    "\n",
    "# Create checkbox financial horizontal box\n",
    "US_equities_trades_hbox_financial = widgets.HBox(children=US_equities_trades_checkboxes_financial, layout=Layout(width='700px'))"
   ]
  },
  {
   "cell_type": "code",
   "execution_count": 34,
   "metadata": {
    "ExecuteTime": {
     "end_time": "2021-05-14T22:03:11.064403Z",
     "start_time": "2021-05-14T22:03:10.950883Z"
    }
   },
   "outputs": [],
   "source": [
    "##### US EQUITIES TRADES BUTTONS #####\n",
    "\n",
    "# Create button and output\n",
    "US_equities_trades_button = Button_Sumbmit()\n",
    "\n",
    "# Create button output\n",
    "US_equities_trades_output = widgets.Output()\n",
    "\n",
    "# Create button and output\n",
    "US_equities_trades_clean = Button_Clean()\n",
    "\n",
    "# Create button output\n",
    "US_equities_trades_output_clean = widgets.Output()\n",
    "\n",
    "# Unite buttons\n",
    "US_equities_trades_ui = widgets.HBox([US_equities_trades_button, US_equities_trades_clean])"
   ]
  },
  {
   "cell_type": "code",
   "execution_count": 35,
   "metadata": {
    "ExecuteTime": {
     "end_time": "2021-05-14T22:03:11.134794Z",
     "start_time": "2021-05-14T22:03:11.066576Z"
    }
   },
   "outputs": [],
   "source": [
    "##### US EQUITIES TRADES BUTTONS FUNCTIONS #####\n",
    "\n",
    "# Create button clicked function\n",
    "def US_Equities_Trades_Clicked(b):\n",
    "    with US_equities_trades_output:\n",
    "        \n",
    "        # Clean output\n",
    "        clear_output()\n",
    "        \n",
    "        # Condition if no trade is selected\n",
    "        if (US_equities_dropdown.result is None):\n",
    "            \n",
    "            # Display warning message box\n",
    "            prRed('#################################### ERROR - PLEASE SELECT A TRADE! ####################################')\n",
    "        \n",
    "        else:\n",
    "            # Create selected_data list\n",
    "            selected_data = []\n",
    "\n",
    "            # Fixede variables\n",
    "            fixed = ['Date', 'Ticker']\n",
    "\n",
    "            # Add fixed variables\n",
    "            selected_data = selected_data + fixed\n",
    "\n",
    "            # Loop operation filter\n",
    "            for i in range(0, len(US_equities_trades_checkboxes_operation)):\n",
    "                    if US_equities_trades_checkboxes_operation[i].value == True:\n",
    "                        selected_data = selected_data + [US_equities_trades_checkboxes_operation[i].description]\n",
    "\n",
    "            # Loop financial filter\n",
    "            for j in range(0, len(US_equities_trades_checkboxes_financial)):\n",
    "                    if US_equities_trades_checkboxes_financial[j].value == True:\n",
    "                        selected_data = selected_data + [US_equities_trades_checkboxes_financial[j].description]\n",
    "\n",
    "            # Create trade dataframe\n",
    "            df = US_equities_dropdown.result\n",
    "\n",
    "            # Round values\n",
    "            df = df.round({'Px Close':2, 'Sell Price':2, 'Buy Price': 2, 'Exc Fee':2, 'MtoM P&L':2, 'Gross P&L': 2, 'Net P&L': 2, 'Comm': 2})\n",
    "\n",
    "            # Change columns type\n",
    "            df = df.astype({'Sell Quant': int, 'Buy Quant': int, 'Hold Pos': int})\n",
    "\n",
    "            # Filter data\n",
    "            df = df[selected_data] \n",
    "\n",
    "            # Transform into date type\n",
    "            df['Date'] = pd.to_datetime(df['Date'], format='%d/%m/%Y')\n",
    "\n",
    "            # Apply filter\n",
    "            df = df[(df['Date'] >=  pd.Timestamp(begin_period.value)) & (df['Date'] <= pd.Timestamp(end_period.value))] \n",
    "\n",
    "            # Sort by date\n",
    "            df = df.sort_values(by = 'Date')\n",
    "\n",
    "            # Refine date\n",
    "            df['Date'] = df['Date'].dt.strftime('%d/%m/%Y')\n",
    "\n",
    "            # Reset index\n",
    "            df = df.reset_index(drop =True)\n",
    "\n",
    "            #Create red columns vector\n",
    "            red_col = ['MtoM P&L' , 'Gross P&L', 'Net P&L', 'Hold Pos']\n",
    "\n",
    "            # Create auxiliar variable\n",
    "            aux = []\n",
    "\n",
    "            # Loop to define red columns\n",
    "            for i in range(0,len(red_col)):\n",
    "                if(red_col[i] in df.columns):\n",
    "                    aux.append(red_col[i])\n",
    "            if aux == []:\n",
    "\n",
    "                # Print result (without red columns)\n",
    "                display(df.style.set_precision(2))\n",
    "\n",
    "            else:\n",
    "\n",
    "                # Print result (with red columns)\n",
    "                display(df.style.applymap(color_negative_red, subset=pd.IndexSlice[:, aux]).set_precision(2))\n",
    "        \n",
    "# Create button clicked function\n",
    "def US_Equities_Trades_Clean_Clicked(b):\n",
    "    with US_equities_trades_output_clean:\n",
    "        \n",
    "        # Clear output_receipt\n",
    "        US_equities_trades_output.clear_output()"
   ]
  },
  {
   "cell_type": "code",
   "execution_count": 36,
   "metadata": {
    "ExecuteTime": {
     "end_time": "2021-05-14T22:03:11.217286Z",
     "start_time": "2021-05-14T22:03:11.138067Z"
    }
   },
   "outputs": [],
   "source": [
    "##### US EQUITIES TRADES ON BUTTON CLIKED #####\n",
    "\n",
    "# On button click\n",
    "US_equities_trades_button.on_click(US_Equities_Trades_Clicked)\n",
    "US_equities_trades_clean.on_click(US_Equities_Trades_Clean_Clicked)"
   ]
  },
  {
   "cell_type": "code",
   "execution_count": 37,
   "metadata": {
    "ExecuteTime": {
     "end_time": "2021-05-14T22:03:11.349551Z",
     "start_time": "2021-05-14T22:03:11.223472Z"
    }
   },
   "outputs": [],
   "source": [
    "###### US TRADES VISUALIZATION BUTTONS #####\n",
    "\n",
    "# Create button and output\n",
    "US_trades_viz_button = Button_Sumbmit()\n",
    "\n",
    "# Create button output\n",
    "US_trades_viz_output = widgets.Output()\n",
    "\n",
    "# Create button and output\n",
    "US_trades_viz_clean = Button_Clean()\n",
    "\n",
    "# Create button output\n",
    "US_trades_viz_output_clean = widgets.Output()\n",
    "\n",
    "# Unite buttons\n",
    "US_trades_viz_ui = widgets.HBox([US_trades_viz_button, US_trades_viz_clean])"
   ]
  },
  {
   "cell_type": "code",
   "execution_count": 38,
   "metadata": {
    "ExecuteTime": {
     "end_time": "2021-05-14T22:03:11.432433Z",
     "start_time": "2021-05-14T22:03:11.352684Z"
    }
   },
   "outputs": [],
   "source": [
    "##### US TRADES VISUALIZATION BUTTONS FUNCTIONS #####\n",
    "\n",
    "# Create button clicked function\n",
    "def US_Trades_Viz_Clicked(b):  \n",
    "    with US_trades_viz_output:\n",
    "        \n",
    "        # Clean output\n",
    "        clear_output()\n",
    "        \n",
    "        # Condition if no trade is selected\n",
    "        if (US_futures_dropdown.result is None):\n",
    "            \n",
    "            # Display warning message box\n",
    "            prRed('#################################### ERROR - PLEASE SELECT A TRADE! ####################################')\n",
    "        \n",
    "        else:\n",
    "            \n",
    "            # Create trade dataframe\n",
    "            df = US_futures_dropdown.result\n",
    "\n",
    "            # Transform into date type\n",
    "            df['Date'] = pd.to_datetime(df['Date'], format='%d/%m/%Y')\n",
    "\n",
    "            # Apply filter\n",
    "            df = df[(df['Date'] >= pd.Timestamp(begin_period.value)) &  (df['Date'] <= pd.Timestamp(end_period.value))]   \n",
    "\n",
    "            # Transform df format\n",
    "            df_plot = pd.melt(df[['Buy Quant', 'Sell Quant']])\n",
    "\n",
    "            # Concat Date\n",
    "            df_plot['Date'] = pd.concat([df['Date'], df['Date']]).reset_index(drop = True)\n",
    "\n",
    "            # Concat Px Close Diff\n",
    "            df_plot['Px Close Diff'] = pd.concat([abs(df['Px Close'].diff()), abs(df['Px Close'].diff())]).reset_index(drop = True)\n",
    "\n",
    "            # Plot graph\n",
    "            fig = px.bar(df_plot, x= \"Date\", y= \"value\", color= \"variable\", title= 'The plot shows trade ') #+ df['Ticker'][0])\n",
    "\n",
    "            # Update fig layout\n",
    "            fig.update_layout(barmode= 'group')\n",
    "            fig.update_yaxes(title='')\n",
    "\n",
    "            # Add close price difference\n",
    "            fig.add_trace(go.Scatter(mode= \"lines\", x= df_plot[\"Date\"], y= df_plot[\"Px Close Diff\"], name= \"Close Variance\"))\n",
    "\n",
    "            # Plot graph\n",
    "            fig.show()\n",
    "        \n",
    "# Create clean button function\n",
    "def US_Trades_Viz_Clean_Clicked(b):  \n",
    "    with US_trades_viz_output_clean:\n",
    "        \n",
    "        # Clean output\n",
    "        US_trades_viz_output.clear_output()"
   ]
  },
  {
   "cell_type": "code",
   "execution_count": 39,
   "metadata": {
    "ExecuteTime": {
     "end_time": "2021-05-14T22:03:11.505053Z",
     "start_time": "2021-05-14T22:03:11.436422Z"
    }
   },
   "outputs": [],
   "source": [
    "##### US TRADES VISUALIZATION ON BUTTON CLIKED #####\n",
    "\n",
    "# On button click\n",
    "US_trades_viz_button.on_click(US_Trades_Viz_Clicked)\n",
    "US_trades_viz_clean.on_click(US_Trades_Viz_Clean_Clicked)"
   ]
  },
  {
   "cell_type": "code",
   "execution_count": 40,
   "metadata": {
    "ExecuteTime": {
     "end_time": "2021-05-14T22:03:11.657353Z",
     "start_time": "2021-05-14T22:03:11.507992Z"
    }
   },
   "outputs": [],
   "source": [
    "##### US FUTURTES RECEIPT CHECKBOX #####\n",
    "\n",
    "# Create vector with checkbox data\n",
    "data = ['Receipt Value', 'FX Description', 'FX Value', 'FX Rate', 'Comm', 'Exc Fee']\n",
    "\n",
    "# Create checkbox receipt\n",
    "US_futures_checkboxes = [widgets.Checkbox(value=True, indent=False, description=label) for label in data]\n",
    "\n",
    "# Create checkbox financial horizontal box\n",
    "US_futures_hbox = widgets.HBox(children=US_futures_checkboxes, layout=Layout(width='900px'))"
   ]
  },
  {
   "cell_type": "code",
   "execution_count": 41,
   "metadata": {
    "ExecuteTime": {
     "end_time": "2021-05-14T22:03:11.766628Z",
     "start_time": "2021-05-14T22:03:11.658350Z"
    }
   },
   "outputs": [],
   "source": [
    "##### US FUTUES RECEIPT CUMSUM CHECKBOX #####\n",
    "\n",
    "# Create vector with cumsum\n",
    "data = ['Receipt Value Cum Sum', 'FX Value Cum Sum', 'Total Cum Sum', 'Settlement Cum Sum']\n",
    "\n",
    "# Create checkbox cumsum\n",
    "US_futures_checkboxes_cumsum = [widgets.Checkbox(value=True, indent=False, description=label) for label in data]\n",
    "\n",
    "# Create checkbox cumsum horizontal box\n",
    "US_futures_hbox_cumsum = widgets.HBox(children=US_futures_checkboxes_cumsum, layout=Layout(width='700px'))"
   ]
  },
  {
   "cell_type": "code",
   "execution_count": 42,
   "metadata": {
    "ExecuteTime": {
     "end_time": "2021-05-14T22:03:11.879647Z",
     "start_time": "2021-05-14T22:03:11.769620Z"
    }
   },
   "outputs": [],
   "source": [
    "##### US FUTURES RECEIPT BUTTONS #####\n",
    "\n",
    "# Create button and output\n",
    "US_futures_button = Button_Sumbmit()\n",
    "\n",
    "# Create button output\n",
    "US_futures_output = widgets.Output()\n",
    "\n",
    "# Create button and output\n",
    "US_futures_clean = Button_Clean()\n",
    "\n",
    "# Create button output\n",
    "US_futures_output_clean = widgets.Output()\n",
    "\n",
    "# Unite buttons\n",
    "US_futures_ui = widgets.HBox([US_futures_button, US_futures_clean])"
   ]
  },
  {
   "cell_type": "code",
   "execution_count": 43,
   "metadata": {
    "ExecuteTime": {
     "end_time": "2021-05-14T22:03:11.946091Z",
     "start_time": "2021-05-14T22:03:11.883318Z"
    }
   },
   "outputs": [],
   "source": [
    "##### US FUTURES RECEIPT BUTTONS FUNCTIONS #####\n",
    "\n",
    "# Create button clicked function\n",
    "def US_Futures_Clicked(b):\n",
    "    with US_futures_output:\n",
    "        \n",
    "        # Clean output\n",
    "        clear_output()\n",
    "        \n",
    "        # Create receipt dataframe\n",
    "        df = US_futures_receipt\n",
    "        \n",
    "        # Create selected_data list\n",
    "        selected_data = []\n",
    "        \n",
    "        # Add fixed variables\n",
    "        selected_data = selected_data + ['Date']\n",
    "                    \n",
    "        # Loop operation filter\n",
    "        for i in range(0, len(US_futures_checkboxes)):\n",
    "                if US_futures_checkboxes[i].value == True:\n",
    "                    selected_data = selected_data + [US_futures_checkboxes[i].description]\n",
    "                                       \n",
    "        # Loop financial filter\n",
    "        for j in range(0, len(US_futures_checkboxes_cumsum)):\n",
    "                if US_futures_checkboxes_cumsum[j].value == True:\n",
    "                    selected_data = selected_data + [US_futures_checkboxes_cumsum[j].description]\n",
    "        \n",
    "        # Filter selected data\n",
    "        df = df[selected_data]\n",
    "  \n",
    "        # Transform into date type\n",
    "        df['Date'] = pd.to_datetime(df['Date'], format='%d/%m/%Y')\n",
    "        \n",
    "        # Apply filter\n",
    "        df = df[(df['Date'] >=  pd.Timestamp(begin_period.value)) & (df['Date'] <= pd.Timestamp(end_period.value))] \n",
    "        \n",
    "        # Sort by date\n",
    "        df = df.sort_values(by = 'Date')\n",
    "        \n",
    "        # Refine date\n",
    "        df['Date'] = df['Date'].dt.strftime('%d/%m/%Y')\n",
    "        \n",
    "        # Reset index\n",
    "        df = df.reset_index(drop =True)\n",
    "        \n",
    "        # Red column vector\n",
    "        red_col = ['Receipt Value', 'FX Value', 'Receipt Value Cum Sum', 'FX Value Cum Sum', 'Settlement Cum Sum']\n",
    "        \n",
    "        # Create auxiliar variable\n",
    "        aux = []\n",
    "        \n",
    "        # Loop to define red columns\n",
    "        for i in range(0,len(red_col)):\n",
    "            if(red_col[i] in df.columns):\n",
    "                aux.append(red_col[i])\n",
    "        if aux == []:\n",
    "            \n",
    "            # Print result (without red columns)\n",
    "            display(df.style.set_precision(2))\n",
    "            \n",
    "        else:\n",
    "            \n",
    "            # Print result (with red columns)\n",
    "            display(df.style.applymap(color_negative_red, subset=pd.IndexSlice[:, aux]).set_precision(2))\n",
    "        \n",
    "# Create button clicked function\n",
    "def US_Futures_Clean_Clicked(b):\n",
    "    with US_futures_output_clean:\n",
    "        \n",
    "        # Clear output_receipt\n",
    "        US_futures_output.clear_output()"
   ]
  },
  {
   "cell_type": "code",
   "execution_count": 44,
   "metadata": {
    "ExecuteTime": {
     "end_time": "2021-05-14T22:03:12.038131Z",
     "start_time": "2021-05-14T22:03:11.951078Z"
    }
   },
   "outputs": [],
   "source": [
    "##### US FUTURES RECEIPT ON BUTTON CLIKED #####\n",
    "\n",
    "# On button click\n",
    "US_futures_button.on_click(US_Futures_Clicked)\n",
    "US_futures_clean.on_click(US_Futures_Clean_Clicked)"
   ]
  },
  {
   "cell_type": "code",
   "execution_count": 45,
   "metadata": {
    "ExecuteTime": {
     "end_time": "2021-05-14T22:03:12.198929Z",
     "start_time": "2021-05-14T22:03:12.042151Z"
    }
   },
   "outputs": [],
   "source": [
    "##### US EQUITIES RECEIPT CHECKBOX #####\n",
    "\n",
    "# Create vector with checkbox data\n",
    "data = ['Receipt Value', 'FX Value', 'FX Description', 'MtoM P&L', 'Comm', 'Exc Fee']\n",
    "\n",
    "# Create checkbox receipt\n",
    "US_equities_checkboxes = [widgets.Checkbox(value=True, indent=False, description=label) for label in data]\n",
    "\n",
    "# Create checkbox financial horizontal box\n",
    "US_equities_hbox = widgets.HBox(children=US_equities_checkboxes, layout=Layout(width='800px'))"
   ]
  },
  {
   "cell_type": "code",
   "execution_count": 46,
   "metadata": {
    "ExecuteTime": {
     "end_time": "2021-05-14T22:03:12.302456Z",
     "start_time": "2021-05-14T22:03:12.201609Z"
    }
   },
   "outputs": [],
   "source": [
    "##### US EQUITES RECEIPT CUMSUM CHECKBOX #####\n",
    "\n",
    "# Create vector with cumsum\n",
    "data = ['Receipt Value Cum Sum', 'Settlement Cum Sum']\n",
    "\n",
    "# Create checkbox cumsum\n",
    "US_equities_checkboxes_cumsum = [widgets.Checkbox(value=True, indent=False, description=label) for label in data]\n",
    "\n",
    "# Create checkbox cumsum horizontal box\n",
    "US_equities_hbox_cumsum = widgets.HBox(children=US_equities_checkboxes_cumsum, layout=Layout(width='500px'))"
   ]
  },
  {
   "cell_type": "code",
   "execution_count": 47,
   "metadata": {
    "ExecuteTime": {
     "end_time": "2021-05-14T22:03:12.439637Z",
     "start_time": "2021-05-14T22:03:12.307190Z"
    }
   },
   "outputs": [],
   "source": [
    "##### US EQUITIES RECEIPT BUTTONS #####\n",
    "\n",
    "# Create button and output\n",
    "US_equities_button = Button_Sumbmit()\n",
    "\n",
    "# Create button output\n",
    "US_equities_output = widgets.Output()\n",
    "\n",
    "# Create button and output\n",
    "US_equities_clean = Button_Clean()\n",
    "\n",
    "# Create button output\n",
    "US_equities_output_clean = widgets.Output()\n",
    "\n",
    "# Unite buttons\n",
    "US_equities_ui = widgets.HBox([US_equities_button, US_equities_clean])"
   ]
  },
  {
   "cell_type": "code",
   "execution_count": 48,
   "metadata": {
    "ExecuteTime": {
     "end_time": "2021-05-14T22:03:12.489528Z",
     "start_time": "2021-05-14T22:03:12.439637Z"
    }
   },
   "outputs": [],
   "source": [
    "##### US EQUITIES RECEIPT BUTTONS FUNCTIONS #####\n",
    "\n",
    "# Create button clicked function\n",
    "def US_Equities_Clicked(b):\n",
    "    with US_equities_output:\n",
    "        \n",
    "        # Clean output\n",
    "        clear_output()\n",
    "        \n",
    "        # Create receipt dataframe\n",
    "        df = US_equities_receipt\n",
    "        \n",
    "        # Create selected_data list\n",
    "        selected_data = []\n",
    "        \n",
    "        # Add fixed variables\n",
    "        selected_data = selected_data + ['Date']\n",
    "                    \n",
    "        # Loop operation filter\n",
    "        for i in range(0, len(US_equities_checkboxes)):\n",
    "                if US_equities_checkboxes[i].value == True:\n",
    "                    selected_data = selected_data + [US_equities_checkboxes[i].description]\n",
    "                                       \n",
    "        # Loop financial filter\n",
    "        for j in range(0, len(US_equities_checkboxes_cumsum)):\n",
    "                if US_equities_checkboxes_cumsum[j].value == True:\n",
    "                    selected_data = selected_data + [US_equities_checkboxes_cumsum[j].description]\n",
    "        \n",
    "        # Filter selected data\n",
    "        df = df[selected_data]\n",
    "  \n",
    "        # Transform into date type\n",
    "        df['Date'] = pd.to_datetime(df['Date'], format='%d/%m/%Y')\n",
    "        \n",
    "        # Apply filter\n",
    "        df = df[(df['Date'] >=  pd.Timestamp(begin_period.value)) & (df['Date'] <= pd.Timestamp(end_period.value))] \n",
    "        \n",
    "        # Sort by date\n",
    "        df = df.sort_values(by = 'Date')\n",
    "        \n",
    "        # Refine date\n",
    "        df['Date'] = df['Date'].dt.strftime('%d/%m/%Y')\n",
    "        \n",
    "        # Reset index\n",
    "        df = df.reset_index(drop =True)\n",
    "        \n",
    "        # Red column vector\n",
    "        red_col = ['Receipt Value', 'MtoM P&L', 'Receipt Value Cum Sum', 'Settlement Cum Sum']\n",
    "        \n",
    "        # Create auxiliar variable\n",
    "        aux = []\n",
    "        \n",
    "        # Loop to define red columns\n",
    "        for i in range(0,len(red_col)):\n",
    "            if(red_col[i] in df.columns):\n",
    "                aux.append(red_col[i])\n",
    "        if aux == []:\n",
    "            \n",
    "            # Print result (without red columns)\n",
    "            display(df.style.set_precision(2))\n",
    "            \n",
    "        else:\n",
    "            \n",
    "            # Print result (with red columns)\n",
    "            display(df.style.applymap(color_negative_red, subset=pd.IndexSlice[:, aux]).set_precision(2))\n",
    "        \n",
    "# Create button clicked function\n",
    "def US_Equities_Clean_Clicked(b):\n",
    "    with US_equities_output_clean:\n",
    "        \n",
    "        # Clear output_receipt\n",
    "        US_equities_output.clear_output()"
   ]
  },
  {
   "cell_type": "code",
   "execution_count": 49,
   "metadata": {
    "ExecuteTime": {
     "end_time": "2021-05-14T22:03:12.579527Z",
     "start_time": "2021-05-14T22:03:12.489528Z"
    }
   },
   "outputs": [],
   "source": [
    "##### US EQUITIES RECEIPT ON BUTTON CLIKED #####\n",
    "\n",
    "# On button click\n",
    "US_equities_button.on_click(US_Equities_Clicked)\n",
    "US_equities_clean.on_click(US_Equities_Clean_Clicked)"
   ]
  },
  {
   "cell_type": "code",
   "execution_count": 50,
   "metadata": {
    "ExecuteTime": {
     "end_time": "2021-05-14T22:03:12.773517Z",
     "start_time": "2021-05-14T22:03:12.582347Z"
    }
   },
   "outputs": [],
   "source": [
    "##### ALL TRADES CHECKBOX #####\n",
    "\n",
    "# Create vector with checkbox data\n",
    "data = ['BR Futures', 'US Futures', 'Total Futures', 'US Equities', 'Total', 'Return in %']\n",
    "\n",
    "# Create checkbox receipt\n",
    "all_trades_checkboxes = [widgets.Checkbox(value= True, indent= False, description= label) for label in data]\n",
    "\n",
    "# Create checkbox financial horizontal box\n",
    "all_trades_hbox = widgets.HBox(children= all_trades_checkboxes, layout= Layout(width= '700px'))"
   ]
  },
  {
   "cell_type": "code",
   "execution_count": 51,
   "metadata": {
    "ExecuteTime": {
     "end_time": "2021-05-14T22:03:12.871014Z",
     "start_time": "2021-05-14T22:03:12.777518Z"
    }
   },
   "outputs": [],
   "source": [
    "##### ALL TRADES BUTTONS #####\n",
    "\n",
    "# Create button and output\n",
    "all_trades_button = Button_Sumbmit()\n",
    "\n",
    "# Create button output\n",
    "all_trades_output = widgets.Output()\n",
    "\n",
    "# Create button and output\n",
    "all_trades_clean = Button_Clean()\n",
    "\n",
    "# Create button output\n",
    "all_trades_output_clean = widgets.Output()\n",
    "\n",
    "# Unite buttons\n",
    "all_trades_ui = widgets.HBox([all_trades_button, all_trades_clean])"
   ]
  },
  {
   "cell_type": "code",
   "execution_count": 52,
   "metadata": {
    "ExecuteTime": {
     "end_time": "2021-05-14T22:03:12.949157Z",
     "start_time": "2021-05-14T22:03:12.873007Z"
    }
   },
   "outputs": [],
   "source": [
    "##### ALL TRADES BUTTONS FUNCTIONS #####\n",
    "\n",
    "# Create button clicked function\n",
    "def All_Trades_Clicked(b):\n",
    "    with all_trades_output:\n",
    "        \n",
    "        # Clean output\n",
    "        clear_output()\n",
    "        \n",
    "        # Create receipt dataframe\n",
    "        df = all_trades\n",
    "        \n",
    "        # Create selected_data list\n",
    "        selected_data = []\n",
    "        \n",
    "        # Add fixed variables\n",
    "        selected_data = selected_data + ['Date']\n",
    "                    \n",
    "        # Loop financial filter\n",
    "        for i in range(0, len(all_trades_checkboxes)):\n",
    "                if all_trades_checkboxes[i].value == True:\n",
    "                    selected_data = selected_data + [all_trades_checkboxes[i].description]\n",
    "        \n",
    "        # Filter selected data\n",
    "        df = df[selected_data]\n",
    "  \n",
    "        # Transform into date type\n",
    "        df['Date'] = pd.to_datetime(df['Date'], format='%d/%m/%Y')\n",
    "        \n",
    "        # Apply filter\n",
    "        df = df[(df['Date'] >=  pd.Timestamp(begin_period.value)) & (df['Date'] <= pd.Timestamp(end_period.value))] \n",
    "        \n",
    "        # Sort by date\n",
    "        df = df.sort_values(by = 'Date')\n",
    "        \n",
    "        # Refine date\n",
    "        df['Date'] = df['Date'].dt.strftime('%d/%m/%Y')\n",
    "        \n",
    "        # Reset index\n",
    "        df = df.reset_index(drop =True)\n",
    "        \n",
    "        # Red column vector\n",
    "        red_col = ['BR Futures', 'US Futures', 'Total Futures', 'US Equities', 'Total', 'Return in %']\n",
    "        \n",
    "        # Create auxiliar variable\n",
    "        aux = []\n",
    "        \n",
    "        # Loop to define red columns\n",
    "        for i in range(0,len(red_col)):\n",
    "            if(red_col[i] in df.columns):\n",
    "                aux.append(red_col[i])\n",
    "        if aux == []:\n",
    "            \n",
    "            # Print result (without red columns)\n",
    "            display(df.style.set_precision(2))\n",
    "            \n",
    "        else:\n",
    "            \n",
    "            # Print result (with red columns)\n",
    "            display(df.style.applymap(color_negative_red, subset=pd.IndexSlice[:, aux]).set_precision(2))\n",
    "        \n",
    "# Create button clicked function\n",
    "def All_Trades_Clean_Clicked(b):\n",
    "    with all_trades_output_clean:\n",
    "        \n",
    "        # Clear output_receipt\n",
    "        all_trades_output.clear_output()"
   ]
  },
  {
   "cell_type": "code",
   "execution_count": 53,
   "metadata": {
    "ExecuteTime": {
     "end_time": "2021-05-14T22:03:13.123386Z",
     "start_time": "2021-05-14T22:03:12.953662Z"
    }
   },
   "outputs": [],
   "source": [
    "##### ALL TRADES ON BUTTON CLIKED #####\n",
    "\n",
    "# On button click\n",
    "all_trades_button.on_click(All_Trades_Clicked)\n",
    "all_trades_clean.on_click(All_Trades_Clean_Clicked)"
   ]
  },
  {
   "cell_type": "markdown",
   "metadata": {},
   "source": [
    "This report is **interactive**. Therefore, you can make multiple analysis using filters to selects specific data to examine. The report can display financial variables results of the trades and their receipts.\n",
    "\n",
    "The report uses the following references:\n",
    "\n",
    "* P&L = Profit and Loss\n",
    "* MtoM = Market to Market\n",
    "* Comm = Commisions\n",
    "* Exc Fee = Exchange Fee\n",
    "* Reg Fee = Register Fee\n",
    "* Px Close = Close Price\n",
    "* Cum Sum = Cumulative Sum\n",
    "\n",
    "To iniciate the analysis, select the time range you want to exam. After that, use the tabs to choose which trades you want to review.\n",
    "\n",
    "### Select Time Range:\n",
    "\n"
   ]
  },
  {
   "cell_type": "code",
   "execution_count": 54,
   "metadata": {
    "ExecuteTime": {
     "end_time": "2021-05-14T22:03:13.291661Z",
     "start_time": "2021-05-14T22:03:13.128446Z"
    }
   },
   "outputs": [
    {
     "data": {
      "application/vnd.jupyter.widget-view+json": {
       "model_id": "2f3b36ccd5624792b5935cc4fecbe52d",
       "version_major": 2,
       "version_minor": 0
      },
      "text/plain": [
       "DatePicker(value=datetime.date(2020, 7, 1), description='Start:')"
      ]
     },
     "metadata": {},
     "output_type": "display_data"
    },
    {
     "data": {
      "application/vnd.jupyter.widget-view+json": {
       "model_id": "7d54555031884a1a9b68d8516ac58b8a",
       "version_major": 2,
       "version_minor": 0
      },
      "text/plain": [
       "DatePicker(value=datetime.date(2021, 5, 14), description='End:')"
      ]
     },
     "metadata": {},
     "output_type": "display_data"
    }
   ],
   "source": [
    "# Display date range filter\n",
    "display(begin_period, end_period)"
   ]
  },
  {
   "cell_type": "code",
   "execution_count": 55,
   "metadata": {
    "ExecuteTime": {
     "end_time": "2021-05-14T22:03:13.624892Z",
     "start_time": "2021-05-14T22:03:13.291661Z"
    }
   },
   "outputs": [],
   "source": [
    "##### BRAZIL TRADES ANALYSIS #####\n",
    "\n",
    "# Create analysis\n",
    "BR_trade_analysis = widgets.VBox([\n",
    "    \n",
    "    # Trades table\n",
    "    widgets.HTML('<center> <h1> Brazil Trades Data Analysis </h1> </center>'),\n",
    "    widgets.HTML('<i> <h1> Trades Table </h1> </i>'),\n",
    "    widgets.HTML('The data shows financial operations and indicators results in <b> BR Real (R$) </b>, calculated for the Brazilian trades using the financial operations displayed.'),\n",
    "    widgets.HTML('The table can show results from the following trades:'),\n",
    "    widgets.HTML('&emsp; <i> DOL </i> - Comercial Dolar Futures'),\n",
    "    widgets.HTML('&emsp; <i> WDO </i> - Mini Comercial Dolar Futures'),\n",
    "    widgets.HTML('&emsp; <i> IND </i> - Ibovespa Futures'),\n",
    "    widgets.HTML('&emsp; <i> WIN </i> - Mini Ibovespa Futures'),\n",
    "    widgets.HTML('&emsp; <i> ISP </i> - S&P 500 Futures'),\n",
    "    widgets.HTML('&emsp; <i> WSP </i> - Micro S&P 500 Futures'),\n",
    "    widgets.HTML('<h3> Select Trade: </h3>'), \n",
    "    BR_trade_dropdown,\n",
    "    widgets.HTML('<h3> Select Operation: </h3>'), \n",
    "    BR_hbox_operation,\n",
    "    widgets.HTML('<h3> Select Indicator: </h3>'), \n",
    "    BR_hbox_financial,\n",
    "    widgets.HTML('<br>'), \n",
    "    BR_trades_ui,\n",
    "    widgets.HTML('<br>'), \n",
    "    BR_trades_output,\n",
    "    BR_trades_output_clean,\n",
    "    \n",
    "    # Rolagem table\n",
    "    widgets.HTML('<i> <h1> Rolagem Table </h1> </i>'),\n",
    "    widgets.HTML('The table shows the Brazilian trades <i> rolagem </i> operation in <b> BR Real (R$) </b> for all trades.'),\n",
    "    widgets.HTML('<h3> Select Rolagem: </h3>'), \n",
    "    BR_rolagem_dropdown,\n",
    "    widgets.HTML('<h3> Select Operation: </h3>'), \n",
    "    BR_rolagem_hbox_operation,\n",
    "    widgets.HTML('<h3> Select Indicator: </h3>'), \n",
    "    BR_rolagem_hbox_financial,\n",
    "    widgets.HTML('<br>'), \n",
    "    BR_rolagem_ui,\n",
    "    widgets.HTML('<br>'), \n",
    "    BR_rolagem_output,\n",
    "    BR_rolagem_output_clean,\n",
    "    \n",
    "    # Add horizontal line\n",
    "    widgets.HTML('<hr>'), \n",
    "    \n",
    "    # Visualization\n",
    "    widgets.HTML('<h2> Trades Data Visualization </h2>'),\n",
    "    BR_trades_viz_ui,\n",
    "    widgets.HTML('<br>'), \n",
    "    BR_trades_viz_output,\n",
    "    BR_trades_viz_output_clean\n",
    "])"
   ]
  },
  {
   "cell_type": "code",
   "execution_count": 56,
   "metadata": {
    "ExecuteTime": {
     "end_time": "2021-05-14T22:03:13.770527Z",
     "start_time": "2021-05-14T22:03:13.629431Z"
    }
   },
   "outputs": [],
   "source": [
    "##### BRAZIL RECEIPT ANALYSIS #####\n",
    "\n",
    "# Create analysis\n",
    "BR_receipt_analysis = widgets.VBox([\n",
    "    \n",
    "    ##### Trades Table ####\n",
    "    widgets.HTML('<center> <h1> Brazil Receipt Data Analysis </h1> </center>'),\n",
    "    widgets.HTML('<i> <h1> Receipt Table </h1> </i>'),\n",
    "    widgets.HTML('The data shows the Brazilian trades recipt values in <b> BR Real (R$) </b>. The receipt values displayed contains the sum of all trades results.'),\n",
    "    widgets.HTML('<h3> Select Operation: </h3>'), \n",
    "    BR_receipt_hbox,\n",
    "    widgets.HTML('<h3> Select Cumulative Sum: </h3>'), \n",
    "    BR_receipt_hbox_cumsum,\n",
    "    widgets.HTML('<br>'), \n",
    "    BR_receipt_ui,\n",
    "    widgets.HTML('<br>'),\n",
    "    BR_receipt_output,\n",
    "    BR_receipt_output_clean, \n",
    "    \n",
    "    # Add horizontal line\n",
    "    widgets.HTML('<hr>'), \n",
    "    \n",
    "    #### Visualization ####\n",
    "    widgets.HTML('<h1> Receipt Visualization </h1>')\n",
    "])"
   ]
  },
  {
   "cell_type": "code",
   "execution_count": 57,
   "metadata": {
    "ExecuteTime": {
     "end_time": "2021-05-14T22:03:14.064956Z",
     "start_time": "2021-05-14T22:03:13.771524Z"
    }
   },
   "outputs": [],
   "source": [
    "##### US TRADES ANALYSIS #####\n",
    "\n",
    "# Create analysis\n",
    "US_trade_analysis = widgets.VBox([\n",
    "    \n",
    "        #### Table ####\n",
    "        \n",
    "        widgets.HTML('<center> <h1> US Trades Data Analysis </h1> </center>'),\n",
    "    \n",
    "        # Futures Trades Table\n",
    "        widgets.HTML('<i> <h1> Futures Table </h1> </i>'),\n",
    "        widgets.HTML('The data shows financial operations and indicators results in <b> US Dolar (US$) </b> calculated for the United States of America trades using the financial operations displayed.'),\n",
    "        widgets.HTML('The <i> futures </i> table can show results from the following trades:'),\n",
    "        widgets.HTML('&emsp; <i> 6L </i> - Brazilian Real Futures'),\n",
    "        widgets.HTML('&emsp; <i> ES </i> - Mini S&P 500 Futures'),\n",
    "        widgets.HTML('&emsp; <i> MES </i> - Micro and Mini S&P 500 Futures'),\n",
    "        widgets.HTML('<h3> Select Trade: </h3>'), \n",
    "        US_futures_dropdown,\n",
    "        widgets.HTML('<h3> Select Operation: </h3>'),\n",
    "        US_futures_trades_hbox_operation,\n",
    "        widgets.HTML('<h3> Select Indicator: </h3>'), \n",
    "        US_futures_trades_hbox_financial,\n",
    "        widgets.HTML('<br>'), \n",
    "        US_futures_trades_ui,\n",
    "        widgets.HTML('<br>'), \n",
    "        US_futures_trades_output,\n",
    "        US_futures_trades_output_clean,\n",
    "        \n",
    "        # Equities Trades Table\n",
    "        widgets.HTML('<i> <h1> Equities Table </h1> </i>'),\n",
    "        widgets.HTML('The <i> equities </i> table can show results from the following trades:'),\n",
    "        widgets.HTML('&emsp; <i> MS </i> - Morgan Stanley Equities'),\n",
    "        widgets.HTML('&emsp; <i> PBR </i> - Petrobras Equities'),\n",
    "        widgets.HTML('<h3> Select Trade: </h3>'), \n",
    "        US_equities_dropdown,\n",
    "        widgets.HTML('<h3> Select Operation: </h3>'),\n",
    "        US_equities_trades_hbox_operation,\n",
    "        widgets.HTML('<h3> Select Indicator: </h3>'), \n",
    "        US_equities_trades_hbox_financial,\n",
    "        widgets.HTML('<br>'), \n",
    "        US_equities_trades_ui,\n",
    "        widgets.HTML('<br>'), \n",
    "        US_equities_trades_output,\n",
    "        US_equities_trades_output_clean, \n",
    "        \n",
    "        # Add horizontal line\n",
    "        widgets.HTML('<hr>'), \n",
    "    \n",
    "        ##### Visualization ####\n",
    "    \n",
    "        widgets.HTML('<h1> Trades Visualization </h1>'),\n",
    "        US_trades_viz_ui,\n",
    "        widgets.HTML('<br>'), \n",
    "        US_trades_viz_output,\n",
    "        US_trades_viz_output_clean\n",
    "])"
   ]
  },
  {
   "cell_type": "code",
   "execution_count": 58,
   "metadata": {
    "ExecuteTime": {
     "end_time": "2021-05-14T22:03:14.267522Z",
     "start_time": "2021-05-14T22:03:14.068330Z"
    }
   },
   "outputs": [],
   "source": [
    "##### US RECEIPT ANALYSIS #####\n",
    "\n",
    "# Create analysis\n",
    "US_receipt_analysis = widgets.VBox([\n",
    "    \n",
    "    # Title\n",
    "    widgets.HTML('<center> <h1> US Receipt Data Analysis </h1> </center>'),\n",
    "\n",
    "    # Futures Table\n",
    "    widgets.HTML('<i> <h1> Futures Trades </h1> </i>'),\n",
    "    widgets.HTML('The table shows the US trades recipt values in <b> US Dolar (US$) </b>. The receipt values displayed contains the sum of all <i> futures </i> trades results.'),\n",
    "    widgets.HTML('<h3> Select Operation: </h3>'), \n",
    "    US_futures_hbox,\n",
    "    widgets.HTML('<h3> Select Cumulative Sum: </h3>'), \n",
    "    US_futures_hbox_cumsum,\n",
    "    widgets.HTML('<br>'), \n",
    "    US_futures_ui,\n",
    "    widgets.HTML('<br>'), \n",
    "    US_futures_output,\n",
    "    US_futures_output_clean,\n",
    "    \n",
    "    # Equities Table\n",
    "    widgets.HTML('<i> <h1> Equities Trades </h1> </i>'),\n",
    "    widgets.HTML('The table shows the US trades recipt values in <b> US Dolar (US$) </b>. The receipt values displayed contains the sum of all <i> equities </i> trades results.'),\n",
    "    widgets.HTML('<h3> Select Operation: </h3>'), \n",
    "    US_equities_hbox,\n",
    "    widgets.HTML('<h3> Select Cumulative Sum: </h3>'), \n",
    "    US_equities_hbox_cumsum,\n",
    "    widgets.HTML('<br>'),\n",
    "    US_equities_ui,\n",
    "    widgets.HTML('<br>'), \n",
    "    US_equities_output,\n",
    "    US_equities_output_clean,\n",
    "    \n",
    "    # Add horizontal line\n",
    "    widgets.HTML('<hr>'), \n",
    "    \n",
    "    # Visualizations\n",
    "    widgets.HTML('<h2> Receipt Data Visualization </h2>')\n",
    "])"
   ]
  },
  {
   "cell_type": "code",
   "execution_count": 59,
   "metadata": {
    "ExecuteTime": {
     "end_time": "2021-05-14T22:03:14.360792Z",
     "start_time": "2021-05-14T22:03:14.271044Z"
    }
   },
   "outputs": [],
   "source": [
    "##### ALL TRADES ANALYSIS #####\n",
    "\n",
    "# Create analysis\n",
    "All_trades_analysis = widgets.VBox([\n",
    "    widgets.HTML('<center> <h1> Total Receipt Data Analysis </h1> </center>'),\n",
    "    widgets.HTML('<i> <h1> Receipt Table </h1> </i>'),\n",
    "    widgets.HTML('The data shows the United States of American and Brazilian trades recipt values in <b> US Dolar (US$) </b>. Beyond that, the table also shows the total receipt value and it´s return.'),\n",
    "    widgets.HTML('<h3> Select Operation: </h3>'), \n",
    "    all_trades_hbox,\n",
    "    widgets.HTML('<br>'), \n",
    "    all_trades_ui,\n",
    "    widgets.HTML('<br>'), \n",
    "    all_trades_output,\n",
    "    all_trades_output_clean \n",
    "])"
   ]
  },
  {
   "cell_type": "code",
   "execution_count": 60,
   "metadata": {
    "ExecuteTime": {
     "end_time": "2021-05-14T22:03:14.715860Z",
     "start_time": "2021-05-14T22:03:14.364554Z"
    }
   },
   "outputs": [
    {
     "data": {
      "application/vnd.jupyter.widget-view+json": {
       "model_id": "d50c7c78e92d47699e615adbbf68c680",
       "version_major": 2,
       "version_minor": 0
      },
      "text/plain": [
       "Tab(children=(VBox(children=(HTML(value='<center> <h1> Brazil Trades Data Analysis </h1> </center>'), HTML(val…"
      ]
     },
     "metadata": {},
     "output_type": "display_data"
    }
   ],
   "source": [
    "##### DISPLAY TABS #####\n",
    "\n",
    "# Create nested tab\n",
    "tab_nest = widgets.Tab()\n",
    "\n",
    "# Set each tab analysis\n",
    "tab_nest.children = [BR_trade_analysis, BR_receipt_analysis, US_trade_analysis, US_receipt_analysis, All_trades_analysis]\n",
    "\n",
    "# Set tab title\n",
    "tab_nest.set_title(0, 'Brazil Trades')\n",
    "tab_nest.set_title(1, 'Brazil Recipt')\n",
    "tab_nest.set_title(2, 'US Trades')\n",
    "tab_nest.set_title(3, 'US Receipt')\n",
    "tab_nest.set_title(4, 'Total Receipt')\n",
    "\n",
    "# Plot tab\n",
    "tab_nest"
   ]
  }
 ],
 "metadata": {
  "kernelspec": {
   "display_name": "Python 3",
   "language": "python",
   "name": "python3"
  },
  "language_info": {
   "codemirror_mode": {
    "name": "ipython",
    "version": 3
   },
   "file_extension": ".py",
   "mimetype": "text/x-python",
   "name": "python",
   "nbconvert_exporter": "python",
   "pygments_lexer": "ipython3",
   "version": "3.8.5"
  },
  "varInspector": {
   "cols": {
    "lenName": 16,
    "lenType": 16,
    "lenVar": 40
   },
   "kernels_config": {
    "python": {
     "delete_cmd_postfix": "",
     "delete_cmd_prefix": "del ",
     "library": "var_list.py",
     "varRefreshCmd": "print(var_dic_list())"
    },
    "r": {
     "delete_cmd_postfix": ") ",
     "delete_cmd_prefix": "rm(",
     "library": "var_list.r",
     "varRefreshCmd": "cat(var_dic_list()) "
    }
   },
   "types_to_exclude": [
    "module",
    "function",
    "builtin_function_or_method",
    "instance",
    "_Feature"
   ],
   "window_display": false
  }
 },
 "nbformat": 4,
 "nbformat_minor": 4
}
