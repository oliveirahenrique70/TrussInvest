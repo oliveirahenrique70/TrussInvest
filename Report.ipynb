{
 "cells": [
  {
   "cell_type": "code",
   "execution_count": 46,
   "metadata": {
    "ExecuteTime": {
     "end_time": "2021-04-28T18:00:54.542596Z",
     "start_time": "2021-04-28T18:00:54.529594Z"
    }
   },
   "outputs": [],
   "source": [
    "# Load packages\n",
    "import glob\n",
    "import os\n",
    "import ipywidgets as widgets\n",
    "from ipywidgets import Layout, interact, interactive\n",
    "from IPython.display import clear_output, display, HTML\n",
    "\n",
    "from functions import * "
   ]
  },
  {
   "cell_type": "code",
   "execution_count": 47,
   "metadata": {
    "ExecuteTime": {
     "end_time": "2021-04-28T18:00:54.713988Z",
     "start_time": "2021-04-28T18:00:54.543557Z"
    }
   },
   "outputs": [
    {
     "name": "stdout",
     "output_type": "stream",
     "text": [
      "C:\\Users\\55819\\Truss Investments - BR and US Trades\\GitHub Report\n"
     ]
    }
   ],
   "source": [
    "print(os.getcwd())"
   ]
  },
  {
   "cell_type": "code",
   "execution_count": 48,
   "metadata": {
    "ExecuteTime": {
     "end_time": "2021-04-28T18:00:54.808459Z",
     "start_time": "2021-04-28T18:00:54.714990Z"
    }
   },
   "outputs": [
    {
     "name": "stdout",
     "output_type": "stream",
     "text": [
      "test\n"
     ]
    }
   ],
   "source": [
    "# Print test\n",
    "print('test')"
   ]
  },
  {
   "cell_type": "code",
   "execution_count": 49,
   "metadata": {
    "ExecuteTime": {
     "end_time": "2021-04-28T18:00:54.886604Z",
     "start_time": "2021-04-28T18:00:54.811454Z"
    }
   },
   "outputs": [],
   "source": [
    "all_files = Get_Trades()"
   ]
  },
  {
   "cell_type": "code",
   "execution_count": 50,
   "metadata": {
    "ExecuteTime": {
     "end_time": "2021-04-28T18:00:54.964908Z",
     "start_time": "2021-04-28T18:00:54.888530Z"
    }
   },
   "outputs": [],
   "source": [
    "# Function to get data for BR_trades\n",
    "def Trade_Select(trade):\n",
    "    \n",
    "    for i in range(0, len(all_files)):\n",
    "        \n",
    "        if (all_files[i]['Ticker'][0] == trade):\n",
    "            \n",
    "            return(all_files[i])  "
   ]
  },
  {
   "cell_type": "code",
   "execution_count": 51,
   "metadata": {
    "ExecuteTime": {
     "end_time": "2021-04-28T18:00:55.072796Z",
     "start_time": "2021-04-28T18:00:54.966908Z"
    }
   },
   "outputs": [],
   "source": [
    "##### BRAZIL TRADES DROPDOWN MENU #####\n",
    "\n",
    "# Create dropdown menu to selct trade\n",
    "trade_dropdown = interactive(Trade_Select,\n",
    "                                trade = widgets.Combobox(\n",
    "                                    options= ['DOLG21','DOLQ20'],\n",
    "                                    description=\"Trades:\")\n",
    "                               )"
   ]
  },
  {
   "cell_type": "code",
   "execution_count": 52,
   "metadata": {
    "ExecuteTime": {
     "end_time": "2021-04-28T18:00:55.183134Z",
     "start_time": "2021-04-28T18:00:55.074791Z"
    }
   },
   "outputs": [
    {
     "name": "stdout",
     "output_type": "stream",
     "text": [
      "[          Date  Ticker  Buy Quant    Buy Price  ...  Register Fee  Avg Weekly Traded Vol    Exc Fee      Net P&L\n",
      "0   11/01/2021  DOLG21       70.0  5495.535714  ...          1.05                    NaN  763.91490 -22083.91490\n",
      "1   18/01/2021  DOLG21       25.0  5267.300000  ...          1.05                    NaN  218.26140  15954.73860\n",
      "2   19/01/2021  DOLG21        0.0     0.000000  ...          1.05                    NaN    0.00000  28282.50000\n",
      "3   20/01/2021  DOLG21        0.0     0.000000  ...          1.05                    NaN    0.00000 -15336.50000\n",
      "4   21/01/2021  DOLG21        0.0     0.000000  ...          1.05                    NaN    0.00000  24068.50000\n",
      "5   22/01/2021  DOLG21        0.0     0.000000  ...          1.05                    NaN    0.00000  49834.50000\n",
      "6   26/01/2021  DOLG21        0.0     0.000000  ...          1.05                    NaN    0.00000 -59678.00000\n",
      "7   27/01/2021  DOLG21        0.0     0.000000  ...          1.05                    NaN    0.00000  21429.50000\n",
      "8   28/01/2021  DOLG21        0.0     0.000000  ...          1.05                    NaN    0.00000  23109.00000\n",
      "9   29/01/2021  DOLG21        0.0     0.000000  ...          1.05                    NaN    0.00000  19797.50000\n",
      "10  01/02/2021  DOLG21        0.0     0.000000  ...          1.05              20.952381   57.49695    -62.49695\n",
      "\n",
      "[11 rows x 17 columns],          Date  Ticker  Px Close  Buy Quant  Buy Price  ...  Comm  Register Fee  Avg Weekly Traded Vol  Exc Fee   Net P&L\n",
      "0  06/07/2020  DOLQ20   5365.00       35.0    5358.50  ...  35.0          1.05                    NaN  393.813 -5311.313\n",
      "1  07/07/2020  DOLQ20   5380.50       10.0    5373.50  ...  10.0          1.05                    NaN  112.518  -872.518\n",
      "2  08/07/2020  DOLQ20   5341.00       10.0    5361.50  ...  10.0          1.05                    NaN  112.518 -3747.518\n",
      "3  29/07/2020  DOLQ20   5152.69       20.0    5168.13  ...  20.0          1.05                    NaN  225.036   254.964\n",
      "4  30/07/2020  DOLQ20   5150.64       80.0    5198.53  ...  80.0          1.05                    NaN  900.144  2259.856\n",
      "\n",
      "[5 rows x 17 columns]]\n"
     ]
    }
   ],
   "source": [
    "print(all_files)"
   ]
  },
  {
   "cell_type": "code",
   "execution_count": 53,
   "metadata": {
    "ExecuteTime": {
     "end_time": "2021-04-28T18:00:55.306647Z",
     "start_time": "2021-04-28T18:00:55.184959Z"
    }
   },
   "outputs": [],
   "source": [
    "##### BRAZIL TRADES BUTTONS #####\n",
    "\n",
    "# Create button and output\n",
    "submit_button = Button_Sumbmit()\n",
    "\n",
    "# Create button output\n",
    "output = widgets.Output()\n",
    "\n",
    "# Create button and output\n",
    "clean_button = Button_Clean()\n",
    "\n",
    "# Create button output\n",
    "output_clean = widgets.Output()\n",
    "\n",
    "# Unite buttons\n",
    "ui = widgets.HBox([submit_button, clean_button])"
   ]
  },
  {
   "cell_type": "code",
   "execution_count": 54,
   "metadata": {
    "ExecuteTime": {
     "end_time": "2021-04-28T18:00:55.385017Z",
     "start_time": "2021-04-28T18:00:55.308642Z"
    }
   },
   "outputs": [],
   "source": [
    "# Create button clicked function\n",
    "def Trades_Clicked(b):  \n",
    "    with output:\n",
    "        \n",
    "        # Clean output\n",
    "        clear_output()\n",
    "        \n",
    "        # Create selected_data list\n",
    "        selected_data = []\n",
    "        \n",
    "        # Fixede variables\n",
    "        fixed = ['Date', 'Ticker']\n",
    "        \n",
    "        # Create trade dataframe\n",
    "        df = trade_dropdown.result\n",
    "        \n",
    "        display(df.style.set_precision(2))\n",
    "        \n",
    "# Create clean button function\n",
    "def Trades_Clean_Clicked(b):  \n",
    "    with output_clean:\n",
    "        \n",
    "        # Clean output\n",
    "        output.clear_output()"
   ]
  },
  {
   "cell_type": "code",
   "execution_count": 55,
   "metadata": {
    "ExecuteTime": {
     "end_time": "2021-04-28T18:00:55.477629Z",
     "start_time": "2021-04-28T18:00:55.385927Z"
    }
   },
   "outputs": [],
   "source": [
    "\n",
    "# On button click\n",
    "submit_button.on_click(Trades_Clicked)\n",
    "clean_button.on_click(Trades_Clean_Clicked)"
   ]
  },
  {
   "cell_type": "code",
   "execution_count": 56,
   "metadata": {
    "ExecuteTime": {
     "end_time": "2021-04-28T18:00:55.600917Z",
     "start_time": "2021-04-28T18:00:55.480653Z"
    }
   },
   "outputs": [
    {
     "data": {
      "application/vnd.jupyter.widget-view+json": {
       "model_id": "a1a8369e89574e458244ff30944c8439",
       "version_major": 2,
       "version_minor": 0
      },
      "text/plain": [
       "VBox(children=(interactive(children=(Combobox(value='', description='Trades:', options=('DOLG21', 'DOLQ20')), …"
      ]
     },
     "metadata": {},
     "output_type": "display_data"
    }
   ],
   "source": [
    "widgets.VBox([\n",
    "    trade_dropdown,\n",
    "    widgets.HTML('<h2> All Trades Data Analysis </h2>'),\n",
    "    widgets.HTML('US and BR trades results table.'),\n",
    "    widgets.HTML('<br>'),\n",
    "    widgets.HTML('<h3> Select Operation: </h3>'), \n",
    "    widgets.HTML('<br>'), \n",
    "    ui,\n",
    "    widgets.HTML('<br>'), \n",
    "    output,\n",
    "    output_clean\n",
    "])"
   ]
  }
 ],
 "metadata": {
  "kernelspec": {
   "display_name": "Python 3",
   "language": "python",
   "name": "python3"
  },
  "language_info": {
   "codemirror_mode": {
    "name": "ipython",
    "version": 3
   },
   "file_extension": ".py",
   "mimetype": "text/x-python",
   "name": "python",
   "nbconvert_exporter": "python",
   "pygments_lexer": "ipython3",
   "version": "3.8.5"
  },
  "varInspector": {
   "cols": {
    "lenName": 16,
    "lenType": 16,
    "lenVar": 40
   },
   "kernels_config": {
    "python": {
     "delete_cmd_postfix": "",
     "delete_cmd_prefix": "del ",
     "library": "var_list.py",
     "varRefreshCmd": "print(var_dic_list())"
    },
    "r": {
     "delete_cmd_postfix": ") ",
     "delete_cmd_prefix": "rm(",
     "library": "var_list.r",
     "varRefreshCmd": "cat(var_dic_list()) "
    }
   },
   "types_to_exclude": [
    "module",
    "function",
    "builtin_function_or_method",
    "instance",
    "_Feature"
   ],
   "window_display": false
  }
 },
 "nbformat": 4,
 "nbformat_minor": 4
}
