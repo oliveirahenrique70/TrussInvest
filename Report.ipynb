{
 "cells": [
  {
   "cell_type": "code",
   "execution_count": 1,
   "metadata": {
    "ExecuteTime": {
     "end_time": "2021-04-28T17:49:46.313387Z",
     "start_time": "2021-04-28T17:49:46.298115Z"
    }
   },
   "outputs": [],
   "source": [
    "# Load packages\n",
    "import glob\n",
    "import os\n",
    "import ipywidgets as widgets\n",
    "from ipywidgets import Layout, interact, interactive"
   ]
  },
  {
   "cell_type": "code",
   "execution_count": null,
   "metadata": {},
   "outputs": [],
   "source": [
    "print(os.getcwd())"
   ]
  },
  {
   "cell_type": "code",
   "execution_count": null,
   "metadata": {
    "ExecuteTime": {
     "end_time": "2021-04-28T17:43:43.070496Z",
     "start_time": "2021-04-28T17:43:43.057546Z"
    }
   },
   "outputs": [],
   "source": [
    "# Print test\n",
    "print('test')"
   ]
  },
  {
   "cell_type": "code",
   "execution_count": null,
   "metadata": {},
   "outputs": [],
   "source": [
    "all_files = Get_Trades()"
   ]
  },
  {
   "cell_type": "code",
   "execution_count": null,
   "metadata": {
    "ExecuteTime": {
     "end_time": "2021-04-28T17:42:34.509502Z",
     "start_time": "2021-04-28T17:42:34.497535Z"
    }
   },
   "outputs": [],
   "source": [
    "# Function to get data for BR_trades\n",
    "def Trade_Select(trade):\n",
    "    \n",
    "    for i in range(0, len(all_files)):\n",
    "        \n",
    "        if (all_files[i]['Ticker'][0] == trade):\n",
    "            \n",
    "            return(all_files[i])  "
   ]
  },
  {
   "cell_type": "code",
   "execution_count": null,
   "metadata": {
    "ExecuteTime": {
     "end_time": "2021-04-28T17:44:14.055980Z",
     "start_time": "2021-04-28T17:44:14.042016Z"
    }
   },
   "outputs": [],
   "source": [
    "##### BRAZIL TRADES DROPDOWN MENU #####\n",
    "\n",
    "# Create dropdown menu to selct trade\n",
    "BR_trade_dropdown = interactive(Trade_Select,\n",
    "                                trade = widgets.Combobox(\n",
    "                                    options= ['DOLG21','DOLQ20'],\n",
    "                                    description=\"Trades:\")\n",
    "                               )"
   ]
  },
  {
   "cell_type": "code",
   "execution_count": null,
   "metadata": {},
   "outputs": [],
   "source": [
    "print(all_files)"
   ]
  }
 ],
 "metadata": {
  "kernelspec": {
   "display_name": "Python 3",
   "language": "python",
   "name": "python3"
  },
  "language_info": {
   "codemirror_mode": {
    "name": "ipython",
    "version": 3
   },
   "file_extension": ".py",
   "mimetype": "text/x-python",
   "name": "python",
   "nbconvert_exporter": "python",
   "pygments_lexer": "ipython3",
   "version": "3.8.5"
  },
  "varInspector": {
   "cols": {
    "lenName": 16,
    "lenType": 16,
    "lenVar": 40
   },
   "kernels_config": {
    "python": {
     "delete_cmd_postfix": "",
     "delete_cmd_prefix": "del ",
     "library": "var_list.py",
     "varRefreshCmd": "print(var_dic_list())"
    },
    "r": {
     "delete_cmd_postfix": ") ",
     "delete_cmd_prefix": "rm(",
     "library": "var_list.r",
     "varRefreshCmd": "cat(var_dic_list()) "
    }
   },
   "types_to_exclude": [
    "module",
    "function",
    "builtin_function_or_method",
    "instance",
    "_Feature"
   ],
   "window_display": false
  }
 },
 "nbformat": 4,
 "nbformat_minor": 4
}
